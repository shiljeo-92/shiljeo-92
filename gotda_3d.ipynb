{
  "cells": [
    {
      "cell_type": "markdown",
      "metadata": {
        "id": "view-in-github",
        "colab_type": "text"
      },
      "source": [
        "<a href=\"https://colab.research.google.com/github/shiljeo-92/shiljeo-92/blob/main/gotda_3d.ipynb\" target=\"_parent\"><img src=\"https://colab.research.google.com/assets/colab-badge.svg\" alt=\"Open In Colab\"/></a>"
      ]
    },
    {
      "cell_type": "code",
      "source": [
        "pip install pycaret"
      ],
      "metadata": {
        "colab": {
          "base_uri": "https://localhost:8080/"
        },
        "id": "vf9sUi9nU-U-",
        "outputId": "6c2dec5f-4c28-4883-b138-9c2cceab407e"
      },
      "execution_count": null,
      "outputs": [
        {
          "output_type": "stream",
          "name": "stdout",
          "text": [
            "Collecting pycaret\n",
            "  Downloading pycaret-3.3.0-py3-none-any.whl (485 kB)\n",
            "\u001b[2K     \u001b[90m━━━━━━━━━━━━━━━━━━━━━━━━━━━━━━━━━━━━━━━━\u001b[0m \u001b[32m485.9/485.9 kB\u001b[0m \u001b[31m5.3 MB/s\u001b[0m eta \u001b[36m0:00:00\u001b[0m\n",
            "\u001b[?25hRequirement already satisfied: ipython>=5.5.0 in /usr/local/lib/python3.10/dist-packages (from pycaret) (7.34.0)\n",
            "Requirement already satisfied: ipywidgets>=7.6.5 in /usr/local/lib/python3.10/dist-packages (from pycaret) (7.7.1)\n",
            "Requirement already satisfied: tqdm>=4.62.0 in /usr/local/lib/python3.10/dist-packages (from pycaret) (4.66.2)\n",
            "Requirement already satisfied: numpy<1.27,>=1.21 in /usr/local/lib/python3.10/dist-packages (from pycaret) (1.25.2)\n",
            "Requirement already satisfied: pandas<2.2.0 in /usr/local/lib/python3.10/dist-packages (from pycaret) (1.5.3)\n",
            "Requirement already satisfied: jinja2>=3 in /usr/local/lib/python3.10/dist-packages (from pycaret) (3.1.3)\n",
            "Requirement already satisfied: scipy<=1.11.4,>=1.6.1 in /usr/local/lib/python3.10/dist-packages (from pycaret) (1.11.4)\n",
            "Requirement already satisfied: joblib>=1.2.0 in /usr/local/lib/python3.10/dist-packages (from pycaret) (1.3.2)\n",
            "Collecting scikit-learn>1.4.0 (from pycaret)\n",
            "  Downloading scikit_learn-1.4.1.post1-cp310-cp310-manylinux_2_17_x86_64.manylinux2014_x86_64.whl (12.1 MB)\n",
            "\u001b[2K     \u001b[90m━━━━━━━━━━━━━━━━━━━━━━━━━━━━━━━━━━━━━━━━\u001b[0m \u001b[32m12.1/12.1 MB\u001b[0m \u001b[31m52.3 MB/s\u001b[0m eta \u001b[36m0:00:00\u001b[0m\n",
            "\u001b[?25hCollecting pyod>=1.1.3 (from pycaret)\n",
            "  Downloading pyod-1.1.3.tar.gz (160 kB)\n",
            "\u001b[2K     \u001b[90m━━━━━━━━━━━━━━━━━━━━━━━━━━━━━━━━━━━━━━━━\u001b[0m \u001b[32m160.5/160.5 kB\u001b[0m \u001b[31m14.3 MB/s\u001b[0m eta \u001b[36m0:00:00\u001b[0m\n",
            "\u001b[?25h  Preparing metadata (setup.py) ... \u001b[?25l\u001b[?25hdone\n",
            "Collecting imbalanced-learn>=0.12.0 (from pycaret)\n",
            "  Downloading imbalanced_learn-0.12.0-py3-none-any.whl (257 kB)\n",
            "\u001b[2K     \u001b[90m━━━━━━━━━━━━━━━━━━━━━━━━━━━━━━━━━━━━━━━━\u001b[0m \u001b[32m257.7/257.7 kB\u001b[0m \u001b[31m20.9 MB/s\u001b[0m eta \u001b[36m0:00:00\u001b[0m\n",
            "\u001b[?25hCollecting category-encoders>=2.4.0 (from pycaret)\n",
            "  Downloading category_encoders-2.6.3-py2.py3-none-any.whl (81 kB)\n",
            "\u001b[2K     \u001b[90m━━━━━━━━━━━━━━━━━━━━━━━━━━━━━━━━━━━━━━━━\u001b[0m \u001b[32m81.9/81.9 kB\u001b[0m \u001b[31m4.9 MB/s\u001b[0m eta \u001b[36m0:00:00\u001b[0m\n",
            "\u001b[?25hRequirement already satisfied: lightgbm>=3.0.0 in /usr/local/lib/python3.10/dist-packages (from pycaret) (4.1.0)\n",
            "Requirement already satisfied: numba>=0.55.0 in /usr/local/lib/python3.10/dist-packages (from pycaret) (0.58.1)\n",
            "Requirement already satisfied: requests>=2.27.1 in /usr/local/lib/python3.10/dist-packages (from pycaret) (2.31.0)\n",
            "Requirement already satisfied: psutil>=5.9.0 in /usr/local/lib/python3.10/dist-packages (from pycaret) (5.9.5)\n",
            "Requirement already satisfied: markupsafe>=2.0.1 in /usr/local/lib/python3.10/dist-packages (from pycaret) (2.1.5)\n",
            "Requirement already satisfied: importlib-metadata>=4.12.0 in /usr/local/lib/python3.10/dist-packages (from pycaret) (7.0.2)\n",
            "Requirement already satisfied: nbformat>=4.2.0 in /usr/local/lib/python3.10/dist-packages (from pycaret) (5.10.3)\n",
            "Requirement already satisfied: cloudpickle in /usr/local/lib/python3.10/dist-packages (from pycaret) (2.2.1)\n",
            "Collecting deprecation>=2.1.0 (from pycaret)\n",
            "  Downloading deprecation-2.1.0-py2.py3-none-any.whl (11 kB)\n",
            "Collecting xxhash (from pycaret)\n",
            "  Downloading xxhash-3.4.1-cp310-cp310-manylinux_2_17_x86_64.manylinux2014_x86_64.whl (194 kB)\n",
            "\u001b[2K     \u001b[90m━━━━━━━━━━━━━━━━━━━━━━━━━━━━━━━━━━━━━━━━\u001b[0m \u001b[32m194.1/194.1 kB\u001b[0m \u001b[31m8.4 MB/s\u001b[0m eta \u001b[36m0:00:00\u001b[0m\n",
            "\u001b[?25hRequirement already satisfied: matplotlib<3.8.0 in /usr/local/lib/python3.10/dist-packages (from pycaret) (3.7.1)\n",
            "Collecting scikit-plot>=0.3.7 (from pycaret)\n",
            "  Downloading scikit_plot-0.3.7-py3-none-any.whl (33 kB)\n",
            "Requirement already satisfied: yellowbrick>=1.4 in /usr/local/lib/python3.10/dist-packages (from pycaret) (1.5)\n",
            "Requirement already satisfied: plotly>=5.14.0 in /usr/local/lib/python3.10/dist-packages (from pycaret) (5.15.0)\n",
            "Collecting kaleido>=0.2.1 (from pycaret)\n",
            "  Downloading kaleido-0.2.1-py2.py3-none-manylinux1_x86_64.whl (79.9 MB)\n",
            "\u001b[2K     \u001b[90m━━━━━━━━━━━━━━━━━━━━━━━━━━━━━━━━━━━━━━━━\u001b[0m \u001b[32m79.9/79.9 MB\u001b[0m \u001b[31m7.8 MB/s\u001b[0m eta \u001b[36m0:00:00\u001b[0m\n",
            "\u001b[?25hCollecting schemdraw==0.15 (from pycaret)\n",
            "  Downloading schemdraw-0.15-py3-none-any.whl (106 kB)\n",
            "\u001b[2K     \u001b[90m━━━━━━━━━━━━━━━━━━━━━━━━━━━━━━━━━━━━━━━━\u001b[0m \u001b[32m106.8/106.8 kB\u001b[0m \u001b[31m5.1 MB/s\u001b[0m eta \u001b[36m0:00:00\u001b[0m\n",
            "\u001b[?25hCollecting plotly-resampler>=0.8.3.1 (from pycaret)\n",
            "  Downloading plotly_resampler-0.9.2-py3-none-any.whl (81 kB)\n",
            "\u001b[2K     \u001b[90m━━━━━━━━━━━━━━━━━━━━━━━━━━━━━━━━━━━━━━━━\u001b[0m \u001b[32m81.1/81.1 kB\u001b[0m \u001b[31m5.0 MB/s\u001b[0m eta \u001b[36m0:00:00\u001b[0m\n",
            "\u001b[?25hRequirement already satisfied: statsmodels>=0.12.1 in /usr/local/lib/python3.10/dist-packages (from pycaret) (0.14.1)\n",
            "Collecting sktime>=0.26.0 (from pycaret)\n",
            "  Downloading sktime-0.27.1-py3-none-any.whl (21.9 MB)\n",
            "\u001b[2K     \u001b[90m━━━━━━━━━━━━━━━━━━━━━━━━━━━━━━━━━━━━━━━━\u001b[0m \u001b[32m21.9/21.9 MB\u001b[0m \u001b[31m24.8 MB/s\u001b[0m eta \u001b[36m0:00:00\u001b[0m\n",
            "\u001b[?25hCollecting tbats>=1.1.3 (from pycaret)\n",
            "  Downloading tbats-1.1.3-py3-none-any.whl (44 kB)\n",
            "\u001b[2K     \u001b[90m━━━━━━━━━━━━━━━━━━━━━━━━━━━━━━━━━━━━━━━━\u001b[0m \u001b[32m44.0/44.0 kB\u001b[0m \u001b[31m1.3 MB/s\u001b[0m eta \u001b[36m0:00:00\u001b[0m\n",
            "\u001b[?25hCollecting pmdarima>=2.0.4 (from pycaret)\n",
            "  Downloading pmdarima-2.0.4-cp310-cp310-manylinux_2_17_x86_64.manylinux2014_x86_64.manylinux_2_28_x86_64.whl (2.1 MB)\n",
            "\u001b[2K     \u001b[90m━━━━━━━━━━━━━━━━━━━━━━━━━━━━━━━━━━━━━━━━\u001b[0m \u001b[32m2.1/2.1 MB\u001b[0m \u001b[31m22.3 MB/s\u001b[0m eta \u001b[36m0:00:00\u001b[0m\n",
            "\u001b[?25hCollecting wurlitzer (from pycaret)\n",
            "  Downloading wurlitzer-3.0.3-py3-none-any.whl (7.3 kB)\n",
            "Requirement already satisfied: patsy>=0.5.1 in /usr/local/lib/python3.10/dist-packages (from category-encoders>=2.4.0->pycaret) (0.5.6)\n",
            "Requirement already satisfied: packaging in /usr/local/lib/python3.10/dist-packages (from deprecation>=2.1.0->pycaret) (24.0)\n",
            "Requirement already satisfied: threadpoolctl>=2.0.0 in /usr/local/lib/python3.10/dist-packages (from imbalanced-learn>=0.12.0->pycaret) (3.3.0)\n",
            "Requirement already satisfied: zipp>=0.5 in /usr/local/lib/python3.10/dist-packages (from importlib-metadata>=4.12.0->pycaret) (3.18.1)\n",
            "Requirement already satisfied: setuptools>=18.5 in /usr/local/lib/python3.10/dist-packages (from ipython>=5.5.0->pycaret) (67.7.2)\n",
            "Collecting jedi>=0.16 (from ipython>=5.5.0->pycaret)\n",
            "  Downloading jedi-0.19.1-py2.py3-none-any.whl (1.6 MB)\n",
            "\u001b[2K     \u001b[90m━━━━━━━━━━━━━━━━━━━━━━━━━━━━━━━━━━━━━━━━\u001b[0m \u001b[32m1.6/1.6 MB\u001b[0m \u001b[31m23.6 MB/s\u001b[0m eta \u001b[36m0:00:00\u001b[0m\n",
            "\u001b[?25hRequirement already satisfied: decorator in /usr/local/lib/python3.10/dist-packages (from ipython>=5.5.0->pycaret) (4.4.2)\n",
            "Requirement already satisfied: pickleshare in /usr/local/lib/python3.10/dist-packages (from ipython>=5.5.0->pycaret) (0.7.5)\n",
            "Requirement already satisfied: traitlets>=4.2 in /usr/local/lib/python3.10/dist-packages (from ipython>=5.5.0->pycaret) (5.7.1)\n",
            "Requirement already satisfied: prompt-toolkit!=3.0.0,!=3.0.1,<3.1.0,>=2.0.0 in /usr/local/lib/python3.10/dist-packages (from ipython>=5.5.0->pycaret) (3.0.43)\n",
            "Requirement already satisfied: pygments in /usr/local/lib/python3.10/dist-packages (from ipython>=5.5.0->pycaret) (2.16.1)\n",
            "Requirement already satisfied: backcall in /usr/local/lib/python3.10/dist-packages (from ipython>=5.5.0->pycaret) (0.2.0)\n",
            "Requirement already satisfied: matplotlib-inline in /usr/local/lib/python3.10/dist-packages (from ipython>=5.5.0->pycaret) (0.1.6)\n",
            "Requirement already satisfied: pexpect>4.3 in /usr/local/lib/python3.10/dist-packages (from ipython>=5.5.0->pycaret) (4.9.0)\n",
            "Requirement already satisfied: ipykernel>=4.5.1 in /usr/local/lib/python3.10/dist-packages (from ipywidgets>=7.6.5->pycaret) (5.5.6)\n",
            "Requirement already satisfied: ipython-genutils~=0.2.0 in /usr/local/lib/python3.10/dist-packages (from ipywidgets>=7.6.5->pycaret) (0.2.0)\n",
            "Requirement already satisfied: widgetsnbextension~=3.6.0 in /usr/local/lib/python3.10/dist-packages (from ipywidgets>=7.6.5->pycaret) (3.6.6)\n",
            "Requirement already satisfied: jupyterlab-widgets>=1.0.0 in /usr/local/lib/python3.10/dist-packages (from ipywidgets>=7.6.5->pycaret) (3.0.10)\n",
            "Requirement already satisfied: contourpy>=1.0.1 in /usr/local/lib/python3.10/dist-packages (from matplotlib<3.8.0->pycaret) (1.2.0)\n",
            "Requirement already satisfied: cycler>=0.10 in /usr/local/lib/python3.10/dist-packages (from matplotlib<3.8.0->pycaret) (0.12.1)\n",
            "Requirement already satisfied: fonttools>=4.22.0 in /usr/local/lib/python3.10/dist-packages (from matplotlib<3.8.0->pycaret) (4.50.0)\n",
            "Requirement already satisfied: kiwisolver>=1.0.1 in /usr/local/lib/python3.10/dist-packages (from matplotlib<3.8.0->pycaret) (1.4.5)\n",
            "Requirement already satisfied: pillow>=6.2.0 in /usr/local/lib/python3.10/dist-packages (from matplotlib<3.8.0->pycaret) (9.4.0)\n",
            "Requirement already satisfied: pyparsing>=2.3.1 in /usr/local/lib/python3.10/dist-packages (from matplotlib<3.8.0->pycaret) (3.1.2)\n",
            "Requirement already satisfied: python-dateutil>=2.7 in /usr/local/lib/python3.10/dist-packages (from matplotlib<3.8.0->pycaret) (2.8.2)\n",
            "Requirement already satisfied: fastjsonschema in /usr/local/lib/python3.10/dist-packages (from nbformat>=4.2.0->pycaret) (2.19.1)\n",
            "Requirement already satisfied: jsonschema>=2.6 in /usr/local/lib/python3.10/dist-packages (from nbformat>=4.2.0->pycaret) (4.19.2)\n",
            "Requirement already satisfied: jupyter-core in /usr/local/lib/python3.10/dist-packages (from nbformat>=4.2.0->pycaret) (5.7.2)\n",
            "Requirement already satisfied: llvmlite<0.42,>=0.41.0dev0 in /usr/local/lib/python3.10/dist-packages (from numba>=0.55.0->pycaret) (0.41.1)\n",
            "Requirement already satisfied: pytz>=2020.1 in /usr/local/lib/python3.10/dist-packages (from pandas<2.2.0->pycaret) (2023.4)\n",
            "Requirement already satisfied: tenacity>=6.2.0 in /usr/local/lib/python3.10/dist-packages (from plotly>=5.14.0->pycaret) (8.2.3)\n",
            "Collecting dash>=2.9.0 (from plotly-resampler>=0.8.3.1->pycaret)\n",
            "  Downloading dash-2.16.1-py3-none-any.whl (10.2 MB)\n",
            "\u001b[2K     \u001b[90m━━━━━━━━━━━━━━━━━━━━━━━━━━━━━━━━━━━━━━━━\u001b[0m \u001b[32m10.2/10.2 MB\u001b[0m \u001b[31m19.3 MB/s\u001b[0m eta \u001b[36m0:00:00\u001b[0m\n",
            "\u001b[?25hCollecting orjson<4.0.0,>=3.8.0 (from plotly-resampler>=0.8.3.1->pycaret)\n",
            "  Downloading orjson-3.9.15-cp310-cp310-manylinux_2_17_x86_64.manylinux2014_x86_64.whl (138 kB)\n",
            "\u001b[2K     \u001b[90m━━━━━━━━━━━━━━━━━━━━━━━━━━━━━━━━━━━━━━━━\u001b[0m \u001b[32m138.5/138.5 kB\u001b[0m \u001b[31m671.7 kB/s\u001b[0m eta \u001b[36m0:00:00\u001b[0m\n",
            "\u001b[?25hCollecting tsdownsample==0.1.2 (from plotly-resampler>=0.8.3.1->pycaret)\n",
            "  Downloading tsdownsample-0.1.2-cp310-cp310-manylinux_2_17_x86_64.manylinux2014_x86_64.whl (2.3 MB)\n",
            "\u001b[2K     \u001b[90m━━━━━━━━━━━━━━━━━━━━━━━━━━━━━━━━━━━━━━━━\u001b[0m \u001b[32m2.3/2.3 MB\u001b[0m \u001b[31m29.7 MB/s\u001b[0m eta \u001b[36m0:00:00\u001b[0m\n",
            "\u001b[?25hRequirement already satisfied: Cython!=0.29.18,!=0.29.31,>=0.29 in /usr/local/lib/python3.10/dist-packages (from pmdarima>=2.0.4->pycaret) (3.0.9)\n",
            "Requirement already satisfied: urllib3 in /usr/local/lib/python3.10/dist-packages (from pmdarima>=2.0.4->pycaret) (2.0.7)\n",
            "Requirement already satisfied: six in /usr/local/lib/python3.10/dist-packages (from pyod>=1.1.3->pycaret) (1.16.0)\n",
            "Requirement already satisfied: charset-normalizer<4,>=2 in /usr/local/lib/python3.10/dist-packages (from requests>=2.27.1->pycaret) (3.3.2)\n",
            "Requirement already satisfied: idna<4,>=2.5 in /usr/local/lib/python3.10/dist-packages (from requests>=2.27.1->pycaret) (3.6)\n",
            "Requirement already satisfied: certifi>=2017.4.17 in /usr/local/lib/python3.10/dist-packages (from requests>=2.27.1->pycaret) (2024.2.2)\n",
            "Collecting scikit-base<0.8.0 (from sktime>=0.26.0->pycaret)\n",
            "  Downloading scikit_base-0.7.5-py3-none-any.whl (128 kB)\n",
            "\u001b[2K     \u001b[90m━━━━━━━━━━━━━━━━━━━━━━━━━━━━━━━━━━━━━━━━\u001b[0m \u001b[32m128.8/128.8 kB\u001b[0m \u001b[31m6.4 MB/s\u001b[0m eta \u001b[36m0:00:00\u001b[0m\n",
            "\u001b[?25hRequirement already satisfied: Flask<3.1,>=1.0.4 in /usr/local/lib/python3.10/dist-packages (from dash>=2.9.0->plotly-resampler>=0.8.3.1->pycaret) (2.2.5)\n",
            "Requirement already satisfied: Werkzeug<3.1 in /usr/local/lib/python3.10/dist-packages (from dash>=2.9.0->plotly-resampler>=0.8.3.1->pycaret) (3.0.1)\n",
            "Collecting dash-html-components==2.0.0 (from dash>=2.9.0->plotly-resampler>=0.8.3.1->pycaret)\n",
            "  Downloading dash_html_components-2.0.0-py3-none-any.whl (4.1 kB)\n",
            "Collecting dash-core-components==2.0.0 (from dash>=2.9.0->plotly-resampler>=0.8.3.1->pycaret)\n",
            "  Downloading dash_core_components-2.0.0-py3-none-any.whl (3.8 kB)\n",
            "Collecting dash-table==5.0.0 (from dash>=2.9.0->plotly-resampler>=0.8.3.1->pycaret)\n",
            "  Downloading dash_table-5.0.0-py3-none-any.whl (3.9 kB)\n",
            "Requirement already satisfied: typing-extensions>=4.1.1 in /usr/local/lib/python3.10/dist-packages (from dash>=2.9.0->plotly-resampler>=0.8.3.1->pycaret) (4.10.0)\n",
            "Collecting retrying (from dash>=2.9.0->plotly-resampler>=0.8.3.1->pycaret)\n",
            "  Downloading retrying-1.3.4-py3-none-any.whl (11 kB)\n",
            "Requirement already satisfied: nest-asyncio in /usr/local/lib/python3.10/dist-packages (from dash>=2.9.0->plotly-resampler>=0.8.3.1->pycaret) (1.6.0)\n",
            "Requirement already satisfied: jupyter-client in /usr/local/lib/python3.10/dist-packages (from ipykernel>=4.5.1->ipywidgets>=7.6.5->pycaret) (6.1.12)\n",
            "Requirement already satisfied: tornado>=4.2 in /usr/local/lib/python3.10/dist-packages (from ipykernel>=4.5.1->ipywidgets>=7.6.5->pycaret) (6.3.3)\n",
            "Requirement already satisfied: parso<0.9.0,>=0.8.3 in /usr/local/lib/python3.10/dist-packages (from jedi>=0.16->ipython>=5.5.0->pycaret) (0.8.3)\n",
            "Requirement already satisfied: attrs>=22.2.0 in /usr/local/lib/python3.10/dist-packages (from jsonschema>=2.6->nbformat>=4.2.0->pycaret) (23.2.0)\n",
            "Requirement already satisfied: jsonschema-specifications>=2023.03.6 in /usr/local/lib/python3.10/dist-packages (from jsonschema>=2.6->nbformat>=4.2.0->pycaret) (2023.12.1)\n",
            "Requirement already satisfied: referencing>=0.28.4 in /usr/local/lib/python3.10/dist-packages (from jsonschema>=2.6->nbformat>=4.2.0->pycaret) (0.34.0)\n",
            "Requirement already satisfied: rpds-py>=0.7.1 in /usr/local/lib/python3.10/dist-packages (from jsonschema>=2.6->nbformat>=4.2.0->pycaret) (0.18.0)\n",
            "Requirement already satisfied: ptyprocess>=0.5 in /usr/local/lib/python3.10/dist-packages (from pexpect>4.3->ipython>=5.5.0->pycaret) (0.7.0)\n",
            "Requirement already satisfied: wcwidth in /usr/local/lib/python3.10/dist-packages (from prompt-toolkit!=3.0.0,!=3.0.1,<3.1.0,>=2.0.0->ipython>=5.5.0->pycaret) (0.2.13)\n",
            "Requirement already satisfied: notebook>=4.4.1 in /usr/local/lib/python3.10/dist-packages (from widgetsnbextension~=3.6.0->ipywidgets>=7.6.5->pycaret) (6.5.5)\n",
            "Requirement already satisfied: platformdirs>=2.5 in /usr/local/lib/python3.10/dist-packages (from jupyter-core->nbformat>=4.2.0->pycaret) (4.2.0)\n",
            "Requirement already satisfied: itsdangerous>=2.0 in /usr/local/lib/python3.10/dist-packages (from Flask<3.1,>=1.0.4->dash>=2.9.0->plotly-resampler>=0.8.3.1->pycaret) (2.1.2)\n",
            "Requirement already satisfied: click>=8.0 in /usr/local/lib/python3.10/dist-packages (from Flask<3.1,>=1.0.4->dash>=2.9.0->plotly-resampler>=0.8.3.1->pycaret) (8.1.7)\n",
            "Requirement already satisfied: pyzmq<25,>=17 in /usr/local/lib/python3.10/dist-packages (from notebook>=4.4.1->widgetsnbextension~=3.6.0->ipywidgets>=7.6.5->pycaret) (23.2.1)\n",
            "Requirement already satisfied: argon2-cffi in /usr/local/lib/python3.10/dist-packages (from notebook>=4.4.1->widgetsnbextension~=3.6.0->ipywidgets>=7.6.5->pycaret) (23.1.0)\n",
            "Requirement already satisfied: nbconvert>=5 in /usr/local/lib/python3.10/dist-packages (from notebook>=4.4.1->widgetsnbextension~=3.6.0->ipywidgets>=7.6.5->pycaret) (6.5.4)\n",
            "Requirement already satisfied: Send2Trash>=1.8.0 in /usr/local/lib/python3.10/dist-packages (from notebook>=4.4.1->widgetsnbextension~=3.6.0->ipywidgets>=7.6.5->pycaret) (1.8.2)\n",
            "Requirement already satisfied: terminado>=0.8.3 in /usr/local/lib/python3.10/dist-packages (from notebook>=4.4.1->widgetsnbextension~=3.6.0->ipywidgets>=7.6.5->pycaret) (0.18.1)\n",
            "Requirement already satisfied: prometheus-client in /usr/local/lib/python3.10/dist-packages (from notebook>=4.4.1->widgetsnbextension~=3.6.0->ipywidgets>=7.6.5->pycaret) (0.20.0)\n",
            "Requirement already satisfied: nbclassic>=0.4.7 in /usr/local/lib/python3.10/dist-packages (from notebook>=4.4.1->widgetsnbextension~=3.6.0->ipywidgets>=7.6.5->pycaret) (1.0.0)\n",
            "Requirement already satisfied: jupyter-server>=1.8 in /usr/local/lib/python3.10/dist-packages (from nbclassic>=0.4.7->notebook>=4.4.1->widgetsnbextension~=3.6.0->ipywidgets>=7.6.5->pycaret) (1.24.0)\n",
            "Requirement already satisfied: notebook-shim>=0.2.3 in /usr/local/lib/python3.10/dist-packages (from nbclassic>=0.4.7->notebook>=4.4.1->widgetsnbextension~=3.6.0->ipywidgets>=7.6.5->pycaret) (0.2.4)\n",
            "Requirement already satisfied: lxml in /usr/local/lib/python3.10/dist-packages (from nbconvert>=5->notebook>=4.4.1->widgetsnbextension~=3.6.0->ipywidgets>=7.6.5->pycaret) (4.9.4)\n",
            "Requirement already satisfied: beautifulsoup4 in /usr/local/lib/python3.10/dist-packages (from nbconvert>=5->notebook>=4.4.1->widgetsnbextension~=3.6.0->ipywidgets>=7.6.5->pycaret) (4.12.3)\n",
            "Requirement already satisfied: bleach in /usr/local/lib/python3.10/dist-packages (from nbconvert>=5->notebook>=4.4.1->widgetsnbextension~=3.6.0->ipywidgets>=7.6.5->pycaret) (6.1.0)\n",
            "Requirement already satisfied: defusedxml in /usr/local/lib/python3.10/dist-packages (from nbconvert>=5->notebook>=4.4.1->widgetsnbextension~=3.6.0->ipywidgets>=7.6.5->pycaret) (0.7.1)\n",
            "Requirement already satisfied: entrypoints>=0.2.2 in /usr/local/lib/python3.10/dist-packages (from nbconvert>=5->notebook>=4.4.1->widgetsnbextension~=3.6.0->ipywidgets>=7.6.5->pycaret) (0.4)\n",
            "Requirement already satisfied: jupyterlab-pygments in /usr/local/lib/python3.10/dist-packages (from nbconvert>=5->notebook>=4.4.1->widgetsnbextension~=3.6.0->ipywidgets>=7.6.5->pycaret) (0.3.0)\n",
            "Requirement already satisfied: mistune<2,>=0.8.1 in /usr/local/lib/python3.10/dist-packages (from nbconvert>=5->notebook>=4.4.1->widgetsnbextension~=3.6.0->ipywidgets>=7.6.5->pycaret) (0.8.4)\n",
            "Requirement already satisfied: nbclient>=0.5.0 in /usr/local/lib/python3.10/dist-packages (from nbconvert>=5->notebook>=4.4.1->widgetsnbextension~=3.6.0->ipywidgets>=7.6.5->pycaret) (0.10.0)\n",
            "Requirement already satisfied: pandocfilters>=1.4.1 in /usr/local/lib/python3.10/dist-packages (from nbconvert>=5->notebook>=4.4.1->widgetsnbextension~=3.6.0->ipywidgets>=7.6.5->pycaret) (1.5.1)\n",
            "Requirement already satisfied: tinycss2 in /usr/local/lib/python3.10/dist-packages (from nbconvert>=5->notebook>=4.4.1->widgetsnbextension~=3.6.0->ipywidgets>=7.6.5->pycaret) (1.2.1)\n",
            "Requirement already satisfied: argon2-cffi-bindings in /usr/local/lib/python3.10/dist-packages (from argon2-cffi->notebook>=4.4.1->widgetsnbextension~=3.6.0->ipywidgets>=7.6.5->pycaret) (21.2.0)\n",
            "Requirement already satisfied: anyio<4,>=3.1.0 in /usr/local/lib/python3.10/dist-packages (from jupyter-server>=1.8->nbclassic>=0.4.7->notebook>=4.4.1->widgetsnbextension~=3.6.0->ipywidgets>=7.6.5->pycaret) (3.7.1)\n",
            "Requirement already satisfied: websocket-client in /usr/local/lib/python3.10/dist-packages (from jupyter-server>=1.8->nbclassic>=0.4.7->notebook>=4.4.1->widgetsnbextension~=3.6.0->ipywidgets>=7.6.5->pycaret) (1.7.0)\n",
            "Requirement already satisfied: cffi>=1.0.1 in /usr/local/lib/python3.10/dist-packages (from argon2-cffi-bindings->argon2-cffi->notebook>=4.4.1->widgetsnbextension~=3.6.0->ipywidgets>=7.6.5->pycaret) (1.16.0)\n",
            "Requirement already satisfied: soupsieve>1.2 in /usr/local/lib/python3.10/dist-packages (from beautifulsoup4->nbconvert>=5->notebook>=4.4.1->widgetsnbextension~=3.6.0->ipywidgets>=7.6.5->pycaret) (2.5)\n",
            "Requirement already satisfied: webencodings in /usr/local/lib/python3.10/dist-packages (from bleach->nbconvert>=5->notebook>=4.4.1->widgetsnbextension~=3.6.0->ipywidgets>=7.6.5->pycaret) (0.5.1)\n",
            "Requirement already satisfied: sniffio>=1.1 in /usr/local/lib/python3.10/dist-packages (from anyio<4,>=3.1.0->jupyter-server>=1.8->nbclassic>=0.4.7->notebook>=4.4.1->widgetsnbextension~=3.6.0->ipywidgets>=7.6.5->pycaret) (1.3.1)\n",
            "Requirement already satisfied: exceptiongroup in /usr/local/lib/python3.10/dist-packages (from anyio<4,>=3.1.0->jupyter-server>=1.8->nbclassic>=0.4.7->notebook>=4.4.1->widgetsnbextension~=3.6.0->ipywidgets>=7.6.5->pycaret) (1.2.0)\n",
            "Requirement already satisfied: pycparser in /usr/local/lib/python3.10/dist-packages (from cffi>=1.0.1->argon2-cffi-bindings->argon2-cffi->notebook>=4.4.1->widgetsnbextension~=3.6.0->ipywidgets>=7.6.5->pycaret) (2.21)\n",
            "Building wheels for collected packages: pyod\n",
            "  Building wheel for pyod (setup.py) ... \u001b[?25l\u001b[?25hdone\n",
            "  Created wheel for pyod: filename=pyod-1.1.3-py3-none-any.whl size=190250 sha256=fbec4f988f3aff5291ce461e7eda2fbaa08196590dfcb13ecf90f0f0276385fd\n",
            "  Stored in directory: /root/.cache/pip/wheels/05/f8/db/124d43bec122d6ec0ab3713fadfe25ebed8af52ec561682b4e\n",
            "Successfully built pyod\n",
            "Installing collected packages: kaleido, dash-table, dash-html-components, dash-core-components, xxhash, wurlitzer, tsdownsample, scikit-base, schemdraw, retrying, orjson, jedi, deprecation, scikit-learn, sktime, scikit-plot, pyod, imbalanced-learn, dash, pmdarima, plotly-resampler, category-encoders, tbats, pycaret\n",
            "  Attempting uninstall: scikit-learn\n",
            "    Found existing installation: scikit-learn 1.2.2\n",
            "    Uninstalling scikit-learn-1.2.2:\n",
            "      Successfully uninstalled scikit-learn-1.2.2\n",
            "  Attempting uninstall: imbalanced-learn\n",
            "    Found existing installation: imbalanced-learn 0.10.1\n",
            "    Uninstalling imbalanced-learn-0.10.1:\n",
            "      Successfully uninstalled imbalanced-learn-0.10.1\n",
            "Successfully installed category-encoders-2.6.3 dash-2.16.1 dash-core-components-2.0.0 dash-html-components-2.0.0 dash-table-5.0.0 deprecation-2.1.0 imbalanced-learn-0.12.0 jedi-0.19.1 kaleido-0.2.1 orjson-3.9.15 plotly-resampler-0.9.2 pmdarima-2.0.4 pycaret-3.3.0 pyod-1.1.3 retrying-1.3.4 schemdraw-0.15 scikit-base-0.7.5 scikit-learn-1.4.1.post1 scikit-plot-0.3.7 sktime-0.27.1 tbats-1.1.3 tsdownsample-0.1.2 wurlitzer-3.0.3 xxhash-3.4.1\n"
          ]
        }
      ]
    },
    {
      "cell_type": "code",
      "execution_count": null,
      "metadata": {
        "colab": {
          "base_uri": "https://localhost:8080/"
        },
        "id": "uuvgdF3C8beu",
        "outputId": "3c7fa2d1-52de-42bf-8488-a3184d3ecf4b"
      },
      "outputs": [
        {
          "output_type": "stream",
          "name": "stdout",
          "text": [
            "Collecting openml\n",
            "  Downloading openml-0.14.2.tar.gz (144 kB)\n",
            "\u001b[2K     \u001b[90m━━━━━━━━━━━━━━━━━━━━━━━━━━━━━━━━━━━━━━━━\u001b[0m \u001b[32m144.5/144.5 kB\u001b[0m \u001b[31m2.3 MB/s\u001b[0m eta \u001b[36m0:00:00\u001b[0m\n",
            "\u001b[?25h  Installing build dependencies ... \u001b[?25l\u001b[?25hdone\n",
            "  Getting requirements to build wheel ... \u001b[?25l\u001b[?25hdone\n",
            "  Installing backend dependencies ... \u001b[?25l\u001b[?25hdone\n",
            "  Preparing metadata (pyproject.toml) ... \u001b[?25l\u001b[?25hdone\n",
            "Collecting liac-arff>=2.4.0 (from openml)\n",
            "  Downloading liac-arff-2.5.0.tar.gz (13 kB)\n",
            "  Preparing metadata (setup.py) ... \u001b[?25l\u001b[?25hdone\n",
            "Collecting xmltodict (from openml)\n",
            "  Downloading xmltodict-0.13.0-py2.py3-none-any.whl (10.0 kB)\n",
            "Requirement already satisfied: requests in /usr/local/lib/python3.10/dist-packages (from openml) (2.31.0)\n",
            "Requirement already satisfied: scikit-learn>=0.18 in /usr/local/lib/python3.10/dist-packages (from openml) (1.4.1.post1)\n",
            "Requirement already satisfied: python-dateutil in /usr/local/lib/python3.10/dist-packages (from openml) (2.8.2)\n",
            "Requirement already satisfied: pandas>=1.0.0 in /usr/local/lib/python3.10/dist-packages (from openml) (1.5.3)\n",
            "Requirement already satisfied: scipy>=0.13.3 in /usr/local/lib/python3.10/dist-packages (from openml) (1.11.4)\n",
            "Requirement already satisfied: numpy>=1.6.2 in /usr/local/lib/python3.10/dist-packages (from openml) (1.25.2)\n",
            "Collecting minio (from openml)\n",
            "  Downloading minio-7.2.5-py3-none-any.whl (93 kB)\n",
            "\u001b[2K     \u001b[90m━━━━━━━━━━━━━━━━━━━━━━━━━━━━━━━━━━━━━━━━\u001b[0m \u001b[32m93.2/93.2 kB\u001b[0m \u001b[31m10.2 MB/s\u001b[0m eta \u001b[36m0:00:00\u001b[0m\n",
            "\u001b[?25hRequirement already satisfied: pyarrow in /usr/local/lib/python3.10/dist-packages (from openml) (14.0.2)\n",
            "Requirement already satisfied: pytz>=2020.1 in /usr/local/lib/python3.10/dist-packages (from pandas>=1.0.0->openml) (2023.4)\n",
            "Requirement already satisfied: six>=1.5 in /usr/local/lib/python3.10/dist-packages (from python-dateutil->openml) (1.16.0)\n",
            "Requirement already satisfied: joblib>=1.2.0 in /usr/local/lib/python3.10/dist-packages (from scikit-learn>=0.18->openml) (1.3.2)\n",
            "Requirement already satisfied: threadpoolctl>=2.0.0 in /usr/local/lib/python3.10/dist-packages (from scikit-learn>=0.18->openml) (3.3.0)\n",
            "Requirement already satisfied: certifi in /usr/local/lib/python3.10/dist-packages (from minio->openml) (2024.2.2)\n",
            "Requirement already satisfied: urllib3 in /usr/local/lib/python3.10/dist-packages (from minio->openml) (2.0.7)\n",
            "Requirement already satisfied: argon2-cffi in /usr/local/lib/python3.10/dist-packages (from minio->openml) (23.1.0)\n",
            "Collecting pycryptodome (from minio->openml)\n",
            "  Downloading pycryptodome-3.20.0-cp35-abi3-manylinux_2_17_x86_64.manylinux2014_x86_64.whl (2.1 MB)\n",
            "\u001b[2K     \u001b[90m━━━━━━━━━━━━━━━━━━━━━━━━━━━━━━━━━━━━━━━━\u001b[0m \u001b[32m2.1/2.1 MB\u001b[0m \u001b[31m29.5 MB/s\u001b[0m eta \u001b[36m0:00:00\u001b[0m\n",
            "\u001b[?25hRequirement already satisfied: typing-extensions in /usr/local/lib/python3.10/dist-packages (from minio->openml) (4.10.0)\n",
            "Requirement already satisfied: charset-normalizer<4,>=2 in /usr/local/lib/python3.10/dist-packages (from requests->openml) (3.3.2)\n",
            "Requirement already satisfied: idna<4,>=2.5 in /usr/local/lib/python3.10/dist-packages (from requests->openml) (3.6)\n",
            "Requirement already satisfied: argon2-cffi-bindings in /usr/local/lib/python3.10/dist-packages (from argon2-cffi->minio->openml) (21.2.0)\n",
            "Requirement already satisfied: cffi>=1.0.1 in /usr/local/lib/python3.10/dist-packages (from argon2-cffi-bindings->argon2-cffi->minio->openml) (1.16.0)\n",
            "Requirement already satisfied: pycparser in /usr/local/lib/python3.10/dist-packages (from cffi>=1.0.1->argon2-cffi-bindings->argon2-cffi->minio->openml) (2.21)\n",
            "Building wheels for collected packages: openml, liac-arff\n",
            "  Building wheel for openml (pyproject.toml) ... \u001b[?25l\u001b[?25hdone\n",
            "  Created wheel for openml: filename=openml-0.14.2-py3-none-any.whl size=158699 sha256=b0eb83bcf1f319964e8b15d41c439b5d906fbe5c8813b9234b34b78bbbc53daf\n",
            "  Stored in directory: /root/.cache/pip/wheels/2e/4e/af/5e721761d86375dbca82e63cc2470019e97815bc39f11451ea\n",
            "  Building wheel for liac-arff (setup.py) ... \u001b[?25l\u001b[?25hdone\n",
            "  Created wheel for liac-arff: filename=liac_arff-2.5.0-py3-none-any.whl size=11716 sha256=efc90cac7f7d8bbc36b970a5ad173ca8f83745eb8dd6e90d4f60c4c79267f7ac\n",
            "  Stored in directory: /root/.cache/pip/wheels/5d/2a/9c/3895d9617f8f49a0883ba686326d598e78a1c2f54fe3cae86d\n",
            "Successfully built openml liac-arff\n",
            "Installing collected packages: xmltodict, pycryptodome, liac-arff, minio, openml\n",
            "Successfully installed liac-arff-2.5.0 minio-7.2.5 openml-0.14.2 pycryptodome-3.20.0 xmltodict-0.13.0\n"
          ]
        }
      ],
      "source": [
        "pip install openml\n"
      ]
    },
    {
      "cell_type": "code",
      "execution_count": null,
      "metadata": {
        "colab": {
          "base_uri": "https://localhost:8080/"
        },
        "id": "4AAR93nS75eu",
        "outputId": "7f8263dd-733b-412d-89a4-3f9df1023eb7"
      },
      "outputs": [
        {
          "output_type": "stream",
          "name": "stderr",
          "text": [
            "WARNING:openml:No permission to create OpenML directory at /root/.config/openml! This can result in OpenML-Python not working properly.\n",
            "<ipython-input-3-c782151da6ac>:4: FutureWarning: Starting from Version 0.15 `download_data`, `download_qualities`, and `download_features_meta_data` will all be ``False`` instead of ``True`` by default to enable lazy loading. To disable this message until version 0.15 explicitly set `download_data`, `download_qualities`, and `download_features_meta_data` to a bool while calling `get_dataset`.\n",
            "  df = get_dataset('shapes').get_data(dataset_format='dataframe')[0]\n"
          ]
        },
        {
          "output_type": "stream",
          "name": "stdout",
          "text": [
            "16000\n",
            "[0. 0. 0. 0. 0. 0. 0. 0. 0. 0. 1. 1. 1. 1. 1. 1. 1. 1. 1. 1. 2. 2. 2. 2.\n",
            " 2. 2. 2. 2. 2. 2. 3. 3. 3. 3. 3. 3. 3. 3. 3. 3.]\n"
          ]
        }
      ],
      "source": [
        "from openml.datasets.functions import get_dataset\n",
        "import numpy as np\n",
        "\n",
        "df = get_dataset('shapes').get_data(dataset_format='dataframe')[0]\n",
        "print(len(df))\n",
        "df.head()\n",
        "labels = np.zeros(40)\n",
        "labels[10:20] = 1\n",
        "labels[20:30] = 2\n",
        "labels[30:] = 3\n",
        "\n",
        "print(labels)"
      ]
    },
    {
      "cell_type": "code",
      "execution_count": null,
      "metadata": {
        "colab": {
          "base_uri": "https://localhost:8080/"
        },
        "id": "YYRH_bq982aT",
        "outputId": "15869828-1650-470a-da1f-4c82029162c1"
      },
      "outputs": [
        {
          "output_type": "stream",
          "name": "stdout",
          "text": [
            "Collecting giotto-ph\n",
            "  Downloading giotto_ph-0.2.2-cp310-cp310-manylinux_2_17_x86_64.manylinux2014_x86_64.whl (526 kB)\n",
            "\u001b[2K     \u001b[90m━━━━━━━━━━━━━━━━━━━━━━━━━━━━━━━━━━━━━━━━\u001b[0m \u001b[32m526.4/526.4 kB\u001b[0m \u001b[31m5.2 MB/s\u001b[0m eta \u001b[36m0:00:00\u001b[0m\n",
            "\u001b[?25hRequirement already satisfied: numpy>=1.19.1 in /usr/local/lib/python3.10/dist-packages (from giotto-ph) (1.25.2)\n",
            "Requirement already satisfied: scipy>=1.5.0 in /usr/local/lib/python3.10/dist-packages (from giotto-ph) (1.11.4)\n",
            "Requirement already satisfied: scikit-learn>=0.23.1 in /usr/local/lib/python3.10/dist-packages (from giotto-ph) (1.4.1.post1)\n",
            "Requirement already satisfied: joblib>=1.2.0 in /usr/local/lib/python3.10/dist-packages (from scikit-learn>=0.23.1->giotto-ph) (1.3.2)\n",
            "Requirement already satisfied: threadpoolctl>=2.0.0 in /usr/local/lib/python3.10/dist-packages (from scikit-learn>=0.23.1->giotto-ph) (3.3.0)\n",
            "Installing collected packages: giotto-ph\n",
            "Successfully installed giotto-ph-0.2.2\n",
            "Collecting giotto-tda\n",
            "  Downloading giotto_tda-0.6.0-cp310-cp310-manylinux_2_17_x86_64.manylinux2014_x86_64.whl (1.3 MB)\n",
            "\u001b[2K     \u001b[90m━━━━━━━━━━━━━━━━━━━━━━━━━━━━━━━━━━━━━━━━\u001b[0m \u001b[32m1.3/1.3 MB\u001b[0m \u001b[31m7.5 MB/s\u001b[0m eta \u001b[36m0:00:00\u001b[0m\n",
            "\u001b[?25hRequirement already satisfied: numpy>=1.19.1 in /usr/local/lib/python3.10/dist-packages (from giotto-tda) (1.25.2)\n",
            "Requirement already satisfied: scipy>=1.5.0 in /usr/local/lib/python3.10/dist-packages (from giotto-tda) (1.11.4)\n",
            "Requirement already satisfied: joblib>=0.16.0 in /usr/local/lib/python3.10/dist-packages (from giotto-tda) (1.3.2)\n",
            "Requirement already satisfied: scikit-learn>=0.23.1 in /usr/local/lib/python3.10/dist-packages (from giotto-tda) (1.4.1.post1)\n",
            "Requirement already satisfied: giotto-ph>=0.2.1 in /usr/local/lib/python3.10/dist-packages (from giotto-tda) (0.2.2)\n",
            "Collecting pyflagser>=0.4.3 (from giotto-tda)\n",
            "  Downloading pyflagser-0.4.5-cp310-cp310-manylinux_2_17_x86_64.manylinux2014_x86_64.whl (452 kB)\n",
            "\u001b[2K     \u001b[90m━━━━━━━━━━━━━━━━━━━━━━━━━━━━━━━━━━━━━━━━\u001b[0m \u001b[32m452.9/452.9 kB\u001b[0m \u001b[31m11.4 MB/s\u001b[0m eta \u001b[36m0:00:00\u001b[0m\n",
            "\u001b[?25hCollecting igraph>=0.9.8 (from giotto-tda)\n",
            "  Downloading igraph-0.11.4-cp39-abi3-manylinux_2_17_x86_64.manylinux2014_x86_64.whl (3.3 MB)\n",
            "\u001b[2K     \u001b[90m━━━━━━━━━━━━━━━━━━━━━━━━━━━━━━━━━━━━━━━━\u001b[0m \u001b[32m3.3/3.3 MB\u001b[0m \u001b[31m13.8 MB/s\u001b[0m eta \u001b[36m0:00:00\u001b[0m\n",
            "\u001b[?25hRequirement already satisfied: plotly>=4.8.2 in /usr/local/lib/python3.10/dist-packages (from giotto-tda) (5.15.0)\n",
            "Requirement already satisfied: ipywidgets>=7.5.1 in /usr/local/lib/python3.10/dist-packages (from giotto-tda) (7.7.1)\n",
            "Collecting texttable>=1.6.2 (from igraph>=0.9.8->giotto-tda)\n",
            "  Downloading texttable-1.7.0-py2.py3-none-any.whl (10 kB)\n",
            "Requirement already satisfied: ipykernel>=4.5.1 in /usr/local/lib/python3.10/dist-packages (from ipywidgets>=7.5.1->giotto-tda) (5.5.6)\n",
            "Requirement already satisfied: ipython-genutils~=0.2.0 in /usr/local/lib/python3.10/dist-packages (from ipywidgets>=7.5.1->giotto-tda) (0.2.0)\n",
            "Requirement already satisfied: traitlets>=4.3.1 in /usr/local/lib/python3.10/dist-packages (from ipywidgets>=7.5.1->giotto-tda) (5.7.1)\n",
            "Requirement already satisfied: widgetsnbextension~=3.6.0 in /usr/local/lib/python3.10/dist-packages (from ipywidgets>=7.5.1->giotto-tda) (3.6.6)\n",
            "Requirement already satisfied: ipython>=4.0.0 in /usr/local/lib/python3.10/dist-packages (from ipywidgets>=7.5.1->giotto-tda) (7.34.0)\n",
            "Requirement already satisfied: jupyterlab-widgets>=1.0.0 in /usr/local/lib/python3.10/dist-packages (from ipywidgets>=7.5.1->giotto-tda) (3.0.10)\n",
            "Requirement already satisfied: tenacity>=6.2.0 in /usr/local/lib/python3.10/dist-packages (from plotly>=4.8.2->giotto-tda) (8.2.3)\n",
            "Requirement already satisfied: packaging in /usr/local/lib/python3.10/dist-packages (from plotly>=4.8.2->giotto-tda) (24.0)\n",
            "Requirement already satisfied: threadpoolctl>=2.0.0 in /usr/local/lib/python3.10/dist-packages (from scikit-learn>=0.23.1->giotto-tda) (3.3.0)\n",
            "Requirement already satisfied: jupyter-client in /usr/local/lib/python3.10/dist-packages (from ipykernel>=4.5.1->ipywidgets>=7.5.1->giotto-tda) (6.1.12)\n",
            "Requirement already satisfied: tornado>=4.2 in /usr/local/lib/python3.10/dist-packages (from ipykernel>=4.5.1->ipywidgets>=7.5.1->giotto-tda) (6.3.3)\n",
            "Requirement already satisfied: setuptools>=18.5 in /usr/local/lib/python3.10/dist-packages (from ipython>=4.0.0->ipywidgets>=7.5.1->giotto-tda) (67.7.2)\n",
            "Requirement already satisfied: jedi>=0.16 in /usr/local/lib/python3.10/dist-packages (from ipython>=4.0.0->ipywidgets>=7.5.1->giotto-tda) (0.19.1)\n",
            "Requirement already satisfied: decorator in /usr/local/lib/python3.10/dist-packages (from ipython>=4.0.0->ipywidgets>=7.5.1->giotto-tda) (4.4.2)\n",
            "Requirement already satisfied: pickleshare in /usr/local/lib/python3.10/dist-packages (from ipython>=4.0.0->ipywidgets>=7.5.1->giotto-tda) (0.7.5)\n",
            "Requirement already satisfied: prompt-toolkit!=3.0.0,!=3.0.1,<3.1.0,>=2.0.0 in /usr/local/lib/python3.10/dist-packages (from ipython>=4.0.0->ipywidgets>=7.5.1->giotto-tda) (3.0.43)\n",
            "Requirement already satisfied: pygments in /usr/local/lib/python3.10/dist-packages (from ipython>=4.0.0->ipywidgets>=7.5.1->giotto-tda) (2.16.1)\n",
            "Requirement already satisfied: backcall in /usr/local/lib/python3.10/dist-packages (from ipython>=4.0.0->ipywidgets>=7.5.1->giotto-tda) (0.2.0)\n",
            "Requirement already satisfied: matplotlib-inline in /usr/local/lib/python3.10/dist-packages (from ipython>=4.0.0->ipywidgets>=7.5.1->giotto-tda) (0.1.6)\n",
            "Requirement already satisfied: pexpect>4.3 in /usr/local/lib/python3.10/dist-packages (from ipython>=4.0.0->ipywidgets>=7.5.1->giotto-tda) (4.9.0)\n",
            "Requirement already satisfied: notebook>=4.4.1 in /usr/local/lib/python3.10/dist-packages (from widgetsnbextension~=3.6.0->ipywidgets>=7.5.1->giotto-tda) (6.5.5)\n",
            "Requirement already satisfied: parso<0.9.0,>=0.8.3 in /usr/local/lib/python3.10/dist-packages (from jedi>=0.16->ipython>=4.0.0->ipywidgets>=7.5.1->giotto-tda) (0.8.3)\n",
            "Requirement already satisfied: jinja2 in /usr/local/lib/python3.10/dist-packages (from notebook>=4.4.1->widgetsnbextension~=3.6.0->ipywidgets>=7.5.1->giotto-tda) (3.1.3)\n",
            "Requirement already satisfied: pyzmq<25,>=17 in /usr/local/lib/python3.10/dist-packages (from notebook>=4.4.1->widgetsnbextension~=3.6.0->ipywidgets>=7.5.1->giotto-tda) (23.2.1)\n",
            "Requirement already satisfied: argon2-cffi in /usr/local/lib/python3.10/dist-packages (from notebook>=4.4.1->widgetsnbextension~=3.6.0->ipywidgets>=7.5.1->giotto-tda) (23.1.0)\n",
            "Requirement already satisfied: jupyter-core>=4.6.1 in /usr/local/lib/python3.10/dist-packages (from notebook>=4.4.1->widgetsnbextension~=3.6.0->ipywidgets>=7.5.1->giotto-tda) (5.7.2)\n",
            "Requirement already satisfied: nbformat in /usr/local/lib/python3.10/dist-packages (from notebook>=4.4.1->widgetsnbextension~=3.6.0->ipywidgets>=7.5.1->giotto-tda) (5.10.3)\n",
            "Requirement already satisfied: nbconvert>=5 in /usr/local/lib/python3.10/dist-packages (from notebook>=4.4.1->widgetsnbextension~=3.6.0->ipywidgets>=7.5.1->giotto-tda) (6.5.4)\n",
            "Requirement already satisfied: nest-asyncio>=1.5 in /usr/local/lib/python3.10/dist-packages (from notebook>=4.4.1->widgetsnbextension~=3.6.0->ipywidgets>=7.5.1->giotto-tda) (1.6.0)\n",
            "Requirement already satisfied: Send2Trash>=1.8.0 in /usr/local/lib/python3.10/dist-packages (from notebook>=4.4.1->widgetsnbextension~=3.6.0->ipywidgets>=7.5.1->giotto-tda) (1.8.2)\n",
            "Requirement already satisfied: terminado>=0.8.3 in /usr/local/lib/python3.10/dist-packages (from notebook>=4.4.1->widgetsnbextension~=3.6.0->ipywidgets>=7.5.1->giotto-tda) (0.18.1)\n",
            "Requirement already satisfied: prometheus-client in /usr/local/lib/python3.10/dist-packages (from notebook>=4.4.1->widgetsnbextension~=3.6.0->ipywidgets>=7.5.1->giotto-tda) (0.20.0)\n",
            "Requirement already satisfied: nbclassic>=0.4.7 in /usr/local/lib/python3.10/dist-packages (from notebook>=4.4.1->widgetsnbextension~=3.6.0->ipywidgets>=7.5.1->giotto-tda) (1.0.0)\n",
            "Requirement already satisfied: python-dateutil>=2.1 in /usr/local/lib/python3.10/dist-packages (from jupyter-client->ipykernel>=4.5.1->ipywidgets>=7.5.1->giotto-tda) (2.8.2)\n",
            "Requirement already satisfied: ptyprocess>=0.5 in /usr/local/lib/python3.10/dist-packages (from pexpect>4.3->ipython>=4.0.0->ipywidgets>=7.5.1->giotto-tda) (0.7.0)\n",
            "Requirement already satisfied: wcwidth in /usr/local/lib/python3.10/dist-packages (from prompt-toolkit!=3.0.0,!=3.0.1,<3.1.0,>=2.0.0->ipython>=4.0.0->ipywidgets>=7.5.1->giotto-tda) (0.2.13)\n",
            "Requirement already satisfied: platformdirs>=2.5 in /usr/local/lib/python3.10/dist-packages (from jupyter-core>=4.6.1->notebook>=4.4.1->widgetsnbextension~=3.6.0->ipywidgets>=7.5.1->giotto-tda) (4.2.0)\n",
            "Requirement already satisfied: jupyter-server>=1.8 in /usr/local/lib/python3.10/dist-packages (from nbclassic>=0.4.7->notebook>=4.4.1->widgetsnbextension~=3.6.0->ipywidgets>=7.5.1->giotto-tda) (1.24.0)\n",
            "Requirement already satisfied: notebook-shim>=0.2.3 in /usr/local/lib/python3.10/dist-packages (from nbclassic>=0.4.7->notebook>=4.4.1->widgetsnbextension~=3.6.0->ipywidgets>=7.5.1->giotto-tda) (0.2.4)\n",
            "Requirement already satisfied: lxml in /usr/local/lib/python3.10/dist-packages (from nbconvert>=5->notebook>=4.4.1->widgetsnbextension~=3.6.0->ipywidgets>=7.5.1->giotto-tda) (4.9.4)\n",
            "Requirement already satisfied: beautifulsoup4 in /usr/local/lib/python3.10/dist-packages (from nbconvert>=5->notebook>=4.4.1->widgetsnbextension~=3.6.0->ipywidgets>=7.5.1->giotto-tda) (4.12.3)\n",
            "Requirement already satisfied: bleach in /usr/local/lib/python3.10/dist-packages (from nbconvert>=5->notebook>=4.4.1->widgetsnbextension~=3.6.0->ipywidgets>=7.5.1->giotto-tda) (6.1.0)\n",
            "Requirement already satisfied: defusedxml in /usr/local/lib/python3.10/dist-packages (from nbconvert>=5->notebook>=4.4.1->widgetsnbextension~=3.6.0->ipywidgets>=7.5.1->giotto-tda) (0.7.1)\n",
            "Requirement already satisfied: entrypoints>=0.2.2 in /usr/local/lib/python3.10/dist-packages (from nbconvert>=5->notebook>=4.4.1->widgetsnbextension~=3.6.0->ipywidgets>=7.5.1->giotto-tda) (0.4)\n",
            "Requirement already satisfied: jupyterlab-pygments in /usr/local/lib/python3.10/dist-packages (from nbconvert>=5->notebook>=4.4.1->widgetsnbextension~=3.6.0->ipywidgets>=7.5.1->giotto-tda) (0.3.0)\n",
            "Requirement already satisfied: MarkupSafe>=2.0 in /usr/local/lib/python3.10/dist-packages (from nbconvert>=5->notebook>=4.4.1->widgetsnbextension~=3.6.0->ipywidgets>=7.5.1->giotto-tda) (2.1.5)\n",
            "Requirement already satisfied: mistune<2,>=0.8.1 in /usr/local/lib/python3.10/dist-packages (from nbconvert>=5->notebook>=4.4.1->widgetsnbextension~=3.6.0->ipywidgets>=7.5.1->giotto-tda) (0.8.4)\n",
            "Requirement already satisfied: nbclient>=0.5.0 in /usr/local/lib/python3.10/dist-packages (from nbconvert>=5->notebook>=4.4.1->widgetsnbextension~=3.6.0->ipywidgets>=7.5.1->giotto-tda) (0.10.0)\n",
            "Requirement already satisfied: pandocfilters>=1.4.1 in /usr/local/lib/python3.10/dist-packages (from nbconvert>=5->notebook>=4.4.1->widgetsnbextension~=3.6.0->ipywidgets>=7.5.1->giotto-tda) (1.5.1)\n",
            "Requirement already satisfied: tinycss2 in /usr/local/lib/python3.10/dist-packages (from nbconvert>=5->notebook>=4.4.1->widgetsnbextension~=3.6.0->ipywidgets>=7.5.1->giotto-tda) (1.2.1)\n",
            "Requirement already satisfied: fastjsonschema in /usr/local/lib/python3.10/dist-packages (from nbformat->notebook>=4.4.1->widgetsnbextension~=3.6.0->ipywidgets>=7.5.1->giotto-tda) (2.19.1)\n",
            "Requirement already satisfied: jsonschema>=2.6 in /usr/local/lib/python3.10/dist-packages (from nbformat->notebook>=4.4.1->widgetsnbextension~=3.6.0->ipywidgets>=7.5.1->giotto-tda) (4.19.2)\n",
            "Requirement already satisfied: six>=1.5 in /usr/local/lib/python3.10/dist-packages (from python-dateutil>=2.1->jupyter-client->ipykernel>=4.5.1->ipywidgets>=7.5.1->giotto-tda) (1.16.0)\n",
            "Requirement already satisfied: argon2-cffi-bindings in /usr/local/lib/python3.10/dist-packages (from argon2-cffi->notebook>=4.4.1->widgetsnbextension~=3.6.0->ipywidgets>=7.5.1->giotto-tda) (21.2.0)\n",
            "Requirement already satisfied: attrs>=22.2.0 in /usr/local/lib/python3.10/dist-packages (from jsonschema>=2.6->nbformat->notebook>=4.4.1->widgetsnbextension~=3.6.0->ipywidgets>=7.5.1->giotto-tda) (23.2.0)\n",
            "Requirement already satisfied: jsonschema-specifications>=2023.03.6 in /usr/local/lib/python3.10/dist-packages (from jsonschema>=2.6->nbformat->notebook>=4.4.1->widgetsnbextension~=3.6.0->ipywidgets>=7.5.1->giotto-tda) (2023.12.1)\n",
            "Requirement already satisfied: referencing>=0.28.4 in /usr/local/lib/python3.10/dist-packages (from jsonschema>=2.6->nbformat->notebook>=4.4.1->widgetsnbextension~=3.6.0->ipywidgets>=7.5.1->giotto-tda) (0.34.0)\n",
            "Requirement already satisfied: rpds-py>=0.7.1 in /usr/local/lib/python3.10/dist-packages (from jsonschema>=2.6->nbformat->notebook>=4.4.1->widgetsnbextension~=3.6.0->ipywidgets>=7.5.1->giotto-tda) (0.18.0)\n",
            "Requirement already satisfied: anyio<4,>=3.1.0 in /usr/local/lib/python3.10/dist-packages (from jupyter-server>=1.8->nbclassic>=0.4.7->notebook>=4.4.1->widgetsnbextension~=3.6.0->ipywidgets>=7.5.1->giotto-tda) (3.7.1)\n",
            "Requirement already satisfied: websocket-client in /usr/local/lib/python3.10/dist-packages (from jupyter-server>=1.8->nbclassic>=0.4.7->notebook>=4.4.1->widgetsnbextension~=3.6.0->ipywidgets>=7.5.1->giotto-tda) (1.7.0)\n",
            "Requirement already satisfied: cffi>=1.0.1 in /usr/local/lib/python3.10/dist-packages (from argon2-cffi-bindings->argon2-cffi->notebook>=4.4.1->widgetsnbextension~=3.6.0->ipywidgets>=7.5.1->giotto-tda) (1.16.0)\n",
            "Requirement already satisfied: soupsieve>1.2 in /usr/local/lib/python3.10/dist-packages (from beautifulsoup4->nbconvert>=5->notebook>=4.4.1->widgetsnbextension~=3.6.0->ipywidgets>=7.5.1->giotto-tda) (2.5)\n",
            "Requirement already satisfied: webencodings in /usr/local/lib/python3.10/dist-packages (from bleach->nbconvert>=5->notebook>=4.4.1->widgetsnbextension~=3.6.0->ipywidgets>=7.5.1->giotto-tda) (0.5.1)\n",
            "Requirement already satisfied: idna>=2.8 in /usr/local/lib/python3.10/dist-packages (from anyio<4,>=3.1.0->jupyter-server>=1.8->nbclassic>=0.4.7->notebook>=4.4.1->widgetsnbextension~=3.6.0->ipywidgets>=7.5.1->giotto-tda) (3.6)\n",
            "Requirement already satisfied: sniffio>=1.1 in /usr/local/lib/python3.10/dist-packages (from anyio<4,>=3.1.0->jupyter-server>=1.8->nbclassic>=0.4.7->notebook>=4.4.1->widgetsnbextension~=3.6.0->ipywidgets>=7.5.1->giotto-tda) (1.3.1)\n",
            "Requirement already satisfied: exceptiongroup in /usr/local/lib/python3.10/dist-packages (from anyio<4,>=3.1.0->jupyter-server>=1.8->nbclassic>=0.4.7->notebook>=4.4.1->widgetsnbextension~=3.6.0->ipywidgets>=7.5.1->giotto-tda) (1.2.0)\n",
            "Requirement already satisfied: pycparser in /usr/local/lib/python3.10/dist-packages (from cffi>=1.0.1->argon2-cffi-bindings->argon2-cffi->notebook>=4.4.1->widgetsnbextension~=3.6.0->ipywidgets>=7.5.1->giotto-tda) (2.21)\n",
            "Installing collected packages: texttable, igraph, pyflagser, giotto-tda\n",
            "Successfully installed giotto-tda-0.6.0 igraph-0.11.4 pyflagser-0.4.5 texttable-1.7.0\n"
          ]
        }
      ],
      "source": [
        "!pip install giotto-ph\n",
        "!pip install giotto-tda\n"
      ]
    },
    {
      "cell_type": "code",
      "execution_count": null,
      "metadata": {
        "colab": {
          "base_uri": "https://localhost:8080/"
        },
        "id": "Cn5sAwmY0ZnQ",
        "outputId": "58cc736e-9ce7-4847-e8e0-2a3a82d7452d"
      },
      "outputs": [
        {
          "output_type": "stream",
          "name": "stdout",
          "text": [
            "['human_arms_out9', 'human_arms_out8', 'human_arms_out5', 'human_arms_out4', 'human_arms_out6', 'human_arms_out7', 'human_arms_out3', 'human_arms_out2', 'human_arms_out0', 'human_arms_out1', 'vase5', 'vase4', 'vase6', 'vase7', 'vase3', 'vase2', 'vase0', 'vase1', 'vase9', 'vase8', 'dining_chair3', 'dining_chair2', 'dining_chair0', 'dining_chair1', 'dining_chair5', 'dining_chair4', 'dining_chair6', 'dining_chair7', 'dining_chair9', 'dining_chair8', 'biplane3', 'biplane2', 'biplane0', 'biplane1', 'biplane5', 'biplane4', 'biplane6', 'biplane7', 'biplane9', 'biplane8']\n",
            "{'human': ['human_arms_out9', 'human_arms_out8', 'human_arms_out5', 'human_arms_out4', 'human_arms_out6', 'human_arms_out7', 'human_arms_out3', 'human_arms_out2', 'human_arms_out0', 'human_arms_out1'], 'vase': ['vase5', 'vase4', 'vase6', 'vase7', 'vase3', 'vase2', 'vase0', 'vase1', 'vase9', 'vase8'], 'dining': ['dining_chair3', 'dining_chair2', 'dining_chair0', 'dining_chair1', 'dining_chair5', 'dining_chair4', 'dining_chair6', 'dining_chair7', 'dining_chair9', 'dining_chair8'], 'biplane': ['biplane3', 'biplane2', 'biplane0', 'biplane1', 'biplane5', 'biplane4', 'biplane6', 'biplane7', 'biplane9', 'biplane8']}\n"
          ]
        }
      ],
      "source": [
        "print((df[\"target\"].unique()).tolist())\n",
        "# Your list of words\n",
        "word_list = (df[\"target\"].unique()).tolist()\n",
        "# Dictionary to store grouped words\n",
        "grouped_words = {}\n",
        "\n",
        "# Iterate over each word\n",
        "for word in word_list:\n",
        "    # Extract the prefix before the number\n",
        "    prefix = ''.join([c for c in word.split('_')[0] if not c.isdigit()])\n",
        "\n",
        "    # Check if the prefix is already a key in the dictionary\n",
        "    if prefix in grouped_words:\n",
        "        grouped_words[prefix].append(word)\n",
        "    else:\n",
        "        grouped_words[prefix] = [word]\n",
        "\n",
        "# Now 'grouped_words' contains lists of similar words grouped by their prefixes\n",
        "print(grouped_words)\n"
      ]
    },
    {
      "cell_type": "code",
      "execution_count": null,
      "metadata": {
        "colab": {
          "base_uri": "https://localhost:8080/",
          "height": 542
        },
        "id": "x20P6bOREu5V",
        "outputId": "aca74848-9c61-4f7f-c89d-b38af65462ee"
      },
      "outputs": [
        {
          "output_type": "display_data",
          "data": {
            "text/html": [
              "<html>\n",
              "<head><meta charset=\"utf-8\" /></head>\n",
              "<body>\n",
              "    <div>            <script src=\"https://cdnjs.cloudflare.com/ajax/libs/mathjax/2.7.5/MathJax.js?config=TeX-AMS-MML_SVG\"></script><script type=\"text/javascript\">if (window.MathJax && window.MathJax.Hub && window.MathJax.Hub.Config) {window.MathJax.Hub.Config({SVG: {font: \"STIX-Web\"}});}</script>                <script type=\"text/javascript\">window.PlotlyConfig = {MathJaxConfig: 'local'};</script>\n",
              "        <script charset=\"utf-8\" src=\"https://cdn.plot.ly/plotly-2.24.1.min.js\"></script>                <div id=\"98d24c45-512f-47a5-be70-2a94b760eca7\" class=\"plotly-graph-div\" style=\"height:525px; width:100%;\"></div>            <script type=\"text/javascript\">                                    window.PLOTLYENV=window.PLOTLYENV || {};                                    if (document.getElementById(\"98d24c45-512f-47a5-be70-2a94b760eca7\")) {                    Plotly.newPlot(                        \"98d24c45-512f-47a5-be70-2a94b760eca7\",                        [{\"marker\":{\"color\":[0,1,2,3,4,5,6,7,8,9,10,11,12,13,14,15,16,17,18,19,20,21,22,23,24,25,26,27,28,29,30,31,32,33,34,35,36,37,38,39,40,41,42,43,44,45,46,47,48,49,50,51,52,53,54,55,56,57,58,59,60,61,62,63,64,65,66,67,68,69,70,71,72,73,74,75,76,77,78,79,80,81,82,83,84,85,86,87,88,89,90,91,92,93,94,95,96,97,98,99,100,101,102,103,104,105,106,107,108,109,110,111,112,113,114,115,116,117,118,119,120,121,122,123,124,125,126,127,128,129,130,131,132,133,134,135,136,137,138,139,140,141,142,143,144,145,146,147,148,149,150,151,152,153,154,155,156,157,158,159,160,161,162,163,164,165,166,167,168,169,170,171,172,173,174,175,176,177,178,179,180,181,182,183,184,185,186,187,188,189,190,191,192,193,194,195,196,197,198,199,200,201,202,203,204,205,206,207,208,209,210,211,212,213,214,215,216,217,218,219,220,221,222,223,224,225,226,227,228,229,230,231,232,233,234,235,236,237,238,239,240,241,242,243,244,245,246,247,248,249,250,251,252,253,254,255,256,257,258,259,260,261,262,263,264,265,266,267,268,269,270,271,272,273,274,275,276,277,278,279,280,281,282,283,284,285,286,287,288,289,290,291,292,293,294,295,296,297,298,299,300,301,302,303,304,305,306,307,308,309,310,311,312,313,314,315,316,317,318,319,320,321,322,323,324,325,326,327,328,329,330,331,332,333,334,335,336,337,338,339,340,341,342,343,344,345,346,347,348,349,350,351,352,353,354,355,356,357,358,359,360,361,362,363,364,365,366,367,368,369,370,371,372,373,374,375,376,377,378,379,380,381,382,383,384,385,386,387,388,389,390,391,392,393,394,395,396,397,398,399],\"colorscale\":[[0.0,\"#440154\"],[0.1111111111111111,\"#482878\"],[0.2222222222222222,\"#3e4989\"],[0.3333333333333333,\"#31688e\"],[0.4444444444444444,\"#26828e\"],[0.5555555555555556,\"#1f9e89\"],[0.6666666666666666,\"#35b779\"],[0.7777777777777778,\"#6ece58\"],[0.8888888888888888,\"#b5de2b\"],[1.0,\"#fde725\"]],\"opacity\":0.8,\"size\":4},\"mode\":\"markers\",\"x\":[0.421987,0.403924,0.463246,0.504695,0.417713,0.531636,0.4515,0.393384,0.5047470000000001,0.439916,0.48177200000000003,0.485675,0.5227149999999999,0.5356890000000001,0.5069140000000001,0.49103900000000006,0.385484,0.5357350000000001,0.42169399999999996,0.516208,0.389246,0.649051,0.538866,0.439669,0.45027799999999996,0.49084300000000003,0.524424,0.5213270000000001,0.423437,0.463246,0.46449799999999997,0.8389129999999999,0.421383,0.447158,0.416192,0.46329799999999993,0.43825299999999995,0.5047470000000001,0.47287299999999993,0.514614,0.45838,0.5047470000000001,0.413685,0.506025,0.439522,0.493443,0.385484,0.49892200000000003,0.42169399999999996,0.54106,0.33181700000000003,0.54106,0.45892700000000003,0.463246,0.529612,0.216635,0.815455,0.401831,0.5346,0.511447,0.423573,0.463246,0.553926,0.679744,0.40996499999999997,0.5151220000000001,0.463246,0.522995,0.408,0.405211,0.7065739999999999,0.162803,0.43605200000000005,0.39067199999999996,0.462871,0.47808999999999996,0.39021999999999996,0.386745,0.828843,0.54106,0.41633100000000006,0.7143470000000001,0.436008,0.385484,0.699054,0.45560100000000003,0.409348,0.54106,0.632015,0.5042979999999999,0.385484,0.385484,0.463246,0.385484,0.32732,0.385484,0.390177,0.416376,0.416109,0.533963,0.066133,0.538441,0.776459,0.54106,0.47091700000000003,0.4945,0.40918499999999997,0.42230100000000004,0.48689399999999994,0.25103600000000004,0.2484,0.492384,0.458874,0.43882899999999997,0.417092,0.504695,0.483167,0.75615,0.535597,0.552214,0.483996,0.593495,0.48550299999999996,0.54106,0.423634,0.42179700000000003,0.504695,0.662099,0.43523100000000003,0.42650600000000005,0.43661300000000003,0.479141,0.728209,0.403607,0.515886,0.449607,0.275107,0.6839529999999999,0.523476,0.795609,0.416117,0.54106,0.388871,0.520502,0.39263899999999996,0.51876,0.460003,0.38788,0.42179700000000003,0.16852,0.487788,0.240655,0.432962,0.429982,0.51132,0.42973,0.39374499999999996,0.385484,0.46148199999999995,0.072742,0.385484,0.397011,0.39067199999999996,0.54106,0.409414,0.468571,0.54106,0.533926,0.463246,0.516734,0.24922399999999997,0.385484,0.467875,0.387525,0.8555200000000001,0.810283,0.47521800000000003,0.7448229999999999,0.522748,0.526449,0.401914,0.436229,0.390918,0.34860399999999997,0.399981,0.19331600000000002,0.49632,0.8562,0.469138,0.517265,0.446216,0.41708599999999996,0.16509300000000002,0.143393,0.389524,0.385484,0.475546,0.47841999999999996,0.385484,0.535695,0.458589,0.491125,0.105689,0.527754,0.5369970000000001,0.5212600000000001,0.481045,0.465737,0.22666999999999998,0.43129300000000004,0.450463,0.413362,0.399564,0.15734,0.398769,0.5047470000000001,0.47227600000000003,0.47031000000000006,0.42890200000000006,0.494287,0.499654,0.128237,0.385484,0.489696,0.172035,0.5166430000000001,0.503918,0.606104,0.385484,0.40563299999999997,0.41588800000000004,0.6051770000000001,0.414203,0.54106,0.6235189999999999,0.42803900000000006,0.504695,0.407156,0.428957,0.474025,0.42960600000000004,0.787589,0.41775500000000004,0.662954,0.460592,0.483996,0.447367,0.5173770000000001,0.0663,0.42787600000000003,0.537821,0.385484,0.45754799999999995,0.513262,0.42335100000000003,0.451646,0.472186,0.730332,0.483996,0.454049,0.50476,0.21894899999999998,0.787134,0.54106,0.405494,0.403764,0.806106,0.412707,0.54106,0.44250600000000007,0.524992,0.25421,0.385484,0.510672,0.12418699999999999,0.47546000000000005,0.387279,0.515109,0.463246,0.43776800000000005,0.836556,0.473821,0.54106,0.453388,0.471341,0.17971900000000002,0.614879,0.248523,0.716901,0.43599499999999997,0.48126800000000003,0.512548,0.54106,0.54106,0.387322,0.171806,0.5047470000000001,0.41730500000000004,0.5278930000000001,0.405469,0.057209,0.19472899999999999,0.495633,0.225931,0.402604,0.48861800000000005,0.504695,0.410866,0.54106,0.055188,0.48331999999999997,0.385484,0.406881,0.33210300000000004,0.431296,0.30020399999999997,0.488864,0.405848,0.525439,0.537242,0.463246,0.47391000000000005,0.577213,0.385484,0.42602799999999996,0.504695,0.47472,0.40433,0.22147600000000003,0.316806,0.385484,0.502703,0.109543,0.54106,0.46329799999999993,0.504681,0.480019,0.531118,0.437695,0.501668,0.770215,0.512813,0.3936,0.485022,0.386835,0.459883,0.39096,0.408683,0.463246,0.390171,0.487231,0.446449,0.61747,0.42179700000000003,0.535924,0.34447300000000003,0.303666,0.459002,0.339673,0.4931,0.513048,0.466001,0.204788,0.497266,0.409836,0.40416799999999997,0.41548,0.48681499999999994,0.43077600000000005,0.5034529999999999,0.316336,0.54106,0.412127,0.453535,0.43433599999999994,0.46284,0.6930310000000001,0.424441,0.185387,0.385484,0.124365,0.52713,0.647112,0.403252,0.46329799999999993,0.515117,0.5737399999999999,0.45547299999999996,0.53789,0.449107,0.445558,0.39067199999999996,0.483633,0.5854739999999999,0.798746,0.43335,0.383575,0.501119,0.5341279999999999,0.47851400000000005],\"y\":[0.13128599999999999,0.089269,0.483487,0.914617,0.8234020000000001,0.15446500000000002,0.78556,0.083058,0.046292,0.934464,0.28071799999999997,0.472517,0.054373000000000005,0.786579,0.7482270000000001,0.569488,0.45067700000000005,0.814102,0.92376,0.36301,0.364799,0.868878,0.268214,0.263413,0.570162,0.32719899999999996,0.151421,0.8171350000000001,0.349329,0.563199,0.44937,0.944868,0.569695,0.925435,0.056125,0.54904,0.27133,0.027398000000000002,0.575979,0.21184699999999998,0.414288,0.044485000000000004,0.546512,0.283229,0.229913,0.9044540000000001,0.103824,0.313783,0.9187049999999999,0.378027,0.80283,0.194378,0.620556,0.489104,0.055186,0.864641,0.902167,0.025,0.48391000000000006,0.025,0.12300499999999999,0.53888,0.796771,0.8844299999999999,0.125497,0.921293,0.500894,0.102033,0.36495700000000003,0.645278,0.8889950000000001,0.914492,0.196144,0.7475350000000001,0.458075,0.320144,0.803523,0.184843,0.9488340000000001,0.22920900000000002,0.056125,0.89712,0.19556600000000002,0.093861,0.847117,0.5803689999999999,0.8153020000000001,0.444082,0.848125,0.941003,0.32516100000000003,0.40837199999999996,0.50483,0.42852299999999993,0.811487,0.355577,0.810751,0.17243,0.45388599999999996,0.43462700000000004,0.945674,0.315818,0.9221379999999999,0.311931,0.605006,0.569488,0.7355520000000001,0.570162,0.23083,0.8816200000000001,0.8478610000000001,0.569488,0.41929099999999997,0.258917,0.807175,0.931441,0.26716999999999996,0.892985,0.740796,0.780468,0.824363,0.804017,0.299281,0.352643,0.498667,0.025639999999999996,0.8993909999999999,0.841361,0.188133,0.87277,0.7541479999999999,0.306386,0.8607790000000001,0.524057,0.548834,0.328581,0.836161,0.840124,0.345616,0.892543,0.816577,0.143362,0.473818,0.6411680000000001,0.058732000000000006,0.819434,0.429937,0.40580700000000003,0.05037,0.920895,0.422789,0.890961,0.569695,0.427889,0.647153,0.30880799999999997,0.717958,0.432519,0.444671,0.9513010000000001,0.247819,0.8021560000000001,0.761422,0.322353,0.694455,0.409544,0.18258,0.729781,0.528434,0.22076199999999999,0.8482860000000001,0.458924,0.9448,0.065147,0.9502659999999999,0.938831,0.569695,0.894533,0.6560010000000001,0.680442,0.766158,0.801297,0.735848,0.795946,0.025,0.88639,0.159432,0.939723,0.8550110000000001,0.5440510000000001,0.295249,0.569966,0.8844290000000001,0.9017950000000001,0.47608500000000004,0.313319,0.341472,0.585634,0.24178200000000002,0.807847,0.454849,0.800918,0.9303319999999999,0.507655,0.14581,0.279593,0.287932,0.694569,0.9002290000000001,0.586199,0.910135,0.593572,0.68104,0.9132629999999999,0.094698,0.041966,0.82329,0.817449,0.45000200000000007,0.158632,0.440742,0.929588,0.175174,0.20343,0.8826700000000001,0.072931,0.941383,0.8087409999999999,0.388942,0.790676,0.577562,0.808439,0.58826,0.162528,0.857434,0.12269100000000001,0.9316989999999999,0.732845,0.604694,0.35639699999999996,0.570162,0.8881950000000001,0.612739,0.8757739999999999,0.8550110000000001,0.852331,0.906967,0.36020599999999997,0.9619780000000001,0.363008,0.42331499999999994,0.154328,0.406275,0.025,0.071975,0.34862600000000005,0.8550110000000001,0.870469,0.8505799999999999,0.569695,0.9056780000000001,0.861123,0.88926,0.34417800000000004,0.6434979999999999,0.65449,0.932368,0.688534,0.2475,0.8550110000000001,0.42915299999999995,0.8550780000000001,0.398755,0.43963500000000005,0.902351,0.818339,0.318006,0.055562,0.463984,0.21293299999999998,0.917892,0.9288190000000001,0.397392,0.370936,0.818692,0.8872549999999999,0.844931,0.88179,0.858395,0.195442,0.285637,0.05654,0.23586300000000002,0.353323,0.8243469999999999,0.883518,0.032596,0.23340500000000003,0.689955,0.747202,0.966468,0.8718790000000001,0.644716,0.8703420000000001,0.172214,0.569488,0.90879,0.364823,0.30867100000000003,0.9431579999999999,0.487413,0.290179,0.770103,0.8389,0.321579,0.857878,0.510513,0.641204,0.6737350000000001,0.469156,0.508446,0.569488,0.7965909999999999,0.16416,0.94494,0.913114,0.349561,0.236083,0.856733,0.8193,0.156879,0.587608,0.9345979999999999,0.184998,0.47484799999999994,0.687647,0.8550110000000001,0.223046,0.889966,0.08658300000000001,0.9209729999999999,0.048183,0.71885,0.249007,0.128019,0.562349,0.32624000000000003,0.623278,0.467092,0.8155100000000001,0.42897399999999997,0.412637,0.818806,0.044545,0.774476,0.837267,0.86082,0.6512359999999999,0.835959,0.605887,0.478625,0.6958310000000001,0.8676299999999999,0.569488,0.5466340000000001,0.651924,0.566236,0.382703,0.508415,0.76149,0.835464,0.259015,0.025,0.813567,0.8054979999999999,0.457751,0.8729879999999999,0.701304,0.872917,0.287173,0.900934,0.509817,0.8225309999999999,0.6576649999999999,0.553144,0.551504,0.837666,0.38566500000000004,0.337415,0.662539,0.615609,0.739025,0.41297700000000004,0.8381879999999999,0.935156,0.337927,0.8200200000000001,0.199486,0.731112,0.514228],\"z\":[0.04916,0.052387,0.08692000000000001,0.063526,0.053841,0.04842,0.125168,0.092704,0.07506399999999999,0.134345,0.045423000000000005,0.133939,0.091526,0.124731,0.030188,0.12559700000000001,0.07750499999999999,0.047702,0.116953,0.123697,0.123944,0.079706,0.11298499999999999,0.112702,0.12363199999999999,0.03428,0.099788,0.09144400000000001,0.032414,0.12408399999999999,0.071786,0.140259,0.078934,0.138217,0.061708000000000006,0.091147,0.038405,0.16777,0.058051,0.106616,0.091025,0.112695,0.133939,0.11468199999999999,0.070384,0.13956500000000002,0.082498,0.035378,0.097398,0.090878,0.11436600000000001,0.071857,0.137007,0.116096,0.087113,0.072062,0.116309,0.084579,0.10686500000000002,0.08837,0.049796,0.078319,0.111943,0.058788,0.049605,0.083689,0.05816,0.052712,0.12396099999999999,0.097523,0.13604000000000002,0.148821,0.099721,0.077998,0.071643,0.034857,0.064206,0.045047000000000004,0.116297,0.066262,0.057302,0.071406,0.048576999999999995,0.07375,0.119423,0.13458599999999998,0.10244,0.033981,0.12676099999999998,0.08695499999999999,0.088306,0.047368,0.101701,0.033829000000000005,0.062064999999999995,0.07657699999999999,0.097552,0.046,0.030188,0.030188,0.14284000000000002,0.11836400000000001,0.133401,0.098175,0.050172,0.12312100000000001,0.030188,0.092153,0.097373,0.127617,0.081606,0.063348,0.128441,0.039358,0.042582999999999996,0.103556,0.071055,0.08176699999999999,0.07191399999999999,0.100445,0.06985,0.066643,0.036565,0.079868,0.133939,0.18364,0.063213,0.047139,0.10229099999999999,0.12037300000000001,0.13863,0.10626300000000001,0.11961400000000001,0.133939,0.059973,0.095215,0.12671300000000002,0.129814,0.032772,0.11873099999999999,0.047283,0.09379,0.129326,0.087882,0.090007,0.077651,0.04827,0.030188,0.080539,0.13797,0.030188,0.093054,0.083207,0.030188,0.038732,0.11773499999999999,0.061025,0.08745399999999999,0.10646300000000002,0.172251,0.049029,0.118055,0.0656,0.117461,0.141468,0.044012,0.051823,0.067178,0.097593,0.042993,0.074818,0.10043300000000001,0.047549,0.090718,0.15977,0.126795,0.07283300000000001,0.079053,0.074318,0.074702,0.030188,0.039644,0.063566,0.103301,0.076758,0.072353,0.10069299999999999,0.142027,0.062065999999999996,0.12356600000000001,0.051023,0.104671,0.117028,0.089806,0.130672,0.10113899999999999,0.050872,0.1349,0.066584,0.076988,0.133928,0.039454,0.156131,0.09134500000000001,0.09915399999999999,0.038176999999999996,0.100958,0.030188,0.07343999999999999,0.055277,0.037969,0.069499,0.047006,0.088952,0.09399500000000001,0.071075,0.056909,0.090012,0.030188,0.065058,0.132481,0.100997,0.079429,0.073619,0.10369300000000001,0.055095000000000005,0.057666999999999996,0.076461,0.10801,0.034332999999999995,0.124599,0.075378,0.10431099999999999,0.062688,0.075379,0.049819999999999996,0.09928,0.143827,0.050256999999999996,0.08112,0.070634,0.123483,0.048073000000000005,0.07672000000000001,0.080695,0.064401,0.139988,0.031577,0.164917,0.031363999999999996,0.130511,0.079586,0.11541400000000002,0.109953,0.068832,0.12108800000000002,0.094177,0.06906699999999999,0.096296,0.110838,0.097902,0.09145199999999999,0.113121,0.103047,0.041298,0.044404,0.10525599999999999,0.030188,0.085001,0.086488,0.030188,0.131543,0.079158,0.030188,0.134962,0.084221,0.118755,0.08507100000000001,0.033259,0.10503699999999999,0.10994300000000001,0.136767,0.126895,0.030755,0.048341,0.07625499999999999,0.12481199999999999,0.136265,0.135517,0.054573,0.112524,0.06894700000000001,0.07169099999999999,0.071859,0.048592,0.097663,0.11690899999999999,0.041317,0.103524,0.030188,0.164749,0.100787,0.039394,0.059424,0.046017,0.083751,0.107046,0.031225,0.047274000000000004,0.146622,0.133939,0.048325,0.030188,0.12246900000000001,0.11915099999999999,0.12419000000000001,0.133939,0.069748,0.114757,0.031904,0.13347,0.113005,0.06485199999999999,0.084077,0.12844,0.11490999999999998,0.098049,0.041112,0.117132,0.040432,0.067343,0.054895000000000006,0.10733800000000002,0.07184299999999999,0.09784,0.030188,0.08881599999999999,0.10788099999999999,0.137141,0.07081900000000001,0.11896300000000001,0.125125,0.040247000000000005,0.097287,0.049411000000000004,0.057668,0.034187999999999996,0.056479999999999995,0.041992,0.070063,0.131151,0.129248,0.037981,0.07373099999999999,0.050894,0.114897,0.086324,0.037624,0.12136400000000001,0.049933,0.034631,0.030188,0.095032,0.091336,0.09954600000000001,0.038873000000000005,0.07287300000000001,0.125922,0.04289,0.135451,0.123205,0.101125,0.131183,0.112855,0.041743999999999996,0.06564099999999999,0.05952999999999999,0.141915,0.129645,0.05544299999999999,0.145773,0.106623,0.120904,0.132582,0.094404,0.062189,0.033955,0.046855,0.033443,0.139566,0.047294,0.134152,0.129343,0.086497,0.11258399999999999,0.03329,0.098909,0.10521900000000001,0.047652999999999994,0.044882],\"type\":\"scatter3d\"}],                        {\"template\":{\"data\":{\"histogram2dcontour\":[{\"type\":\"histogram2dcontour\",\"colorbar\":{\"outlinewidth\":0,\"ticks\":\"\"},\"colorscale\":[[0.0,\"#0d0887\"],[0.1111111111111111,\"#46039f\"],[0.2222222222222222,\"#7201a8\"],[0.3333333333333333,\"#9c179e\"],[0.4444444444444444,\"#bd3786\"],[0.5555555555555556,\"#d8576b\"],[0.6666666666666666,\"#ed7953\"],[0.7777777777777778,\"#fb9f3a\"],[0.8888888888888888,\"#fdca26\"],[1.0,\"#f0f921\"]]}],\"choropleth\":[{\"type\":\"choropleth\",\"colorbar\":{\"outlinewidth\":0,\"ticks\":\"\"}}],\"histogram2d\":[{\"type\":\"histogram2d\",\"colorbar\":{\"outlinewidth\":0,\"ticks\":\"\"},\"colorscale\":[[0.0,\"#0d0887\"],[0.1111111111111111,\"#46039f\"],[0.2222222222222222,\"#7201a8\"],[0.3333333333333333,\"#9c179e\"],[0.4444444444444444,\"#bd3786\"],[0.5555555555555556,\"#d8576b\"],[0.6666666666666666,\"#ed7953\"],[0.7777777777777778,\"#fb9f3a\"],[0.8888888888888888,\"#fdca26\"],[1.0,\"#f0f921\"]]}],\"heatmap\":[{\"type\":\"heatmap\",\"colorbar\":{\"outlinewidth\":0,\"ticks\":\"\"},\"colorscale\":[[0.0,\"#0d0887\"],[0.1111111111111111,\"#46039f\"],[0.2222222222222222,\"#7201a8\"],[0.3333333333333333,\"#9c179e\"],[0.4444444444444444,\"#bd3786\"],[0.5555555555555556,\"#d8576b\"],[0.6666666666666666,\"#ed7953\"],[0.7777777777777778,\"#fb9f3a\"],[0.8888888888888888,\"#fdca26\"],[1.0,\"#f0f921\"]]}],\"heatmapgl\":[{\"type\":\"heatmapgl\",\"colorbar\":{\"outlinewidth\":0,\"ticks\":\"\"},\"colorscale\":[[0.0,\"#0d0887\"],[0.1111111111111111,\"#46039f\"],[0.2222222222222222,\"#7201a8\"],[0.3333333333333333,\"#9c179e\"],[0.4444444444444444,\"#bd3786\"],[0.5555555555555556,\"#d8576b\"],[0.6666666666666666,\"#ed7953\"],[0.7777777777777778,\"#fb9f3a\"],[0.8888888888888888,\"#fdca26\"],[1.0,\"#f0f921\"]]}],\"contourcarpet\":[{\"type\":\"contourcarpet\",\"colorbar\":{\"outlinewidth\":0,\"ticks\":\"\"}}],\"contour\":[{\"type\":\"contour\",\"colorbar\":{\"outlinewidth\":0,\"ticks\":\"\"},\"colorscale\":[[0.0,\"#0d0887\"],[0.1111111111111111,\"#46039f\"],[0.2222222222222222,\"#7201a8\"],[0.3333333333333333,\"#9c179e\"],[0.4444444444444444,\"#bd3786\"],[0.5555555555555556,\"#d8576b\"],[0.6666666666666666,\"#ed7953\"],[0.7777777777777778,\"#fb9f3a\"],[0.8888888888888888,\"#fdca26\"],[1.0,\"#f0f921\"]]}],\"surface\":[{\"type\":\"surface\",\"colorbar\":{\"outlinewidth\":0,\"ticks\":\"\"},\"colorscale\":[[0.0,\"#0d0887\"],[0.1111111111111111,\"#46039f\"],[0.2222222222222222,\"#7201a8\"],[0.3333333333333333,\"#9c179e\"],[0.4444444444444444,\"#bd3786\"],[0.5555555555555556,\"#d8576b\"],[0.6666666666666666,\"#ed7953\"],[0.7777777777777778,\"#fb9f3a\"],[0.8888888888888888,\"#fdca26\"],[1.0,\"#f0f921\"]]}],\"mesh3d\":[{\"type\":\"mesh3d\",\"colorbar\":{\"outlinewidth\":0,\"ticks\":\"\"}}],\"scatter\":[{\"fillpattern\":{\"fillmode\":\"overlay\",\"size\":10,\"solidity\":0.2},\"type\":\"scatter\"}],\"parcoords\":[{\"type\":\"parcoords\",\"line\":{\"colorbar\":{\"outlinewidth\":0,\"ticks\":\"\"}}}],\"scatterpolargl\":[{\"type\":\"scatterpolargl\",\"marker\":{\"colorbar\":{\"outlinewidth\":0,\"ticks\":\"\"}}}],\"bar\":[{\"error_x\":{\"color\":\"#2a3f5f\"},\"error_y\":{\"color\":\"#2a3f5f\"},\"marker\":{\"line\":{\"color\":\"#E5ECF6\",\"width\":0.5},\"pattern\":{\"fillmode\":\"overlay\",\"size\":10,\"solidity\":0.2}},\"type\":\"bar\"}],\"scattergeo\":[{\"type\":\"scattergeo\",\"marker\":{\"colorbar\":{\"outlinewidth\":0,\"ticks\":\"\"}}}],\"scatterpolar\":[{\"type\":\"scatterpolar\",\"marker\":{\"colorbar\":{\"outlinewidth\":0,\"ticks\":\"\"}}}],\"histogram\":[{\"marker\":{\"pattern\":{\"fillmode\":\"overlay\",\"size\":10,\"solidity\":0.2}},\"type\":\"histogram\"}],\"scattergl\":[{\"type\":\"scattergl\",\"marker\":{\"colorbar\":{\"outlinewidth\":0,\"ticks\":\"\"}}}],\"scatter3d\":[{\"type\":\"scatter3d\",\"line\":{\"colorbar\":{\"outlinewidth\":0,\"ticks\":\"\"}},\"marker\":{\"colorbar\":{\"outlinewidth\":0,\"ticks\":\"\"}}}],\"scattermapbox\":[{\"type\":\"scattermapbox\",\"marker\":{\"colorbar\":{\"outlinewidth\":0,\"ticks\":\"\"}}}],\"scatterternary\":[{\"type\":\"scatterternary\",\"marker\":{\"colorbar\":{\"outlinewidth\":0,\"ticks\":\"\"}}}],\"scattercarpet\":[{\"type\":\"scattercarpet\",\"marker\":{\"colorbar\":{\"outlinewidth\":0,\"ticks\":\"\"}}}],\"carpet\":[{\"aaxis\":{\"endlinecolor\":\"#2a3f5f\",\"gridcolor\":\"white\",\"linecolor\":\"white\",\"minorgridcolor\":\"white\",\"startlinecolor\":\"#2a3f5f\"},\"baxis\":{\"endlinecolor\":\"#2a3f5f\",\"gridcolor\":\"white\",\"linecolor\":\"white\",\"minorgridcolor\":\"white\",\"startlinecolor\":\"#2a3f5f\"},\"type\":\"carpet\"}],\"table\":[{\"cells\":{\"fill\":{\"color\":\"#EBF0F8\"},\"line\":{\"color\":\"white\"}},\"header\":{\"fill\":{\"color\":\"#C8D4E3\"},\"line\":{\"color\":\"white\"}},\"type\":\"table\"}],\"barpolar\":[{\"marker\":{\"line\":{\"color\":\"#E5ECF6\",\"width\":0.5},\"pattern\":{\"fillmode\":\"overlay\",\"size\":10,\"solidity\":0.2}},\"type\":\"barpolar\"}],\"pie\":[{\"automargin\":true,\"type\":\"pie\"}]},\"layout\":{\"autotypenumbers\":\"strict\",\"colorway\":[\"#636efa\",\"#EF553B\",\"#00cc96\",\"#ab63fa\",\"#FFA15A\",\"#19d3f3\",\"#FF6692\",\"#B6E880\",\"#FF97FF\",\"#FECB52\"],\"font\":{\"color\":\"#2a3f5f\"},\"hovermode\":\"closest\",\"hoverlabel\":{\"align\":\"left\"},\"paper_bgcolor\":\"white\",\"plot_bgcolor\":\"#E5ECF6\",\"polar\":{\"bgcolor\":\"#E5ECF6\",\"angularaxis\":{\"gridcolor\":\"white\",\"linecolor\":\"white\",\"ticks\":\"\"},\"radialaxis\":{\"gridcolor\":\"white\",\"linecolor\":\"white\",\"ticks\":\"\"}},\"ternary\":{\"bgcolor\":\"#E5ECF6\",\"aaxis\":{\"gridcolor\":\"white\",\"linecolor\":\"white\",\"ticks\":\"\"},\"baxis\":{\"gridcolor\":\"white\",\"linecolor\":\"white\",\"ticks\":\"\"},\"caxis\":{\"gridcolor\":\"white\",\"linecolor\":\"white\",\"ticks\":\"\"}},\"coloraxis\":{\"colorbar\":{\"outlinewidth\":0,\"ticks\":\"\"}},\"colorscale\":{\"sequential\":[[0.0,\"#0d0887\"],[0.1111111111111111,\"#46039f\"],[0.2222222222222222,\"#7201a8\"],[0.3333333333333333,\"#9c179e\"],[0.4444444444444444,\"#bd3786\"],[0.5555555555555556,\"#d8576b\"],[0.6666666666666666,\"#ed7953\"],[0.7777777777777778,\"#fb9f3a\"],[0.8888888888888888,\"#fdca26\"],[1.0,\"#f0f921\"]],\"sequentialminus\":[[0.0,\"#0d0887\"],[0.1111111111111111,\"#46039f\"],[0.2222222222222222,\"#7201a8\"],[0.3333333333333333,\"#9c179e\"],[0.4444444444444444,\"#bd3786\"],[0.5555555555555556,\"#d8576b\"],[0.6666666666666666,\"#ed7953\"],[0.7777777777777778,\"#fb9f3a\"],[0.8888888888888888,\"#fdca26\"],[1.0,\"#f0f921\"]],\"diverging\":[[0,\"#8e0152\"],[0.1,\"#c51b7d\"],[0.2,\"#de77ae\"],[0.3,\"#f1b6da\"],[0.4,\"#fde0ef\"],[0.5,\"#f7f7f7\"],[0.6,\"#e6f5d0\"],[0.7,\"#b8e186\"],[0.8,\"#7fbc41\"],[0.9,\"#4d9221\"],[1,\"#276419\"]]},\"xaxis\":{\"gridcolor\":\"white\",\"linecolor\":\"white\",\"ticks\":\"\",\"title\":{\"standoff\":15},\"zerolinecolor\":\"white\",\"automargin\":true,\"zerolinewidth\":2},\"yaxis\":{\"gridcolor\":\"white\",\"linecolor\":\"white\",\"ticks\":\"\",\"title\":{\"standoff\":15},\"zerolinecolor\":\"white\",\"automargin\":true,\"zerolinewidth\":2},\"scene\":{\"xaxis\":{\"backgroundcolor\":\"#E5ECF6\",\"gridcolor\":\"white\",\"linecolor\":\"white\",\"showbackground\":true,\"ticks\":\"\",\"zerolinecolor\":\"white\",\"gridwidth\":2},\"yaxis\":{\"backgroundcolor\":\"#E5ECF6\",\"gridcolor\":\"white\",\"linecolor\":\"white\",\"showbackground\":true,\"ticks\":\"\",\"zerolinecolor\":\"white\",\"gridwidth\":2},\"zaxis\":{\"backgroundcolor\":\"#E5ECF6\",\"gridcolor\":\"white\",\"linecolor\":\"white\",\"showbackground\":true,\"ticks\":\"\",\"zerolinecolor\":\"white\",\"gridwidth\":2}},\"shapedefaults\":{\"line\":{\"color\":\"#2a3f5f\"}},\"annotationdefaults\":{\"arrowcolor\":\"#2a3f5f\",\"arrowhead\":0,\"arrowwidth\":1},\"geo\":{\"bgcolor\":\"white\",\"landcolor\":\"#E5ECF6\",\"subunitcolor\":\"white\",\"showland\":true,\"showlakes\":true,\"lakecolor\":\"white\"},\"title\":{\"x\":0.05},\"mapbox\":{\"style\":\"light\"}}},\"scene\":{\"xaxis\":{\"title\":{\"text\":\"0th\"},\"type\":\"linear\",\"showexponent\":\"all\",\"exponentformat\":\"e\"},\"yaxis\":{\"title\":{\"text\":\"1st\"},\"type\":\"linear\",\"showexponent\":\"all\",\"exponentformat\":\"e\"},\"zaxis\":{\"title\":{\"text\":\"2nd\"},\"type\":\"linear\",\"showexponent\":\"all\",\"exponentformat\":\"e\"}}},                        {\"responsive\": true}                    ).then(function(){\n",
              "                            \n",
              "var gd = document.getElementById('98d24c45-512f-47a5-be70-2a94b760eca7');\n",
              "var x = new MutationObserver(function (mutations, observer) {{\n",
              "        var display = window.getComputedStyle(gd).display;\n",
              "        if (!display || display === 'none') {{\n",
              "            console.log([gd, 'removed!']);\n",
              "            Plotly.purge(gd);\n",
              "            observer.disconnect();\n",
              "        }}\n",
              "}});\n",
              "\n",
              "// Listen for the removal of the full notebook cells\n",
              "var notebookContainer = gd.closest('#notebook-container');\n",
              "if (notebookContainer) {{\n",
              "    x.observe(notebookContainer, {childList: true});\n",
              "}}\n",
              "\n",
              "// Listen for the clearing of the current output cell\n",
              "var outputEl = gd.closest('.output');\n",
              "if (outputEl) {{\n",
              "    x.observe(outputEl, {childList: true});\n",
              "}}\n",
              "\n",
              "                        })                };                            </script>        </div>\n",
              "</body>\n",
              "</html>"
            ]
          },
          "metadata": {}
        }
      ],
      "source": [
        "from gtda.plotting import plot_point_cloud\n",
        "plot_point_cloud(df.query('target == \"human_arms_out0\"')[[\"x\", \"y\", \"z\"]].values)\n"
      ]
    },
    {
      "cell_type": "code",
      "execution_count": null,
      "metadata": {
        "colab": {
          "base_uri": "https://localhost:8080/"
        },
        "id": "BMSv4G4I9m1G",
        "outputId": "4e23e025-5605-4002-eb4a-0cf359337058"
      },
      "outputs": [
        {
          "output_type": "execute_result",
          "data": {
            "text/plain": [
              "(40, 400, 3)"
            ]
          },
          "metadata": {},
          "execution_count": 7
        }
      ],
      "source": [
        "import numpy as np\n",
        "\n",
        "point_clouds = np.asarray(\n",
        "    [\n",
        "        df.query(\"target == @shape\")[[\"x\", \"y\", \"z\"]].values\n",
        "        for shape in df[\"target\"].unique()\n",
        "    ]\n",
        ")\n",
        "point_clouds.shape"
      ]
    },
    {
      "cell_type": "code",
      "execution_count": null,
      "metadata": {
        "colab": {
          "base_uri": "https://localhost:8080/",
          "height": 542
        },
        "id": "w1wujVrtVIAF",
        "outputId": "63d1d4bf-7804-4464-eb94-3477703ee47d"
      },
      "outputs": [
        {
          "output_type": "display_data",
          "data": {
            "text/html": [
              "<html>\n",
              "<head><meta charset=\"utf-8\" /></head>\n",
              "<body>\n",
              "    <div>            <script src=\"https://cdnjs.cloudflare.com/ajax/libs/mathjax/2.7.5/MathJax.js?config=TeX-AMS-MML_SVG\"></script><script type=\"text/javascript\">if (window.MathJax && window.MathJax.Hub && window.MathJax.Hub.Config) {window.MathJax.Hub.Config({SVG: {font: \"STIX-Web\"}});}</script>                <script type=\"text/javascript\">window.PlotlyConfig = {MathJaxConfig: 'local'};</script>\n",
              "        <script charset=\"utf-8\" src=\"https://cdn.plot.ly/plotly-2.24.1.min.js\"></script>                <div id=\"cfe26487-f315-4823-80ff-e68554ecfdc4\" class=\"plotly-graph-div\" style=\"height:525px; width:100%;\"></div>            <script type=\"text/javascript\">                                    window.PLOTLYENV=window.PLOTLYENV || {};                                    if (document.getElementById(\"cfe26487-f315-4823-80ff-e68554ecfdc4\")) {                    Plotly.newPlot(                        \"cfe26487-f315-4823-80ff-e68554ecfdc4\",                        [{\"marker\":{\"color\":[0,1,2,3,4,5,6,7,8,9,10,11,12,13,14,15,16,17,18,19,20,21,22,23,24,25,26,27,28,29,30,31,32,33,34,35,36,37,38,39,40,41,42,43,44,45,46,47,48,49,50,51,52,53,54,55,56,57,58,59,60,61,62,63,64,65,66,67,68,69,70,71,72,73,74,75,76,77,78,79,80,81,82,83,84,85,86,87,88,89,90,91,92,93,94,95,96,97,98,99,100,101,102,103,104,105,106,107,108,109,110,111,112,113,114,115,116,117,118,119,120,121,122,123,124,125,126,127,128,129,130,131,132,133,134,135,136,137,138,139,140,141,142,143,144,145,146,147,148,149,150,151,152,153,154,155,156,157,158,159,160,161,162,163,164,165,166,167,168,169,170,171,172,173,174,175,176,177,178,179,180,181,182,183,184,185,186,187,188,189,190,191,192,193,194,195,196,197,198,199,200,201,202,203,204,205,206,207,208,209,210,211,212,213,214,215,216,217,218,219,220,221,222,223,224,225,226,227,228,229,230,231,232,233,234,235,236,237,238,239,240,241,242,243,244,245,246,247,248,249,250,251,252,253,254,255,256,257,258,259,260,261,262,263,264,265,266,267,268,269,270,271,272,273,274,275,276,277,278,279,280,281,282,283,284,285,286,287,288,289,290,291,292,293,294,295,296,297,298,299,300,301,302,303,304,305,306,307,308,309,310,311,312,313,314,315,316,317,318,319,320,321,322,323,324,325,326,327,328,329,330,331,332,333,334,335,336,337,338,339,340,341,342,343,344,345,346,347,348,349,350,351,352,353,354,355,356,357,358,359,360,361,362,363,364,365,366,367,368,369,370,371,372,373,374,375,376,377,378,379,380,381,382,383,384,385,386,387,388,389,390,391,392,393,394,395,396,397,398,399],\"colorscale\":[[0.0,\"#440154\"],[0.1111111111111111,\"#482878\"],[0.2222222222222222,\"#3e4989\"],[0.3333333333333333,\"#31688e\"],[0.4444444444444444,\"#26828e\"],[0.5555555555555556,\"#1f9e89\"],[0.6666666666666666,\"#35b779\"],[0.7777777777777778,\"#6ece58\"],[0.8888888888888888,\"#b5de2b\"],[1.0,\"#fde725\"]],\"opacity\":0.8,\"size\":4},\"mode\":\"markers\",\"x\":[0.341007,0.329226,0.44686899999999996,0.314729,0.426678,0.27284200000000003,0.327974,0.32498299999999997,0.68023,0.35067800000000005,0.458873,0.397947,0.333802,0.41998100000000005,0.362676,0.35725999999999997,0.407688,0.32269899999999996,0.436895,0.46401099999999995,0.297493,0.364026,0.451629,0.47429499999999997,0.060163,0.44189399999999995,0.30287600000000003,0.398878,0.381392,0.370894,0.32548299999999997,0.334046,0.402301,0.297877,0.299661,0.39232399999999995,0.409469,0.488476,0.41740600000000005,0.284296,0.444999,0.298923,0.664432,0.435431,0.44623100000000004,0.392818,0.45547,0.315245,0.324123,0.41940600000000006,0.448183,0.43904799999999994,0.060801,0.471195,0.284522,0.32724000000000003,0.37189,0.47900600000000004,0.348063,0.409565,0.438313,0.399836,0.42541,0.457593,0.480591,0.181827,0.410706,0.41197,0.264081,0.288862,0.291446,0.42143100000000006,0.43012700000000004,0.36489099999999997,0.273465,0.264962,0.389808,0.49458500000000005,0.46878000000000003,0.350222,0.434914,0.44633599999999996,0.44003100000000006,0.22893899999999998,0.40736,0.31859,0.293682,0.707349,0.365307,0.479045,0.403491,0.059378999999999994,0.481455,0.461611,0.30750700000000003,0.42058599999999996,0.16364700000000001,0.20516500000000001,0.45221400000000006,0.44309499999999996,0.388872,0.428058,0.458575,0.353169,0.46401000000000003,0.285648,0.441486,0.46484,0.350432,0.321963,0.412891,0.41347399999999995,0.421781,0.34060999999999997,0.301647,0.117879,0.620095,0.46582799999999996,0.335146,0.462538,0.343688,0.2983,0.360097,0.286727,0.318499,0.407895,0.307103,0.292685,0.41809399999999997,0.35213,0.620803,0.45412399999999997,0.370262,0.440983,0.37993899999999997,0.386849,0.408401,0.660842,0.352858,0.422702,0.380631,0.14391400000000001,0.331361,0.323333,0.41741000000000006,0.388736,0.289097,0.389346,0.039842,0.421176,0.440458,0.623402,0.354005,0.318799,0.373258,0.464801,0.15563,0.438651,0.407017,0.30319,0.049866,0.370373,0.41453,0.447183,0.319076,0.47821099999999994,0.281206,0.310123,0.044599,0.088994,0.435345,0.479704,0.323809,0.062885,0.44646099999999994,0.461862,0.477337,0.39324899999999996,0.30062300000000003,0.254357,0.178036,0.280145,0.284802,0.464329,0.488692,0.48992399999999997,0.466811,0.490163,0.436346,0.292311,0.450799,0.387745,0.42048900000000006,0.372514,0.428389,0.299192,0.279991,0.380666,0.31000700000000003,0.625,0.47979099999999997,0.46458999999999995,0.09979299999999999,0.282649,0.082498,0.457217,0.23071799999999998,0.363965,0.44276000000000004,0.436771,0.31561500000000003,0.44097700000000006,0.472325,0.35144000000000003,0.369213,0.450579,0.49223500000000003,0.64144,0.319682,0.289394,0.328712,0.134251,0.27960300000000005,0.28116399999999997,0.309573,0.316296,0.149946,0.47926899999999995,0.236393,0.569688,0.33375,0.357813,0.259522,0.437409,0.338262,0.29155,0.32760300000000003,0.360563,0.427572,0.48306000000000004,0.417508,0.485205,0.337163,0.405489,0.275543,0.355646,0.404021,0.316471,0.6807529999999999,0.476346,0.356765,0.43022,0.381272,0.561109,0.495537,0.47684499999999996,0.503866,0.305196,0.47533100000000006,0.453222,0.275482,0.322816,0.353037,0.31862399999999996,0.32815300000000003,0.480178,0.732556,0.35220100000000004,0.39676,0.47963100000000003,0.097845,0.30039299999999997,0.33434400000000003,0.22416399999999997,0.30725,0.42639799999999994,0.272621,0.343152,0.079451,0.351932,0.370413,0.33414499999999997,0.451611,0.539044,0.138202,0.279954,0.176741,0.17768399999999998,0.379812,0.417026,0.393395,0.589206,0.583209,0.47802,0.330081,0.335708,0.3756,0.31294,0.371187,0.419318,0.44230600000000003,0.35747199999999996,0.448937,0.6681560000000001,0.304741,0.314008,0.321633,0.41594899999999996,0.300064,0.620405,0.696186,0.345506,0.284529,0.44476499999999997,0.45618100000000006,0.409446,0.48416099999999995,0.152869,0.434221,0.384185,0.564842,0.320998,0.240985,0.354033,0.330264,0.33538,0.369269,0.274698,0.447716,0.492075,0.406658,0.30633699999999997,0.380626,0.29904899999999995,0.334434,0.31998699999999997,0.326596,0.30643200000000004,0.489784,0.733404,0.47362299999999996,0.512107,0.437683,0.406604,0.5168229999999999,0.43552700000000005,0.341975,0.332315,0.418206,0.088533,0.63826,0.359367,0.44427,0.685665,0.459143,0.343102,0.346576,0.484706,0.41530500000000004,0.359573,0.47111000000000003,0.323689,0.443087,0.300773,0.35383200000000004,0.298057,0.40037399999999995,0.371283,0.37707199999999996,0.660441,0.29578899999999997,0.43952600000000003,0.42982600000000004,0.354599,0.434824,0.331312,0.259721,0.375153,0.457929,0.702689,0.195715,0.281475,0.313078,0.440341,0.160011,0.311768,0.485521,0.47980100000000003,0.329506,0.366804,0.305183,0.479854,0.6595270000000001,0.33157600000000004,0.5360779999999999,0.09020700000000001,0.437992,0.44592299999999996,0.33592,0.35871],\"y\":[0.318606,0.421601,0.648674,0.21786,0.9191950000000001,0.11878299999999999,0.5456979999999999,0.9085489999999999,0.525049,0.34580700000000003,0.241727,0.472132,0.28788600000000003,0.878093,0.96599,0.49854499999999996,0.742296,0.679953,0.27357,0.033043,0.330928,0.5113880000000001,0.195171,0.352643,0.504387,0.89385,0.271851,0.972775,0.9029280000000001,0.6509729999999999,0.4163,0.546602,0.62895,0.051453,0.17059000000000002,0.4269,0.5087229999999999,0.234398,0.494687,0.029677,0.8784489999999999,0.699086,0.554327,0.843608,0.447179,0.776767,0.24410500000000002,0.875516,0.485867,0.9654200000000001,0.24318,0.379723,0.511155,0.131937,0.259387,0.345767,0.79724,0.060265,0.961515,0.8499129999999999,0.612208,0.7517149999999999,0.824958,0.6605,0.309349,0.629076,0.930376,0.365886,0.689026,0.317048,0.092183,0.327717,0.9251469999999999,0.7890199999999999,0.072163,0.645141,0.9621059999999999,0.104001,0.729056,0.638753,0.427914,0.877517,0.737544,0.659672,0.643115,0.229465,0.289145,0.5143270000000001,0.614796,0.665651,0.38098200000000004,0.503104,0.027236,0.139718,0.30606500000000003,0.567943,0.614694,0.632023,0.649522,0.268877,0.48851300000000003,0.851606,0.225584,0.51782,0.14644400000000002,0.301388,0.409476,0.42281499999999994,0.663872,0.360904,0.969026,0.801978,0.896985,0.346959,0.032949,0.571733,0.564138,0.42137700000000006,0.93747,0.445076,0.94614,0.669222,0.80387,0.2765,0.45433500000000004,0.755532,0.189888,0.143102,0.736855,0.882861,0.584979,0.8694049999999999,0.5697300000000001,0.61883,0.974211,0.799964,0.627344,0.552606,0.504854,0.8331120000000001,0.436854,0.561792,0.687449,0.51608,0.500308,0.878025,0.331426,0.79055,0.49149499999999996,0.851182,0.467681,0.5614520000000001,0.843891,0.23564899999999997,0.828941,0.43117799999999995,0.567034,0.893918,0.796092,0.390212,0.50055,0.8674229999999999,0.836251,0.6541560000000001,0.43674799999999997,0.233244,0.240202,0.406415,0.49016800000000005,0.547351,0.308672,0.305259,0.524021,0.519884,0.443874,0.12578399999999998,0.359629,0.727655,0.034635,0.6789270000000001,0.627537,0.153881,0.066714,0.39303699999999997,0.177008,0.026680000000000002,0.053315999999999995,0.184161,0.944967,0.66557,0.21954899999999997,0.709257,0.950192,0.404992,0.614719,0.204969,0.661756,0.792072,0.321261,0.5686359999999999,0.333046,0.41484899999999997,0.5362600000000001,0.025925999999999998,0.530302,0.439487,0.660907,0.674022,0.624004,0.886784,0.721518,0.8509709999999999,0.384765,0.41809700000000005,0.706337,0.9101469999999999,0.651678,0.564833,0.462399,0.036925,0.575531,0.5730569999999999,0.175978,0.718673,0.436367,0.911883,0.593481,0.203456,0.651429,0.6328229999999999,0.9193819999999999,0.662327,0.036468,0.9399430000000001,0.631392,0.208101,0.469225,0.9070520000000001,0.560752,0.199977,0.6480779999999999,0.079797,0.326802,0.383604,0.699933,0.961406,0.971872,0.736928,0.5447489999999999,0.318432,0.7970729999999999,0.563082,0.9647040000000001,0.6336729999999999,0.04251,0.677929,0.689211,0.329165,0.223426,0.8804299999999999,0.14059000000000002,0.8628629999999999,0.928811,0.225127,0.527091,0.223973,0.49118199999999995,0.41950200000000004,0.398881,0.118735,0.518403,0.125973,0.8828969999999999,0.657813,0.157308,0.569671,0.095751,0.620801,0.51576,0.808709,0.402204,0.739025,0.673905,0.629572,0.588728,0.026418,0.578,0.625346,0.764115,0.9013760000000001,0.680718,0.615825,0.582158,0.342572,0.7359020000000001,0.9262530000000001,0.8517530000000001,0.180393,0.80976,0.9593280000000001,0.274303,0.724247,0.48770699999999995,0.531896,0.36639299999999997,0.214587,0.276829,0.8305549999999999,0.203208,0.586534,0.5123800000000001,0.814292,0.07296699999999999,0.867138,0.430623,0.513841,0.20085799999999998,0.584874,0.340904,0.8339639999999999,0.605578,0.429415,0.628979,0.959986,0.558852,0.360127,0.609416,0.197825,0.49666800000000005,0.025505,0.804524,0.43226899999999996,0.971722,0.115639,0.383895,0.450334,0.8495809999999999,0.132166,0.709515,0.49420299999999995,0.05394500000000001,0.032829000000000004,0.877073,0.507472,0.664553,0.8920600000000001,0.379697,0.566994,0.41215799999999997,0.5467390000000001,0.556509,0.7880689999999999,0.86666,0.521492,0.148016,0.5945159999999999,0.331415,0.027,0.8398979999999999,0.42171400000000003,0.031713,0.8769870000000001,0.40736500000000003,0.10843399999999999,0.803458,0.688718,0.8185899999999999,0.40915999999999997,0.873466,0.55515,0.389823,0.642883,0.947644,0.834111,0.493039,0.34375,0.039945,0.42572600000000005,0.416822,0.520741,0.633293,0.7101930000000001,0.486969,0.40518200000000004,0.587145,0.15435,0.247586,0.202868,0.638575,0.616646,0.34541700000000003,0.662068,0.551265,0.887073,0.6247199999999999,0.543593,0.298983,0.640242,0.594328,0.7515430000000001],\"z\":[0.096725,0.056749,0.12409,0.07084700000000001,0.047609,0.075834,0.088448,0.16825199999999998,0.098238,0.098277,0.109578,0.049861,0.098271,0.180641,0.075671,0.055027,0.078586,0.13784000000000002,0.096683,0.13516,0.077956,0.056531,0.089389,0.113642,0.102116,0.16865,0.11855999999999998,0.100949,0.18748399999999998,0.05537,0.059638,0.117533,0.14673699999999998,0.08416599999999999,0.096232,0.062665,0.05639299999999999,0.084699,0.141199,0.14636500000000002,0.16631400000000002,0.066738,0.11900899999999999,0.09653300000000001,0.135666,0.128025,0.073038,0.15729500000000002,0.130106,0.109668,0.083609,0.139694,0.125226,0.090895,0.099004,0.132491,0.16465,0.089808,0.083973,0.042256999999999996,0.118408,0.078467,0.099307,0.087241,0.09932200000000001,0.10141499999999999,0.178079,0.092152,0.08655700000000001,0.11261199999999999,0.061413,0.100689,0.05602000000000001,0.13045199999999998,0.080827,0.111132,0.148949,0.075817,0.086701,0.143361,0.142975,0.078996,0.1059,0.097126,0.0556,0.095986,0.11856400000000002,0.124296,0.05781699999999999,0.117844,0.099437,0.091659,0.120618,0.084948,0.125661,0.066551,0.0982,0.086728,0.105879,0.10854100000000001,0.144831,0.167102,0.104643,0.13783900000000002,0.090901,0.100899,0.060788,0.09023400000000001,0.055389,0.06513200000000001,0.108615,0.117283,0.037673000000000005,0.126427,0.077943,0.109385,0.097985,0.09464199999999999,0.06904199999999999,0.10470299999999999,0.061886000000000004,0.090199,0.086624,0.088699,0.063638,0.09955900000000001,0.097137,0.093987,0.07613400000000001,0.18394000000000002,0.091178,0.139031,0.060411,0.087234,0.11601099999999999,0.171542,0.144728,0.121029,0.056346,0.157581,0.061364999999999996,0.111018,0.056334,0.086907,0.055853999999999994,0.189332,0.11046600000000001,0.137667,0.110516,0.048947000000000004,0.058603999999999996,0.10954100000000001,0.050579,0.09748899999999999,0.052833000000000005,0.10538499999999999,0.10399000000000001,0.057747,0.13953,0.080602,0.090782,0.028724,0.058671,0.075172,0.135275,0.10304200000000001,0.082697,0.13106900000000002,0.084847,0.10796800000000001,0.082439,0.094093,0.1024,0.110082,0.06111799999999999,0.071767,0.10655,0.130044,0.11448399999999999,0.08769500000000001,0.109525,0.06023,0.059685,0.121151,0.08941900000000001,0.141988,0.069328,0.087226,0.0966,0.113373,0.075276,0.136222,0.15445899999999999,0.089299,0.06855399999999999,0.102283,0.085522,0.07202599999999999,0.069562,0.119496,0.107254,0.11659000000000001,0.10647000000000001,0.10231699999999999,0.08926100000000001,0.075568,0.11446600000000001,0.145279,0.111827,0.052864999999999995,0.06869600000000001,0.134746,0.10730899999999999,0.055714,0.059347000000000004,0.12483699999999999,0.10718399999999999,0.12001300000000001,0.063172,0.053971000000000005,0.09008200000000001,0.092389,0.09122999999999999,0.10866600000000001,0.075783,0.14547100000000002,0.093001,0.059775999999999996,0.122866,0.092749,0.174501,0.05421599999999999,0.110937,0.141433,0.063218,0.10131799999999999,0.137629,0.031137,0.071909,0.097301,0.14441099999999998,0.08731,0.082623,0.106831,0.121235,0.140652,0.114383,0.09831000000000001,0.10583699999999999,0.115995,0.112686,0.12158,0.067726,0.087545,0.13254000000000002,0.075449,0.08756599999999999,0.127925,0.06303099999999999,0.11971300000000001,0.08204199999999999,0.117721,0.040928,0.081538,0.109551,0.065536,0.10082100000000001,0.136771,0.09751900000000001,0.056237,0.128682,0.088061,0.175904,0.103599,0.08995399999999999,0.125682,0.072361,0.136642,0.120648,0.102121,0.08684,0.096939,0.064121,0.11677799999999999,0.11281400000000001,0.07231699999999999,0.10398199999999999,0.11498699999999999,0.075905,0.035019,0.144092,0.12079000000000001,0.104803,0.10219099999999999,0.083743,0.172388,0.034520999999999996,0.08844500000000001,0.170629,0.138098,0.08294,0.064973,0.12036600000000001,0.132074,0.129683,0.068583,0.078455,0.162509,0.101694,0.09165,0.11842899999999999,0.136523,0.060138,0.09882200000000001,0.072258,0.057141,0.096944,0.08969500000000001,0.07521,0.047711,0.088804,0.060940999999999995,0.09471,0.1424,0.10822899999999999,0.07120900000000001,0.058338,0.079459,0.079376,0.158301,0.158494,0.08123,0.088167,0.086526,0.06456100000000001,0.062002,0.14102699999999999,0.079838,0.11883800000000001,0.10279300000000001,0.059289999999999995,0.12749000000000002,0.054511000000000004,0.056039,0.08153400000000001,0.176145,0.13332,0.114632,0.057244,0.105645,0.097109,0.117874,0.083755,0.09878300000000001,0.084061,0.069244,0.09980399999999999,0.13706600000000002,0.169127,0.13070199999999998,0.108574,0.068335,0.13955399999999998,0.079908,0.11021500000000001,0.069036,0.064612,0.108221,0.026789999999999998,0.119654,0.10737000000000001,0.129699,0.07584500000000001,0.168014,0.061299,0.073503,0.130026,0.06398999999999999,0.127424,0.10101,0.095722,0.12097100000000001,0.106241,0.140265,0.089059,0.079843,0.09353500000000001,0.098993,0.07098099999999999,0.057710000000000004,0.07410499999999999,0.093088,0.121762,0.050904000000000005,0.112456,0.09522699999999999,0.081661,0.117368,0.075666,0.10270599999999999],\"type\":\"scatter3d\"}],                        {\"template\":{\"data\":{\"histogram2dcontour\":[{\"type\":\"histogram2dcontour\",\"colorbar\":{\"outlinewidth\":0,\"ticks\":\"\"},\"colorscale\":[[0.0,\"#0d0887\"],[0.1111111111111111,\"#46039f\"],[0.2222222222222222,\"#7201a8\"],[0.3333333333333333,\"#9c179e\"],[0.4444444444444444,\"#bd3786\"],[0.5555555555555556,\"#d8576b\"],[0.6666666666666666,\"#ed7953\"],[0.7777777777777778,\"#fb9f3a\"],[0.8888888888888888,\"#fdca26\"],[1.0,\"#f0f921\"]]}],\"choropleth\":[{\"type\":\"choropleth\",\"colorbar\":{\"outlinewidth\":0,\"ticks\":\"\"}}],\"histogram2d\":[{\"type\":\"histogram2d\",\"colorbar\":{\"outlinewidth\":0,\"ticks\":\"\"},\"colorscale\":[[0.0,\"#0d0887\"],[0.1111111111111111,\"#46039f\"],[0.2222222222222222,\"#7201a8\"],[0.3333333333333333,\"#9c179e\"],[0.4444444444444444,\"#bd3786\"],[0.5555555555555556,\"#d8576b\"],[0.6666666666666666,\"#ed7953\"],[0.7777777777777778,\"#fb9f3a\"],[0.8888888888888888,\"#fdca26\"],[1.0,\"#f0f921\"]]}],\"heatmap\":[{\"type\":\"heatmap\",\"colorbar\":{\"outlinewidth\":0,\"ticks\":\"\"},\"colorscale\":[[0.0,\"#0d0887\"],[0.1111111111111111,\"#46039f\"],[0.2222222222222222,\"#7201a8\"],[0.3333333333333333,\"#9c179e\"],[0.4444444444444444,\"#bd3786\"],[0.5555555555555556,\"#d8576b\"],[0.6666666666666666,\"#ed7953\"],[0.7777777777777778,\"#fb9f3a\"],[0.8888888888888888,\"#fdca26\"],[1.0,\"#f0f921\"]]}],\"heatmapgl\":[{\"type\":\"heatmapgl\",\"colorbar\":{\"outlinewidth\":0,\"ticks\":\"\"},\"colorscale\":[[0.0,\"#0d0887\"],[0.1111111111111111,\"#46039f\"],[0.2222222222222222,\"#7201a8\"],[0.3333333333333333,\"#9c179e\"],[0.4444444444444444,\"#bd3786\"],[0.5555555555555556,\"#d8576b\"],[0.6666666666666666,\"#ed7953\"],[0.7777777777777778,\"#fb9f3a\"],[0.8888888888888888,\"#fdca26\"],[1.0,\"#f0f921\"]]}],\"contourcarpet\":[{\"type\":\"contourcarpet\",\"colorbar\":{\"outlinewidth\":0,\"ticks\":\"\"}}],\"contour\":[{\"type\":\"contour\",\"colorbar\":{\"outlinewidth\":0,\"ticks\":\"\"},\"colorscale\":[[0.0,\"#0d0887\"],[0.1111111111111111,\"#46039f\"],[0.2222222222222222,\"#7201a8\"],[0.3333333333333333,\"#9c179e\"],[0.4444444444444444,\"#bd3786\"],[0.5555555555555556,\"#d8576b\"],[0.6666666666666666,\"#ed7953\"],[0.7777777777777778,\"#fb9f3a\"],[0.8888888888888888,\"#fdca26\"],[1.0,\"#f0f921\"]]}],\"surface\":[{\"type\":\"surface\",\"colorbar\":{\"outlinewidth\":0,\"ticks\":\"\"},\"colorscale\":[[0.0,\"#0d0887\"],[0.1111111111111111,\"#46039f\"],[0.2222222222222222,\"#7201a8\"],[0.3333333333333333,\"#9c179e\"],[0.4444444444444444,\"#bd3786\"],[0.5555555555555556,\"#d8576b\"],[0.6666666666666666,\"#ed7953\"],[0.7777777777777778,\"#fb9f3a\"],[0.8888888888888888,\"#fdca26\"],[1.0,\"#f0f921\"]]}],\"mesh3d\":[{\"type\":\"mesh3d\",\"colorbar\":{\"outlinewidth\":0,\"ticks\":\"\"}}],\"scatter\":[{\"fillpattern\":{\"fillmode\":\"overlay\",\"size\":10,\"solidity\":0.2},\"type\":\"scatter\"}],\"parcoords\":[{\"type\":\"parcoords\",\"line\":{\"colorbar\":{\"outlinewidth\":0,\"ticks\":\"\"}}}],\"scatterpolargl\":[{\"type\":\"scatterpolargl\",\"marker\":{\"colorbar\":{\"outlinewidth\":0,\"ticks\":\"\"}}}],\"bar\":[{\"error_x\":{\"color\":\"#2a3f5f\"},\"error_y\":{\"color\":\"#2a3f5f\"},\"marker\":{\"line\":{\"color\":\"#E5ECF6\",\"width\":0.5},\"pattern\":{\"fillmode\":\"overlay\",\"size\":10,\"solidity\":0.2}},\"type\":\"bar\"}],\"scattergeo\":[{\"type\":\"scattergeo\",\"marker\":{\"colorbar\":{\"outlinewidth\":0,\"ticks\":\"\"}}}],\"scatterpolar\":[{\"type\":\"scatterpolar\",\"marker\":{\"colorbar\":{\"outlinewidth\":0,\"ticks\":\"\"}}}],\"histogram\":[{\"marker\":{\"pattern\":{\"fillmode\":\"overlay\",\"size\":10,\"solidity\":0.2}},\"type\":\"histogram\"}],\"scattergl\":[{\"type\":\"scattergl\",\"marker\":{\"colorbar\":{\"outlinewidth\":0,\"ticks\":\"\"}}}],\"scatter3d\":[{\"type\":\"scatter3d\",\"line\":{\"colorbar\":{\"outlinewidth\":0,\"ticks\":\"\"}},\"marker\":{\"colorbar\":{\"outlinewidth\":0,\"ticks\":\"\"}}}],\"scattermapbox\":[{\"type\":\"scattermapbox\",\"marker\":{\"colorbar\":{\"outlinewidth\":0,\"ticks\":\"\"}}}],\"scatterternary\":[{\"type\":\"scatterternary\",\"marker\":{\"colorbar\":{\"outlinewidth\":0,\"ticks\":\"\"}}}],\"scattercarpet\":[{\"type\":\"scattercarpet\",\"marker\":{\"colorbar\":{\"outlinewidth\":0,\"ticks\":\"\"}}}],\"carpet\":[{\"aaxis\":{\"endlinecolor\":\"#2a3f5f\",\"gridcolor\":\"white\",\"linecolor\":\"white\",\"minorgridcolor\":\"white\",\"startlinecolor\":\"#2a3f5f\"},\"baxis\":{\"endlinecolor\":\"#2a3f5f\",\"gridcolor\":\"white\",\"linecolor\":\"white\",\"minorgridcolor\":\"white\",\"startlinecolor\":\"#2a3f5f\"},\"type\":\"carpet\"}],\"table\":[{\"cells\":{\"fill\":{\"color\":\"#EBF0F8\"},\"line\":{\"color\":\"white\"}},\"header\":{\"fill\":{\"color\":\"#C8D4E3\"},\"line\":{\"color\":\"white\"}},\"type\":\"table\"}],\"barpolar\":[{\"marker\":{\"line\":{\"color\":\"#E5ECF6\",\"width\":0.5},\"pattern\":{\"fillmode\":\"overlay\",\"size\":10,\"solidity\":0.2}},\"type\":\"barpolar\"}],\"pie\":[{\"automargin\":true,\"type\":\"pie\"}]},\"layout\":{\"autotypenumbers\":\"strict\",\"colorway\":[\"#636efa\",\"#EF553B\",\"#00cc96\",\"#ab63fa\",\"#FFA15A\",\"#19d3f3\",\"#FF6692\",\"#B6E880\",\"#FF97FF\",\"#FECB52\"],\"font\":{\"color\":\"#2a3f5f\"},\"hovermode\":\"closest\",\"hoverlabel\":{\"align\":\"left\"},\"paper_bgcolor\":\"white\",\"plot_bgcolor\":\"#E5ECF6\",\"polar\":{\"bgcolor\":\"#E5ECF6\",\"angularaxis\":{\"gridcolor\":\"white\",\"linecolor\":\"white\",\"ticks\":\"\"},\"radialaxis\":{\"gridcolor\":\"white\",\"linecolor\":\"white\",\"ticks\":\"\"}},\"ternary\":{\"bgcolor\":\"#E5ECF6\",\"aaxis\":{\"gridcolor\":\"white\",\"linecolor\":\"white\",\"ticks\":\"\"},\"baxis\":{\"gridcolor\":\"white\",\"linecolor\":\"white\",\"ticks\":\"\"},\"caxis\":{\"gridcolor\":\"white\",\"linecolor\":\"white\",\"ticks\":\"\"}},\"coloraxis\":{\"colorbar\":{\"outlinewidth\":0,\"ticks\":\"\"}},\"colorscale\":{\"sequential\":[[0.0,\"#0d0887\"],[0.1111111111111111,\"#46039f\"],[0.2222222222222222,\"#7201a8\"],[0.3333333333333333,\"#9c179e\"],[0.4444444444444444,\"#bd3786\"],[0.5555555555555556,\"#d8576b\"],[0.6666666666666666,\"#ed7953\"],[0.7777777777777778,\"#fb9f3a\"],[0.8888888888888888,\"#fdca26\"],[1.0,\"#f0f921\"]],\"sequentialminus\":[[0.0,\"#0d0887\"],[0.1111111111111111,\"#46039f\"],[0.2222222222222222,\"#7201a8\"],[0.3333333333333333,\"#9c179e\"],[0.4444444444444444,\"#bd3786\"],[0.5555555555555556,\"#d8576b\"],[0.6666666666666666,\"#ed7953\"],[0.7777777777777778,\"#fb9f3a\"],[0.8888888888888888,\"#fdca26\"],[1.0,\"#f0f921\"]],\"diverging\":[[0,\"#8e0152\"],[0.1,\"#c51b7d\"],[0.2,\"#de77ae\"],[0.3,\"#f1b6da\"],[0.4,\"#fde0ef\"],[0.5,\"#f7f7f7\"],[0.6,\"#e6f5d0\"],[0.7,\"#b8e186\"],[0.8,\"#7fbc41\"],[0.9,\"#4d9221\"],[1,\"#276419\"]]},\"xaxis\":{\"gridcolor\":\"white\",\"linecolor\":\"white\",\"ticks\":\"\",\"title\":{\"standoff\":15},\"zerolinecolor\":\"white\",\"automargin\":true,\"zerolinewidth\":2},\"yaxis\":{\"gridcolor\":\"white\",\"linecolor\":\"white\",\"ticks\":\"\",\"title\":{\"standoff\":15},\"zerolinecolor\":\"white\",\"automargin\":true,\"zerolinewidth\":2},\"scene\":{\"xaxis\":{\"backgroundcolor\":\"#E5ECF6\",\"gridcolor\":\"white\",\"linecolor\":\"white\",\"showbackground\":true,\"ticks\":\"\",\"zerolinecolor\":\"white\",\"gridwidth\":2},\"yaxis\":{\"backgroundcolor\":\"#E5ECF6\",\"gridcolor\":\"white\",\"linecolor\":\"white\",\"showbackground\":true,\"ticks\":\"\",\"zerolinecolor\":\"white\",\"gridwidth\":2},\"zaxis\":{\"backgroundcolor\":\"#E5ECF6\",\"gridcolor\":\"white\",\"linecolor\":\"white\",\"showbackground\":true,\"ticks\":\"\",\"zerolinecolor\":\"white\",\"gridwidth\":2}},\"shapedefaults\":{\"line\":{\"color\":\"#2a3f5f\"}},\"annotationdefaults\":{\"arrowcolor\":\"#2a3f5f\",\"arrowhead\":0,\"arrowwidth\":1},\"geo\":{\"bgcolor\":\"white\",\"landcolor\":\"#E5ECF6\",\"subunitcolor\":\"white\",\"showland\":true,\"showlakes\":true,\"lakecolor\":\"white\"},\"title\":{\"x\":0.05},\"mapbox\":{\"style\":\"light\"}}},\"scene\":{\"xaxis\":{\"title\":{\"text\":\"0th\"},\"type\":\"linear\",\"showexponent\":\"all\",\"exponentformat\":\"e\"},\"yaxis\":{\"title\":{\"text\":\"1st\"},\"type\":\"linear\",\"showexponent\":\"all\",\"exponentformat\":\"e\"},\"zaxis\":{\"title\":{\"text\":\"2nd\"},\"type\":\"linear\",\"showexponent\":\"all\",\"exponentformat\":\"e\"}}},                        {\"responsive\": true}                    ).then(function(){\n",
              "                            \n",
              "var gd = document.getElementById('cfe26487-f315-4823-80ff-e68554ecfdc4');\n",
              "var x = new MutationObserver(function (mutations, observer) {{\n",
              "        var display = window.getComputedStyle(gd).display;\n",
              "        if (!display || display === 'none') {{\n",
              "            console.log([gd, 'removed!']);\n",
              "            Plotly.purge(gd);\n",
              "            observer.disconnect();\n",
              "        }}\n",
              "}});\n",
              "\n",
              "// Listen for the removal of the full notebook cells\n",
              "var notebookContainer = gd.closest('#notebook-container');\n",
              "if (notebookContainer) {{\n",
              "    x.observe(notebookContainer, {childList: true});\n",
              "}}\n",
              "\n",
              "// Listen for the clearing of the current output cell\n",
              "var outputEl = gd.closest('.output');\n",
              "if (outputEl) {{\n",
              "    x.observe(outputEl, {childList: true});\n",
              "}}\n",
              "\n",
              "                        })                };                            </script>        </div>\n",
              "</body>\n",
              "</html>"
            ]
          },
          "metadata": {}
        }
      ],
      "source": [
        "plot_point_cloud(point_clouds[0])"
      ]
    },
    {
      "cell_type": "code",
      "execution_count": null,
      "metadata": {
        "id": "GnWq3TeCRhdr"
      },
      "outputs": [],
      "source": [
        "from sklearn.model_selection import train_test_split\n",
        "\n",
        "# train_size, test_size = 30, 10\n",
        "\n",
        "# # Reshape to (n_samples, n_pixels_x, n_pixels_y)\n",
        "# X = X.reshape((-1, 28, 28))\n",
        "\n",
        "X_train, X_test, y_train, y_test = train_test_split(\n",
        "    point_clouds, labels,  test_size=0.25,  shuffle=True, random_state=42\n",
        ")"
      ]
    },
    {
      "cell_type": "code",
      "execution_count": null,
      "metadata": {
        "id": "Kegdogog-JaU"
      },
      "outputs": [],
      "source": [
        "from gtda.homology import VietorisRipsPersistence\n",
        "# Track connected components, loops, and voids\n",
        "homology_dimensions = [0, 1, 2]\n",
        "\n",
        "# Collapse edges to speed up H2 persistence calculation!\n",
        "persistence = VietorisRipsPersistence(\n",
        "    metric=\"euclidean\",\n",
        "    homology_dimensions=homology_dimensions,\n",
        "    n_jobs=6,\n",
        "    collapse_edges=True,\n",
        ")\n",
        "persistence_diagrams_train = persistence.fit_transform(X_train)\n",
        "persistence_diagrams_test = persistence.fit_transform(X_test)"
      ]
    },
    {
      "cell_type": "code",
      "execution_count": null,
      "metadata": {
        "colab": {
          "base_uri": "https://localhost:8080/"
        },
        "id": "s3B9-xys1JjF",
        "outputId": "24afe221-e100-4654-bda7-cab83000a0ff"
      },
      "outputs": [
        {
          "output_type": "stream",
          "name": "stdout",
          "text": [
            "(30, 581, 3)\n"
          ]
        }
      ],
      "source": [
        "print(persistence_diagrams_train.shape)"
      ]
    },
    {
      "cell_type": "code",
      "execution_count": null,
      "metadata": {
        "colab": {
          "base_uri": "https://localhost:8080/",
          "height": 535
        },
        "id": "noxaNBER-byR",
        "outputId": "ce19186e-1acf-4c85-8644-7f9338aebc49"
      },
      "outputs": [
        {
          "output_type": "stream",
          "name": "stdout",
          "text": [
            "Label: 0.0\n"
          ]
        },
        {
          "output_type": "display_data",
          "data": {
            "text/html": [
              "<html>\n",
              "<head><meta charset=\"utf-8\" /></head>\n",
              "<body>\n",
              "    <div>            <script src=\"https://cdnjs.cloudflare.com/ajax/libs/mathjax/2.7.5/MathJax.js?config=TeX-AMS-MML_SVG\"></script><script type=\"text/javascript\">if (window.MathJax && window.MathJax.Hub && window.MathJax.Hub.Config) {window.MathJax.Hub.Config({SVG: {font: \"STIX-Web\"}});}</script>                <script type=\"text/javascript\">window.PlotlyConfig = {MathJaxConfig: 'local'};</script>\n",
              "        <script charset=\"utf-8\" src=\"https://cdn.plot.ly/plotly-2.24.1.min.js\"></script>                <div id=\"4b8a70d4-3063-4b2d-a2b7-a2a551252ef0\" class=\"plotly-graph-div\" style=\"height:500px; width:500px;\"></div>            <script type=\"text/javascript\">                                    window.PLOTLYENV=window.PLOTLYENV || {};                                    if (document.getElementById(\"4b8a70d4-3063-4b2d-a2b7-a2a551252ef0\")) {                    Plotly.newPlot(                        \"4b8a70d4-3063-4b2d-a2b7-a2a551252ef0\",                        [{\"hoverinfo\":\"none\",\"line\":{\"color\":\"black\",\"dash\":\"dash\",\"width\":1},\"mode\":\"lines\",\"showlegend\":false,\"x\":[-0.0027880483865737916,0.14219046771526336],\"y\":[-0.0027880483865737916,0.14219046771526336],\"type\":\"scatter\"},{\"hoverinfo\":\"text\",\"hovertext\":[\"(0.0, 0.0005146542680449784)\",\"(0.0, 0.0012990288669243455)\",\"(0.0, 0.002032527467235923)\",\"(0.0, 0.0025302856229245663)\",\"(0.0, 0.002890376839786768)\",\"(0.0, 0.002994039561599493)\",\"(0.0, 0.003274681745097041)\",\"(0.0, 0.0034208830911666155)\",\"(0.0, 0.003990523982793093)\",\"(0.0, 0.004458795767277479)\",\"(0.0, 0.004732548724859953)\",\"(0.0, 0.0049522449262440205)\",\"(0.0, 0.005334899760782719)\",\"(0.0, 0.005489973817020655)\",\"(0.0, 0.005632124375551939)\",\"(0.0, 0.005947018042206764)\",\"(0.0, 0.006513206288218498)\",\"(0.0, 0.006519681308418512)\",\"(0.0, 0.006519971881061792)\",\"(0.0, 0.006573226302862167)\",\"(0.0, 0.006596526596695185)\",\"(0.0, 0.006650915835052729)\",\"(0.0, 0.006946498993784189)\",\"(0.0, 0.006979628466069698)\",\"(0.0, 0.007212094496935606)\",\"(0.0, 0.007445222232490778)\",\"(0.0, 0.007558303885161877)\",\"(0.0, 0.0077047632075846195)\",\"(0.0, 0.007883782498538494)\",\"(0.0, 0.007983094081282616)\",\"(0.0, 0.008563556708395481)\",\"(0.0, 0.008666756562888622)\",\"(0.0, 0.008951053023338318)\",\"(0.0, 0.009051279164850712)\",\"(0.0, 0.00906684622168541)\",\"(0.0, 0.009109380654990673)\",\"(0.0, 0.0094982348382473)\",\"(0.0, 0.009540296159684658)\",\"(0.0, 0.009554787538945675)\",\"(0.0, 0.009588428772985935)\",\"(0.0, 0.009825823828577995)\",\"(0.0, 0.009864022955298424)\",\"(0.0, 0.009995273314416409)\",\"(0.0, 0.010154671967029572)\",\"(0.0, 0.010194819420576096)\",\"(0.0, 0.010224970057606697)\",\"(0.0, 0.010295341722667217)\",\"(0.0, 0.010411377996206284)\",\"(0.0, 0.010753967799246311)\",\"(0.0, 0.01085724588483572)\",\"(0.0, 0.010961524210870266)\",\"(0.0, 0.011094244197010994)\",\"(0.0, 0.011186590418219566)\",\"(0.0, 0.011289586313068867)\",\"(0.0, 0.011328340508043766)\",\"(0.0, 0.011467203497886658)\",\"(0.0, 0.011561518535017967)\",\"(0.0, 0.011781361885368824)\",\"(0.0, 0.011882893741130829)\",\"(0.0, 0.01193391252309084)\",\"(0.0, 0.012042067013680935)\",\"(0.0, 0.01208589319139719)\",\"(0.0, 0.012239737436175346)\",\"(0.0, 0.012343009933829308)\",\"(0.0, 0.012475831434130669)\",\"(0.0, 0.012565640732645988)\",\"(0.0, 0.01259745005518198)\",\"(0.0, 0.012604969553649426)\",\"(0.0, 0.012735284864902496)\",\"(0.0, 0.013183780014514923)\",\"(0.0, 0.013327043503522873)\",\"(0.0, 0.013393890112638474)\",\"(0.0, 0.013505122624337673)\",\"(0.0, 0.013905136846005917)\",\"(0.0, 0.014067632146179676)\",\"(0.0, 0.01406822632998228)\",\"(0.0, 0.014094636775553226)\",\"(0.0, 0.014125882647931576)\",\"(0.0, 0.014128508977591991)\",\"(0.0, 0.014502552337944508)\",\"(0.0, 0.014526966959238052)\",\"(0.0, 0.01457833219319582)\",\"(0.0, 0.014582611620426178)\",\"(0.0, 0.01463994663208723)\",\"(0.0, 0.014757024124264717)\",\"(0.0, 0.014979288913309574)\",\"(0.0, 0.015081950463354588)\",\"(0.0, 0.015160594135522842)\",\"(0.0, 0.015333514660596848)\",\"(0.0, 0.01542637124657631)\",\"(0.0, 0.015464349649846554)\",\"(0.0, 0.015512918122112751)\",\"(0.0, 0.015538017265498638)\",\"(0.0, 0.01573447324335575)\",\"(0.0, 0.015865681692957878)\",\"(0.0, 0.01592601276934147)\",\"(0.0, 0.016133392229676247)\",\"(0.0, 0.016286125406622887)\",\"(0.0, 0.016398128122091293)\",\"(0.0, 0.01641443930566311)\",\"(0.0, 0.016421949490904808)\",\"(0.0, 0.016447823494672775)\",\"(0.0, 0.01645383983850479)\",\"(0.0, 0.016644364222884178)\",\"(0.0, 0.016756409779191017)\",\"(0.0, 0.016862373799085617)\",\"(0.0, 0.01694975420832634)\",\"(0.0, 0.01699943095445633)\",\"(0.0, 0.017063938081264496)\",\"(0.0, 0.01709035038948059)\",\"(0.0, 0.01714356429874897)\",\"(0.0, 0.017338838428258896)\",\"(0.0, 0.017422178760170937)\",\"(0.0, 0.017427848652005196)\",\"(0.0, 0.01780405268073082)\",\"(0.0, 0.017810259014368057)\",\"(0.0, 0.017965668812394142)\",\"(0.0, 0.018004950135946274)\",\"(0.0, 0.018240172415971756)\",\"(0.0, 0.01836434006690979)\",\"(0.0, 0.018446454778313637)\",\"(0.0, 0.018455032259225845)\",\"(0.0, 0.01862272620201111)\",\"(0.0, 0.018689271062612534)\",\"(0.0, 0.018732713535428047)\",\"(0.0, 0.01878989487886429)\",\"(0.0, 0.018868358805775642)\",\"(0.0, 0.019140712916851044)\",\"(0.0, 0.01915731281042099)\",\"(0.0, 0.01916123740375042)\",\"(0.0, 0.019189173355698586)\",\"(0.0, 0.019275443628430367)\",\"(0.0, 0.01933540403842926)\",\"(0.0, 0.019340267404913902)\",\"(0.0, 0.01935124211013317)\",\"(0.0, 0.01936628483235836)\",\"(0.0, 0.019458644092082977)\",\"(0.0, 0.019512373954057693)\",\"(0.0, 0.01964992843568325)\",\"(0.0, 0.01967831514775753)\",\"(0.0, 0.01967870444059372)\",\"(0.0, 0.019692249596118927)\",\"(0.0, 0.019996754825115204)\",\"(0.0, 0.020022155717015266)\",\"(0.0, 0.020035281777381897)\",\"(0.0, 0.02006080374121666)\",\"(0.0, 0.020257970318198204)\",\"(0.0, 0.020339906215667725)\",\"(0.0, 0.02036341279745102)\",\"(0.0, 0.020437506958842278)\",\"(0.0, 0.02047823928296566)\",\"(0.0, 0.020494218915700912)\",\"(0.0, 0.020494623109698296)\",\"(0.0, 0.020516175776720047)\",\"(0.0, 0.020563295111060143)\",\"(0.0, 0.02059946581721306)\",\"(0.0, 0.0206258874386549)\",\"(0.0, 0.02067156694829464)\",\"(0.0, 0.020703690126538277)\",\"(0.0, 0.020720969885587692)\",\"(0.0, 0.02072763815522194)\",\"(0.0, 0.020774584263563156)\",\"(0.0, 0.02097872644662857)\",\"(0.0, 0.021008459851145744)\",\"(0.0, 0.021013570949435234)\",\"(0.0, 0.02102271094918251)\",\"(0.0, 0.021029118448495865)\",\"(0.0, 0.021037563681602478)\",\"(0.0, 0.02113279514014721)\",\"(0.0, 0.02114161103963852)\",\"(0.0, 0.0211678184568882)\",\"(0.0, 0.021174751222133636)\",\"(0.0, 0.02119501680135727)\",\"(0.0, 0.021257977932691574)\",\"(0.0, 0.021269360557198524)\",\"(0.0, 0.021278779953718185)\",\"(0.0, 0.021314211189746857)\",\"(0.0, 0.021370721980929375)\",\"(0.0, 0.02162851020693779)\",\"(0.0, 0.021654751151800156)\",\"(0.0, 0.021769409999251366)\",\"(0.0, 0.021849500015378)\",\"(0.0, 0.021912846714258194)\",\"(0.0, 0.021915774792432785)\",\"(0.0, 0.022030113264918327)\",\"(0.0, 0.02203400805592537)\",\"(0.0, 0.02218220755457878)\",\"(0.0, 0.022208798676729202)\",\"(0.0, 0.022353148087859154)\",\"(0.0, 0.02237122133374214)\",\"(0.0, 0.022383922711014748)\",\"(0.0, 0.022452395409345627)\",\"(0.0, 0.02251947671175003)\",\"(0.0, 0.022621173411607742)\",\"(0.0, 0.0226624496281147)\",\"(0.0, 0.022718513384461403)\",\"(0.0, 0.022720346227288246)\",\"(0.0, 0.022770969197154045)\",\"(0.0, 0.02298753522336483)\",\"(0.0, 0.023000076413154602)\",\"(0.0, 0.023173468187451363)\",\"(0.0, 0.023206599056720734)\",\"(0.0, 0.023277033120393753)\",\"(0.0, 0.023504698649048805)\",\"(0.0, 0.023522984236478806)\",\"(0.0, 0.02357633225619793)\",\"(0.0, 0.023604635149240494)\",\"(0.0, 0.0236248429864645)\",\"(0.0, 0.023640066385269165)\",\"(0.0, 0.023839203640818596)\",\"(0.0, 0.02405383810400963)\",\"(0.0, 0.02421284094452858)\",\"(0.0, 0.02424336038529873)\",\"(0.0, 0.02424493618309498)\",\"(0.0, 0.024368837475776672)\",\"(0.0, 0.024369526654481888)\",\"(0.0, 0.024417385458946228)\",\"(0.0, 0.02443939447402954)\",\"(0.0, 0.024606995284557343)\",\"(0.0, 0.024678127840161324)\",\"(0.0, 0.02470223978161812)\",\"(0.0, 0.02474725805222988)\",\"(0.0, 0.02478940412402153)\",\"(0.0, 0.024807803332805634)\",\"(0.0, 0.02481914311647415)\",\"(0.0, 0.0248409453779459)\",\"(0.0, 0.024854475632309914)\",\"(0.0, 0.024863338097929955)\",\"(0.0, 0.025060171261429787)\",\"(0.0, 0.025149783119559288)\",\"(0.0, 0.025174370035529137)\",\"(0.0, 0.025266971439123154)\",\"(0.0, 0.02533666230738163)\",\"(0.0, 0.02534215711057186)\",\"(0.0, 0.025435909628868103)\",\"(0.0, 0.025521816685795784)\",\"(0.0, 0.025570577010512352)\",\"(0.0, 0.02559136040508747)\",\"(0.0, 0.025654422119259834)\",\"(0.0, 0.025696933269500732)\",\"(0.0, 0.025729093700647354)\",\"(0.0, 0.025910042226314545)\",\"(0.0, 0.02606245130300522)\",\"(0.0, 0.026202980428934097)\",\"(0.0, 0.026325233280658722)\",\"(0.0, 0.02645738609135151)\",\"(0.0, 0.02655429020524025)\",\"(0.0, 0.026564395055174828)\",\"(0.0, 0.026585165411233902)\",\"(0.0, 0.026588058099150658)\",\"(0.0, 0.026658324524760246)\",\"(0.0, 0.026697274297475815)\",\"(0.0, 0.026734862476587296)\",\"(0.0, 0.026828540489077568)\",\"(0.0, 0.026869559660553932)\",\"(0.0, 0.02732284553349018)\",\"(0.0, 0.027465635910630226)\",\"(0.0, 0.027567513287067413)\",\"(0.0, 0.02778783068060875)\",\"(0.0, 0.027803471311926842)\",\"(0.0, 0.02782275527715683)\",\"(0.0, 0.027865702286362648)\",\"(0.0, 0.02794322930276394)\",\"(0.0, 0.028046736493706703)\",\"(0.0, 0.028063608333468437)\",\"(0.0, 0.028075162321329117)\",\"(0.0, 0.02809406816959381)\",\"(0.0, 0.02811996079981327)\",\"(0.0, 0.028200676664710045)\",\"(0.0, 0.028268449008464813)\",\"(0.0, 0.028306713327765465)\",\"(0.0, 0.028486467897892)\",\"(0.0, 0.028521724045276642)\",\"(0.0, 0.028651734814047813)\",\"(0.0, 0.028669148683547974)\",\"(0.0, 0.028696101158857346)\",\"(0.0, 0.02870548516511917)\",\"(0.0, 0.0287537332624197)\",\"(0.0, 0.028771312907338142)\",\"(0.0, 0.028821928426623344)\",\"(0.0, 0.028897324576973915)\",\"(0.0, 0.02891942299902439)\",\"(0.0, 0.02897855080664158)\",\"(0.0, 0.02901182882487774)\",\"(0.0, 0.029055096209049225)\",\"(0.0, 0.029061274603009224)\",\"(0.0, 0.029237205162644386)\",\"(0.0, 0.029266394674777985)\",\"(0.0, 0.029384419322013855)\",\"(0.0, 0.029463471844792366)\",\"(0.0, 0.029538527131080627)\",\"(0.0, 0.029894473031163216)\",\"(0.0, 0.029940290376544)\",\"(0.0, 0.029987681657075882)\",\"(0.0, 0.029988860711455345)\",\"(0.0, 0.03006911836564541)\",\"(0.0, 0.030156733468174934)\",\"(0.0, 0.030228398740291595)\",\"(0.0, 0.030550159513950348)\",\"(0.0, 0.030558226630091667)\",\"(0.0, 0.03103104792535305)\",\"(0.0, 0.03103519231081009)\",\"(0.0, 0.031036853790283203)\",\"(0.0, 0.031054096296429634)\",\"(0.0, 0.03114446811378002)\",\"(0.0, 0.031273964792490005)\",\"(0.0, 0.03129943460226059)\",\"(0.0, 0.03129996359348297)\",\"(0.0, 0.03135764226317406)\",\"(0.0, 0.03147098422050476)\",\"(0.0, 0.03177589550614357)\",\"(0.0, 0.031832270324230194)\",\"(0.0, 0.03210500627756119)\",\"(0.0, 0.032311055809259415)\",\"(0.0, 0.03232177719473839)\",\"(0.0, 0.032406214624643326)\",\"(0.0, 0.03252122923731804)\",\"(0.0, 0.03285757824778557)\",\"(0.0, 0.03297082707285881)\",\"(0.0, 0.03313335403800011)\",\"(0.0, 0.03340935334563255)\",\"(0.0, 0.033429618924856186)\",\"(0.0, 0.03347074240446091)\",\"(0.0, 0.03347994387149811)\",\"(0.0, 0.033696066588163376)\",\"(0.0, 0.033777087926864624)\",\"(0.0, 0.03388472646474838)\",\"(0.0, 0.034035999327898026)\",\"(0.0, 0.03442569449543953)\",\"(0.0, 0.03498153015971184)\",\"(0.0, 0.035098880529403687)\",\"(0.0, 0.03512289375066757)\",\"(0.0, 0.03534897789359093)\",\"(0.0, 0.03573682904243469)\",\"(0.0, 0.03673135116696358)\",\"(0.0, 0.03677968680858612)\",\"(0.0, 0.036973342299461365)\",\"(0.0, 0.03706735745072365)\",\"(0.0, 0.037095677107572556)\",\"(0.0, 0.0371151827275753)\",\"(0.0, 0.03735615685582161)\",\"(0.0, 0.03740338981151581)\",\"(0.0, 0.037588104605674744)\",\"(0.0, 0.037731144577264786)\",\"(0.0, 0.037979383021593094)\",\"(0.0, 0.03803728148341179)\",\"(0.0, 0.03816884756088257)\",\"(0.0, 0.03835226967930794)\",\"(0.0, 0.03838808462023735)\",\"(0.0, 0.038388147950172424)\",\"(0.0, 0.03839969262480736)\",\"(0.0, 0.03843254968523979)\",\"(0.0, 0.038450874388217926)\",\"(0.0, 0.038502857089042664)\",\"(0.0, 0.03858838602900505)\",\"(0.0, 0.038618847727775574)\",\"(0.0, 0.038638293743133545)\",\"(0.0, 0.03893199563026428)\",\"(0.0, 0.03942250832915306)\",\"(0.0, 0.03989073261618614)\",\"(0.0, 0.04009007290005684)\",\"(0.0, 0.040171630680561066)\",\"(0.0, 0.04023222625255585)\",\"(0.0, 0.04044182971119881)\",\"(0.0, 0.040882233530282974)\",\"(0.0, 0.04089857265353203)\",\"(0.0, 0.04093892499804497)\",\"(0.0, 0.04136090353131294)\",\"(0.0, 0.04144461825489998)\",\"(0.0, 0.041615936905145645)\",\"(0.0, 0.04163727909326553)\",\"(0.0, 0.041990797966718674)\",\"(0.0, 0.04223886877298355)\",\"(0.0, 0.04224810749292374)\",\"(0.0, 0.042263783514499664)\",\"(0.0, 0.042374078184366226)\",\"(0.0, 0.04243781790137291)\",\"(0.0, 0.043067507445812225)\",\"(0.0, 0.04384249821305275)\",\"(0.0, 0.04415493085980415)\",\"(0.0, 0.0442514643073082)\",\"(0.0, 0.04425319284200668)\",\"(0.0, 0.044584911316633224)\",\"(0.0, 0.045154426246881485)\",\"(0.0, 0.04529029503464699)\",\"(0.0, 0.04534666985273361)\",\"(0.0, 0.04549047723412514)\",\"(0.0, 0.04610501974821091)\",\"(0.0, 0.04646477475762367)\",\"(0.0, 0.046526771038770676)\",\"(0.0, 0.04666070640087128)\",\"(0.0, 0.04750669002532959)\",\"(0.0, 0.0477210097014904)\",\"(0.0, 0.0483989454805851)\",\"(0.0, 0.05166048929095268)\",\"(0.0, 0.052889611572027206)\",\"(0.0, 0.05403657257556915)\",\"(0.0, 0.060386400669813156)\",\"(0.0, 0.06425540894269943)\"],\"mode\":\"markers\",\"name\":\"H0\",\"x\":[0.0,0.0,0.0,0.0,0.0,0.0,0.0,0.0,0.0,0.0,0.0,0.0,0.0,0.0,0.0,0.0,0.0,0.0,0.0,0.0,0.0,0.0,0.0,0.0,0.0,0.0,0.0,0.0,0.0,0.0,0.0,0.0,0.0,0.0,0.0,0.0,0.0,0.0,0.0,0.0,0.0,0.0,0.0,0.0,0.0,0.0,0.0,0.0,0.0,0.0,0.0,0.0,0.0,0.0,0.0,0.0,0.0,0.0,0.0,0.0,0.0,0.0,0.0,0.0,0.0,0.0,0.0,0.0,0.0,0.0,0.0,0.0,0.0,0.0,0.0,0.0,0.0,0.0,0.0,0.0,0.0,0.0,0.0,0.0,0.0,0.0,0.0,0.0,0.0,0.0,0.0,0.0,0.0,0.0,0.0,0.0,0.0,0.0,0.0,0.0,0.0,0.0,0.0,0.0,0.0,0.0,0.0,0.0,0.0,0.0,0.0,0.0,0.0,0.0,0.0,0.0,0.0,0.0,0.0,0.0,0.0,0.0,0.0,0.0,0.0,0.0,0.0,0.0,0.0,0.0,0.0,0.0,0.0,0.0,0.0,0.0,0.0,0.0,0.0,0.0,0.0,0.0,0.0,0.0,0.0,0.0,0.0,0.0,0.0,0.0,0.0,0.0,0.0,0.0,0.0,0.0,0.0,0.0,0.0,0.0,0.0,0.0,0.0,0.0,0.0,0.0,0.0,0.0,0.0,0.0,0.0,0.0,0.0,0.0,0.0,0.0,0.0,0.0,0.0,0.0,0.0,0.0,0.0,0.0,0.0,0.0,0.0,0.0,0.0,0.0,0.0,0.0,0.0,0.0,0.0,0.0,0.0,0.0,0.0,0.0,0.0,0.0,0.0,0.0,0.0,0.0,0.0,0.0,0.0,0.0,0.0,0.0,0.0,0.0,0.0,0.0,0.0,0.0,0.0,0.0,0.0,0.0,0.0,0.0,0.0,0.0,0.0,0.0,0.0,0.0,0.0,0.0,0.0,0.0,0.0,0.0,0.0,0.0,0.0,0.0,0.0,0.0,0.0,0.0,0.0,0.0,0.0,0.0,0.0,0.0,0.0,0.0,0.0,0.0,0.0,0.0,0.0,0.0,0.0,0.0,0.0,0.0,0.0,0.0,0.0,0.0,0.0,0.0,0.0,0.0,0.0,0.0,0.0,0.0,0.0,0.0,0.0,0.0,0.0,0.0,0.0,0.0,0.0,0.0,0.0,0.0,0.0,0.0,0.0,0.0,0.0,0.0,0.0,0.0,0.0,0.0,0.0,0.0,0.0,0.0,0.0,0.0,0.0,0.0,0.0,0.0,0.0,0.0,0.0,0.0,0.0,0.0,0.0,0.0,0.0,0.0,0.0,0.0,0.0,0.0,0.0,0.0,0.0,0.0,0.0,0.0,0.0,0.0,0.0,0.0,0.0,0.0,0.0,0.0,0.0,0.0,0.0,0.0,0.0,0.0,0.0,0.0,0.0,0.0,0.0,0.0,0.0,0.0,0.0,0.0,0.0,0.0,0.0,0.0,0.0,0.0,0.0,0.0,0.0,0.0,0.0,0.0,0.0,0.0,0.0,0.0,0.0,0.0,0.0,0.0,0.0,0.0,0.0,0.0,0.0,0.0,0.0,0.0,0.0,0.0,0.0,0.0,0.0,0.0,0.0,0.0,0.0,0.0,0.0,0.0,0.0,0.0,0.0,0.0,0.0,0.0,0.0,0.0,0.0],\"y\":[0.0005146542680449784,0.0012990288669243455,0.002032527467235923,0.0025302856229245663,0.002890376839786768,0.002994039561599493,0.003274681745097041,0.0034208830911666155,0.003990523982793093,0.004458795767277479,0.004732548724859953,0.0049522449262440205,0.005334899760782719,0.005489973817020655,0.005632124375551939,0.005947018042206764,0.006513206288218498,0.006519681308418512,0.006519971881061792,0.006573226302862167,0.006596526596695185,0.006650915835052729,0.006946498993784189,0.006979628466069698,0.007212094496935606,0.007445222232490778,0.007558303885161877,0.0077047632075846195,0.007883782498538494,0.007983094081282616,0.008563556708395481,0.008666756562888622,0.008951053023338318,0.009051279164850712,0.00906684622168541,0.009109380654990673,0.0094982348382473,0.009540296159684658,0.009554787538945675,0.009588428772985935,0.009825823828577995,0.009864022955298424,0.009995273314416409,0.010154671967029572,0.010194819420576096,0.010224970057606697,0.010295341722667217,0.010411377996206284,0.010753967799246311,0.01085724588483572,0.010961524210870266,0.011094244197010994,0.011186590418219566,0.011289586313068867,0.011328340508043766,0.011467203497886658,0.011561518535017967,0.011781361885368824,0.011882893741130829,0.01193391252309084,0.012042067013680935,0.01208589319139719,0.012239737436175346,0.012343009933829308,0.012475831434130669,0.012565640732645988,0.01259745005518198,0.012604969553649426,0.012735284864902496,0.013183780014514923,0.013327043503522873,0.013393890112638474,0.013505122624337673,0.013905136846005917,0.014067632146179676,0.01406822632998228,0.014094636775553226,0.014125882647931576,0.014128508977591991,0.014502552337944508,0.014526966959238052,0.01457833219319582,0.014582611620426178,0.01463994663208723,0.014757024124264717,0.014979288913309574,0.015081950463354588,0.015160594135522842,0.015333514660596848,0.01542637124657631,0.015464349649846554,0.015512918122112751,0.015538017265498638,0.01573447324335575,0.015865681692957878,0.01592601276934147,0.016133392229676247,0.016286125406622887,0.016398128122091293,0.01641443930566311,0.016421949490904808,0.016447823494672775,0.01645383983850479,0.016644364222884178,0.016756409779191017,0.016862373799085617,0.01694975420832634,0.01699943095445633,0.017063938081264496,0.01709035038948059,0.01714356429874897,0.017338838428258896,0.017422178760170937,0.017427848652005196,0.01780405268073082,0.017810259014368057,0.017965668812394142,0.018004950135946274,0.018240172415971756,0.01836434006690979,0.018446454778313637,0.018455032259225845,0.01862272620201111,0.018689271062612534,0.018732713535428047,0.01878989487886429,0.018868358805775642,0.019140712916851044,0.01915731281042099,0.01916123740375042,0.019189173355698586,0.019275443628430367,0.01933540403842926,0.019340267404913902,0.01935124211013317,0.01936628483235836,0.019458644092082977,0.019512373954057693,0.01964992843568325,0.01967831514775753,0.01967870444059372,0.019692249596118927,0.019996754825115204,0.020022155717015266,0.020035281777381897,0.02006080374121666,0.020257970318198204,0.020339906215667725,0.02036341279745102,0.020437506958842278,0.02047823928296566,0.020494218915700912,0.020494623109698296,0.020516175776720047,0.020563295111060143,0.02059946581721306,0.0206258874386549,0.02067156694829464,0.020703690126538277,0.020720969885587692,0.02072763815522194,0.020774584263563156,0.02097872644662857,0.021008459851145744,0.021013570949435234,0.02102271094918251,0.021029118448495865,0.021037563681602478,0.02113279514014721,0.02114161103963852,0.0211678184568882,0.021174751222133636,0.02119501680135727,0.021257977932691574,0.021269360557198524,0.021278779953718185,0.021314211189746857,0.021370721980929375,0.02162851020693779,0.021654751151800156,0.021769409999251366,0.021849500015378,0.021912846714258194,0.021915774792432785,0.022030113264918327,0.02203400805592537,0.02218220755457878,0.022208798676729202,0.022353148087859154,0.02237122133374214,0.022383922711014748,0.022452395409345627,0.02251947671175003,0.022621173411607742,0.0226624496281147,0.022718513384461403,0.022720346227288246,0.022770969197154045,0.02298753522336483,0.023000076413154602,0.023173468187451363,0.023206599056720734,0.023277033120393753,0.023504698649048805,0.023522984236478806,0.02357633225619793,0.023604635149240494,0.0236248429864645,0.023640066385269165,0.023839203640818596,0.02405383810400963,0.02421284094452858,0.02424336038529873,0.02424493618309498,0.024368837475776672,0.024369526654481888,0.024417385458946228,0.02443939447402954,0.024606995284557343,0.024678127840161324,0.02470223978161812,0.02474725805222988,0.02478940412402153,0.024807803332805634,0.02481914311647415,0.0248409453779459,0.024854475632309914,0.024863338097929955,0.025060171261429787,0.025149783119559288,0.025174370035529137,0.025266971439123154,0.02533666230738163,0.02534215711057186,0.025435909628868103,0.025521816685795784,0.025570577010512352,0.02559136040508747,0.025654422119259834,0.025696933269500732,0.025729093700647354,0.025910042226314545,0.02606245130300522,0.026202980428934097,0.026325233280658722,0.02645738609135151,0.02655429020524025,0.026564395055174828,0.026585165411233902,0.026588058099150658,0.026658324524760246,0.026697274297475815,0.026734862476587296,0.026828540489077568,0.026869559660553932,0.02732284553349018,0.027465635910630226,0.027567513287067413,0.02778783068060875,0.027803471311926842,0.02782275527715683,0.027865702286362648,0.02794322930276394,0.028046736493706703,0.028063608333468437,0.028075162321329117,0.02809406816959381,0.02811996079981327,0.028200676664710045,0.028268449008464813,0.028306713327765465,0.028486467897892,0.028521724045276642,0.028651734814047813,0.028669148683547974,0.028696101158857346,0.02870548516511917,0.0287537332624197,0.028771312907338142,0.028821928426623344,0.028897324576973915,0.02891942299902439,0.02897855080664158,0.02901182882487774,0.029055096209049225,0.029061274603009224,0.029237205162644386,0.029266394674777985,0.029384419322013855,0.029463471844792366,0.029538527131080627,0.029894473031163216,0.029940290376544,0.029987681657075882,0.029988860711455345,0.03006911836564541,0.030156733468174934,0.030228398740291595,0.030550159513950348,0.030558226630091667,0.03103104792535305,0.03103519231081009,0.031036853790283203,0.031054096296429634,0.03114446811378002,0.031273964792490005,0.03129943460226059,0.03129996359348297,0.03135764226317406,0.03147098422050476,0.03177589550614357,0.031832270324230194,0.03210500627756119,0.032311055809259415,0.03232177719473839,0.032406214624643326,0.03252122923731804,0.03285757824778557,0.03297082707285881,0.03313335403800011,0.03340935334563255,0.033429618924856186,0.03347074240446091,0.03347994387149811,0.033696066588163376,0.033777087926864624,0.03388472646474838,0.034035999327898026,0.03442569449543953,0.03498153015971184,0.035098880529403687,0.03512289375066757,0.03534897789359093,0.03573682904243469,0.03673135116696358,0.03677968680858612,0.036973342299461365,0.03706735745072365,0.037095677107572556,0.0371151827275753,0.03735615685582161,0.03740338981151581,0.037588104605674744,0.037731144577264786,0.037979383021593094,0.03803728148341179,0.03816884756088257,0.03835226967930794,0.03838808462023735,0.038388147950172424,0.03839969262480736,0.03843254968523979,0.038450874388217926,0.038502857089042664,0.03858838602900505,0.038618847727775574,0.038638293743133545,0.03893199563026428,0.03942250832915306,0.03989073261618614,0.04009007290005684,0.040171630680561066,0.04023222625255585,0.04044182971119881,0.040882233530282974,0.04089857265353203,0.04093892499804497,0.04136090353131294,0.04144461825489998,0.041615936905145645,0.04163727909326553,0.041990797966718674,0.04223886877298355,0.04224810749292374,0.042263783514499664,0.042374078184366226,0.04243781790137291,0.043067507445812225,0.04384249821305275,0.04415493085980415,0.0442514643073082,0.04425319284200668,0.044584911316633224,0.045154426246881485,0.04529029503464699,0.04534666985273361,0.04549047723412514,0.04610501974821091,0.04646477475762367,0.046526771038770676,0.04666070640087128,0.04750669002532959,0.0477210097014904,0.0483989454805851,0.05166048929095268,0.052889611572027206,0.05403657257556915,0.060386400669813156,0.06425540894269943],\"type\":\"scatter\"},{\"hoverinfo\":\"text\",\"hovertext\":[\"(0.0790538340806961, 0.08182371407747269)\",\"(0.0744301900267601, 0.07918018102645874)\",\"(0.07423105835914612, 0.08419546484947205)\",\"(0.07362555712461472, 0.0741894468665123)\",\"(0.0730682983994484, 0.08284889161586761)\",\"(0.07086305320262909, 0.07200394570827484)\",\"(0.06913651525974274, 0.08437532186508179)\",\"(0.06881480664014816, 0.07024117559194565)\",\"(0.06879067420959473, 0.0720735639333725)\",\"(0.06804053485393524, 0.07305368036031723)\",\"(0.06767851114273071, 0.07100978493690491)\",\"(0.06699612736701965, 0.06744921952486038)\",\"(0.06508950144052505, 0.07214055210351944)\",\"(0.06359183043241501, 0.06450885534286499)\",\"(0.0631614625453949, 0.0707845464348793)\",\"(0.06254398077726364, 0.07360111176967621)\",\"(0.06142745912075043, 0.07332134246826172)\",\"(0.06138332560658455, 0.06594157218933105)\",\"(0.061315394937992096, 0.06602023541927338)\",\"(0.0611053928732872, 0.06266946345567703)\",\"(0.06045691296458244, 0.06659407913684845)\",\"(0.060446251183748245, 0.07068897783756256)\",\"(0.06014229729771614, 0.07370835542678833)\",\"(0.060038864612579346, 0.06536295264959335)\",\"(0.059300392866134644, 0.0755862221121788)\",\"(0.05905323103070259, 0.0642695352435112)\",\"(0.05871310830116272, 0.08101093024015427)\",\"(0.05790074169635773, 0.06644300371408463)\",\"(0.05785606801509857, 0.07095717638731003)\",\"(0.05779645964503288, 0.0645068883895874)\",\"(0.05736716836690903, 0.06506363302469254)\",\"(0.05660891905426979, 0.08767343312501907)\",\"(0.056207600980997086, 0.06525460630655289)\",\"(0.05535731464624405, 0.061989083886146545)\",\"(0.05517791211605072, 0.06539200991392136)\",\"(0.05457766726613045, 0.0916096568107605)\",\"(0.0544901080429554, 0.060735397040843964)\",\"(0.054344091564416885, 0.05805833265185356)\",\"(0.05429720878601074, 0.06385277211666107)\",\"(0.053698524832725525, 0.07598236203193665)\",\"(0.05167460814118385, 0.07061444967985153)\",\"(0.05156673118472099, 0.07909777760505676)\",\"(0.05081908032298088, 0.06220748648047447)\",\"(0.05048909783363342, 0.05676747485995293)\",\"(0.05040121078491211, 0.08099836856126785)\",\"(0.050297610461711884, 0.08498956263065338)\",\"(0.05023808404803276, 0.07205769419670105)\",\"(0.050212983042001724, 0.060434531420469284)\",\"(0.050140783190727234, 0.05066971108317375)\",\"(0.049905452877283096, 0.057744286954402924)\",\"(0.04977788031101227, 0.05379293113946915)\",\"(0.0495961457490921, 0.08494234830141068)\",\"(0.04956839978694916, 0.051701631397008896)\",\"(0.049291566014289856, 0.06133398786187172)\",\"(0.04869696870446205, 0.08947784453630447)\",\"(0.04795948043465614, 0.04948166757822037)\",\"(0.047485820949077606, 0.06761754304170609)\",\"(0.047364234924316406, 0.07876882702112198)\",\"(0.046808645129203796, 0.0734749361872673)\",\"(0.046548373997211456, 0.08018500357866287)\",\"(0.04594040289521217, 0.05116724222898483)\",\"(0.04533020779490471, 0.05294741690158844)\",\"(0.04444793984293938, 0.048455797135829926)\",\"(0.04441876709461212, 0.04816315695643425)\",\"(0.043935488909482956, 0.0504242442548275)\",\"(0.04315260797739029, 0.04580821096897125)\",\"(0.04292720928788185, 0.05666390806436539)\",\"(0.04271308705210686, 0.0778651237487793)\",\"(0.04261842742562294, 0.0426335446536541)\",\"(0.04220522195100784, 0.052204567939043045)\",\"(0.041994158178567886, 0.05820595845580101)\",\"(0.041829731315374374, 0.05933437496423721)\",\"(0.04173898324370384, 0.046575892716646194)\",\"(0.041550181806087494, 0.059363458305597305)\",\"(0.041286565363407135, 0.04637031629681587)\",\"(0.04120276868343353, 0.05276171490550041)\",\"(0.04116975516080856, 0.053450994193553925)\",\"(0.04025137051939964, 0.04203266277909279)\",\"(0.0402504988014698, 0.05156712606549263)\",\"(0.04005297273397446, 0.04269631579518318)\",\"(0.03966963663697243, 0.040418777614831924)\",\"(0.039413440972566605, 0.047423310577869415)\",\"(0.039340291172266006, 0.0638648048043251)\",\"(0.03929100185632706, 0.041852857917547226)\",\"(0.039142951369285583, 0.04067710041999817)\",\"(0.03897110000252724, 0.048216793686151505)\",\"(0.03838559612631798, 0.05105627328157425)\",\"(0.038040537387132645, 0.03954354301095009)\",\"(0.03617550805211067, 0.036657270044088364)\",\"(0.03611818701028824, 0.038842588663101196)\",\"(0.03554975241422653, 0.0646720603108406)\",\"(0.03553728386759758, 0.040984269231557846)\",\"(0.035351939499378204, 0.03695348650217056)\",\"(0.03532202169299126, 0.05518097057938576)\",\"(0.03485071286559105, 0.039776429533958435)\",\"(0.03412656486034393, 0.0374830961227417)\",\"(0.03276263549923897, 0.034995660185813904)\",\"(0.03271103277802467, 0.042482536286115646)\",\"(0.03218737989664078, 0.035458337515592575)\",\"(0.030120011419057846, 0.0310517568141222)\",\"(0.028768077492713928, 0.029226375743746758)\",\"(0.028512926772236824, 0.03494500368833542)\",\"(0.026364939287304878, 0.028811076655983925)\",\"(0.026252778246998787, 0.028711922466754913)\",\"(0.024259991943836212, 0.026027267798781395)\",\"(0.022392382845282555, 0.023827623575925827)\"],\"mode\":\"markers\",\"name\":\"H1\",\"x\":[0.0790538340806961,0.0744301900267601,0.07423105835914612,0.07362555712461472,0.0730682983994484,0.07086305320262909,0.06913651525974274,0.06881480664014816,0.06879067420959473,0.06804053485393524,0.06767851114273071,0.06699612736701965,0.06508950144052505,0.06359183043241501,0.0631614625453949,0.06254398077726364,0.06142745912075043,0.06138332560658455,0.061315394937992096,0.0611053928732872,0.06045691296458244,0.060446251183748245,0.06014229729771614,0.060038864612579346,0.059300392866134644,0.05905323103070259,0.05871310830116272,0.05790074169635773,0.05785606801509857,0.05779645964503288,0.05736716836690903,0.05660891905426979,0.056207600980997086,0.05535731464624405,0.05517791211605072,0.05457766726613045,0.0544901080429554,0.054344091564416885,0.05429720878601074,0.053698524832725525,0.05167460814118385,0.05156673118472099,0.05081908032298088,0.05048909783363342,0.05040121078491211,0.050297610461711884,0.05023808404803276,0.050212983042001724,0.050140783190727234,0.049905452877283096,0.04977788031101227,0.0495961457490921,0.04956839978694916,0.049291566014289856,0.04869696870446205,0.04795948043465614,0.047485820949077606,0.047364234924316406,0.046808645129203796,0.046548373997211456,0.04594040289521217,0.04533020779490471,0.04444793984293938,0.04441876709461212,0.043935488909482956,0.04315260797739029,0.04292720928788185,0.04271308705210686,0.04261842742562294,0.04220522195100784,0.041994158178567886,0.041829731315374374,0.04173898324370384,0.041550181806087494,0.041286565363407135,0.04120276868343353,0.04116975516080856,0.04025137051939964,0.0402504988014698,0.04005297273397446,0.03966963663697243,0.039413440972566605,0.039340291172266006,0.03929100185632706,0.039142951369285583,0.03897110000252724,0.03838559612631798,0.038040537387132645,0.03617550805211067,0.03611818701028824,0.03554975241422653,0.03553728386759758,0.035351939499378204,0.03532202169299126,0.03485071286559105,0.03412656486034393,0.03276263549923897,0.03271103277802467,0.03218737989664078,0.030120011419057846,0.028768077492713928,0.028512926772236824,0.026364939287304878,0.026252778246998787,0.024259991943836212,0.022392382845282555],\"y\":[0.08182371407747269,0.07918018102645874,0.08419546484947205,0.0741894468665123,0.08284889161586761,0.07200394570827484,0.08437532186508179,0.07024117559194565,0.0720735639333725,0.07305368036031723,0.07100978493690491,0.06744921952486038,0.07214055210351944,0.06450885534286499,0.0707845464348793,0.07360111176967621,0.07332134246826172,0.06594157218933105,0.06602023541927338,0.06266946345567703,0.06659407913684845,0.07068897783756256,0.07370835542678833,0.06536295264959335,0.0755862221121788,0.0642695352435112,0.08101093024015427,0.06644300371408463,0.07095717638731003,0.0645068883895874,0.06506363302469254,0.08767343312501907,0.06525460630655289,0.061989083886146545,0.06539200991392136,0.0916096568107605,0.060735397040843964,0.05805833265185356,0.06385277211666107,0.07598236203193665,0.07061444967985153,0.07909777760505676,0.06220748648047447,0.05676747485995293,0.08099836856126785,0.08498956263065338,0.07205769419670105,0.060434531420469284,0.05066971108317375,0.057744286954402924,0.05379293113946915,0.08494234830141068,0.051701631397008896,0.06133398786187172,0.08947784453630447,0.04948166757822037,0.06761754304170609,0.07876882702112198,0.0734749361872673,0.08018500357866287,0.05116724222898483,0.05294741690158844,0.048455797135829926,0.04816315695643425,0.0504242442548275,0.04580821096897125,0.05666390806436539,0.0778651237487793,0.0426335446536541,0.052204567939043045,0.05820595845580101,0.05933437496423721,0.046575892716646194,0.059363458305597305,0.04637031629681587,0.05276171490550041,0.053450994193553925,0.04203266277909279,0.05156712606549263,0.04269631579518318,0.040418777614831924,0.047423310577869415,0.0638648048043251,0.041852857917547226,0.04067710041999817,0.048216793686151505,0.05105627328157425,0.03954354301095009,0.036657270044088364,0.038842588663101196,0.0646720603108406,0.040984269231557846,0.03695348650217056,0.05518097057938576,0.039776429533958435,0.0374830961227417,0.034995660185813904,0.042482536286115646,0.035458337515592575,0.0310517568141222,0.029226375743746758,0.03494500368833542,0.028811076655983925,0.028711922466754913,0.026027267798781395,0.023827623575925827],\"type\":\"scatter\"},{\"hoverinfo\":\"text\",\"hovertext\":[\"(0.13756737112998962, 0.13841286301612854)\",\"(0.12685100734233856, 0.12947839498519897)\",\"(0.12259117513895035, 0.123385950922966)\",\"(0.12192364037036896, 0.12267602235078812)\",\"(0.12167690694332123, 0.12955790758132935)\",\"(0.09129871428012848, 0.13940241932868958)\",\"(0.0820278748869896, 0.0849265307188034)\",\"(0.08182910084724426, 0.08720899373292923)\",\"(0.08008550107479095, 0.08643190562725067)\",\"(0.07678046822547913, 0.07689197361469269)\",\"(0.07470028847455978, 0.0749344453215599)\",\"(0.07234364748001099, 0.07237318158149719)\",\"(0.0664166808128357, 0.0679139643907547)\",\"(0.06602023541927338, 0.06621769070625305)\",\"(0.06594157218933105, 0.06602033227682114)\",\"(0.06313612312078476, 0.06414753198623657)\"],\"mode\":\"markers\",\"name\":\"H2\",\"x\":[0.13756737112998962,0.12685100734233856,0.12259117513895035,0.12192364037036896,0.12167690694332123,0.09129871428012848,0.0820278748869896,0.08182910084724426,0.08008550107479095,0.07678046822547913,0.07470028847455978,0.07234364748001099,0.0664166808128357,0.06602023541927338,0.06594157218933105,0.06313612312078476],\"y\":[0.13841286301612854,0.12947839498519897,0.123385950922966,0.12267602235078812,0.12955790758132935,0.13940241932868958,0.0849265307188034,0.08720899373292923,0.08643190562725067,0.07689197361469269,0.0749344453215599,0.07237318158149719,0.0679139643907547,0.06621769070625305,0.06602033227682114,0.06414753198623657],\"type\":\"scatter\"}],                        {\"template\":{\"data\":{\"histogram2dcontour\":[{\"type\":\"histogram2dcontour\",\"colorbar\":{\"outlinewidth\":0,\"ticks\":\"\"},\"colorscale\":[[0.0,\"#0d0887\"],[0.1111111111111111,\"#46039f\"],[0.2222222222222222,\"#7201a8\"],[0.3333333333333333,\"#9c179e\"],[0.4444444444444444,\"#bd3786\"],[0.5555555555555556,\"#d8576b\"],[0.6666666666666666,\"#ed7953\"],[0.7777777777777778,\"#fb9f3a\"],[0.8888888888888888,\"#fdca26\"],[1.0,\"#f0f921\"]]}],\"choropleth\":[{\"type\":\"choropleth\",\"colorbar\":{\"outlinewidth\":0,\"ticks\":\"\"}}],\"histogram2d\":[{\"type\":\"histogram2d\",\"colorbar\":{\"outlinewidth\":0,\"ticks\":\"\"},\"colorscale\":[[0.0,\"#0d0887\"],[0.1111111111111111,\"#46039f\"],[0.2222222222222222,\"#7201a8\"],[0.3333333333333333,\"#9c179e\"],[0.4444444444444444,\"#bd3786\"],[0.5555555555555556,\"#d8576b\"],[0.6666666666666666,\"#ed7953\"],[0.7777777777777778,\"#fb9f3a\"],[0.8888888888888888,\"#fdca26\"],[1.0,\"#f0f921\"]]}],\"heatmap\":[{\"type\":\"heatmap\",\"colorbar\":{\"outlinewidth\":0,\"ticks\":\"\"},\"colorscale\":[[0.0,\"#0d0887\"],[0.1111111111111111,\"#46039f\"],[0.2222222222222222,\"#7201a8\"],[0.3333333333333333,\"#9c179e\"],[0.4444444444444444,\"#bd3786\"],[0.5555555555555556,\"#d8576b\"],[0.6666666666666666,\"#ed7953\"],[0.7777777777777778,\"#fb9f3a\"],[0.8888888888888888,\"#fdca26\"],[1.0,\"#f0f921\"]]}],\"heatmapgl\":[{\"type\":\"heatmapgl\",\"colorbar\":{\"outlinewidth\":0,\"ticks\":\"\"},\"colorscale\":[[0.0,\"#0d0887\"],[0.1111111111111111,\"#46039f\"],[0.2222222222222222,\"#7201a8\"],[0.3333333333333333,\"#9c179e\"],[0.4444444444444444,\"#bd3786\"],[0.5555555555555556,\"#d8576b\"],[0.6666666666666666,\"#ed7953\"],[0.7777777777777778,\"#fb9f3a\"],[0.8888888888888888,\"#fdca26\"],[1.0,\"#f0f921\"]]}],\"contourcarpet\":[{\"type\":\"contourcarpet\",\"colorbar\":{\"outlinewidth\":0,\"ticks\":\"\"}}],\"contour\":[{\"type\":\"contour\",\"colorbar\":{\"outlinewidth\":0,\"ticks\":\"\"},\"colorscale\":[[0.0,\"#0d0887\"],[0.1111111111111111,\"#46039f\"],[0.2222222222222222,\"#7201a8\"],[0.3333333333333333,\"#9c179e\"],[0.4444444444444444,\"#bd3786\"],[0.5555555555555556,\"#d8576b\"],[0.6666666666666666,\"#ed7953\"],[0.7777777777777778,\"#fb9f3a\"],[0.8888888888888888,\"#fdca26\"],[1.0,\"#f0f921\"]]}],\"surface\":[{\"type\":\"surface\",\"colorbar\":{\"outlinewidth\":0,\"ticks\":\"\"},\"colorscale\":[[0.0,\"#0d0887\"],[0.1111111111111111,\"#46039f\"],[0.2222222222222222,\"#7201a8\"],[0.3333333333333333,\"#9c179e\"],[0.4444444444444444,\"#bd3786\"],[0.5555555555555556,\"#d8576b\"],[0.6666666666666666,\"#ed7953\"],[0.7777777777777778,\"#fb9f3a\"],[0.8888888888888888,\"#fdca26\"],[1.0,\"#f0f921\"]]}],\"mesh3d\":[{\"type\":\"mesh3d\",\"colorbar\":{\"outlinewidth\":0,\"ticks\":\"\"}}],\"scatter\":[{\"fillpattern\":{\"fillmode\":\"overlay\",\"size\":10,\"solidity\":0.2},\"type\":\"scatter\"}],\"parcoords\":[{\"type\":\"parcoords\",\"line\":{\"colorbar\":{\"outlinewidth\":0,\"ticks\":\"\"}}}],\"scatterpolargl\":[{\"type\":\"scatterpolargl\",\"marker\":{\"colorbar\":{\"outlinewidth\":0,\"ticks\":\"\"}}}],\"bar\":[{\"error_x\":{\"color\":\"#2a3f5f\"},\"error_y\":{\"color\":\"#2a3f5f\"},\"marker\":{\"line\":{\"color\":\"#E5ECF6\",\"width\":0.5},\"pattern\":{\"fillmode\":\"overlay\",\"size\":10,\"solidity\":0.2}},\"type\":\"bar\"}],\"scattergeo\":[{\"type\":\"scattergeo\",\"marker\":{\"colorbar\":{\"outlinewidth\":0,\"ticks\":\"\"}}}],\"scatterpolar\":[{\"type\":\"scatterpolar\",\"marker\":{\"colorbar\":{\"outlinewidth\":0,\"ticks\":\"\"}}}],\"histogram\":[{\"marker\":{\"pattern\":{\"fillmode\":\"overlay\",\"size\":10,\"solidity\":0.2}},\"type\":\"histogram\"}],\"scattergl\":[{\"type\":\"scattergl\",\"marker\":{\"colorbar\":{\"outlinewidth\":0,\"ticks\":\"\"}}}],\"scatter3d\":[{\"type\":\"scatter3d\",\"line\":{\"colorbar\":{\"outlinewidth\":0,\"ticks\":\"\"}},\"marker\":{\"colorbar\":{\"outlinewidth\":0,\"ticks\":\"\"}}}],\"scattermapbox\":[{\"type\":\"scattermapbox\",\"marker\":{\"colorbar\":{\"outlinewidth\":0,\"ticks\":\"\"}}}],\"scatterternary\":[{\"type\":\"scatterternary\",\"marker\":{\"colorbar\":{\"outlinewidth\":0,\"ticks\":\"\"}}}],\"scattercarpet\":[{\"type\":\"scattercarpet\",\"marker\":{\"colorbar\":{\"outlinewidth\":0,\"ticks\":\"\"}}}],\"carpet\":[{\"aaxis\":{\"endlinecolor\":\"#2a3f5f\",\"gridcolor\":\"white\",\"linecolor\":\"white\",\"minorgridcolor\":\"white\",\"startlinecolor\":\"#2a3f5f\"},\"baxis\":{\"endlinecolor\":\"#2a3f5f\",\"gridcolor\":\"white\",\"linecolor\":\"white\",\"minorgridcolor\":\"white\",\"startlinecolor\":\"#2a3f5f\"},\"type\":\"carpet\"}],\"table\":[{\"cells\":{\"fill\":{\"color\":\"#EBF0F8\"},\"line\":{\"color\":\"white\"}},\"header\":{\"fill\":{\"color\":\"#C8D4E3\"},\"line\":{\"color\":\"white\"}},\"type\":\"table\"}],\"barpolar\":[{\"marker\":{\"line\":{\"color\":\"#E5ECF6\",\"width\":0.5},\"pattern\":{\"fillmode\":\"overlay\",\"size\":10,\"solidity\":0.2}},\"type\":\"barpolar\"}],\"pie\":[{\"automargin\":true,\"type\":\"pie\"}]},\"layout\":{\"autotypenumbers\":\"strict\",\"colorway\":[\"#636efa\",\"#EF553B\",\"#00cc96\",\"#ab63fa\",\"#FFA15A\",\"#19d3f3\",\"#FF6692\",\"#B6E880\",\"#FF97FF\",\"#FECB52\"],\"font\":{\"color\":\"#2a3f5f\"},\"hovermode\":\"closest\",\"hoverlabel\":{\"align\":\"left\"},\"paper_bgcolor\":\"white\",\"plot_bgcolor\":\"#E5ECF6\",\"polar\":{\"bgcolor\":\"#E5ECF6\",\"angularaxis\":{\"gridcolor\":\"white\",\"linecolor\":\"white\",\"ticks\":\"\"},\"radialaxis\":{\"gridcolor\":\"white\",\"linecolor\":\"white\",\"ticks\":\"\"}},\"ternary\":{\"bgcolor\":\"#E5ECF6\",\"aaxis\":{\"gridcolor\":\"white\",\"linecolor\":\"white\",\"ticks\":\"\"},\"baxis\":{\"gridcolor\":\"white\",\"linecolor\":\"white\",\"ticks\":\"\"},\"caxis\":{\"gridcolor\":\"white\",\"linecolor\":\"white\",\"ticks\":\"\"}},\"coloraxis\":{\"colorbar\":{\"outlinewidth\":0,\"ticks\":\"\"}},\"colorscale\":{\"sequential\":[[0.0,\"#0d0887\"],[0.1111111111111111,\"#46039f\"],[0.2222222222222222,\"#7201a8\"],[0.3333333333333333,\"#9c179e\"],[0.4444444444444444,\"#bd3786\"],[0.5555555555555556,\"#d8576b\"],[0.6666666666666666,\"#ed7953\"],[0.7777777777777778,\"#fb9f3a\"],[0.8888888888888888,\"#fdca26\"],[1.0,\"#f0f921\"]],\"sequentialminus\":[[0.0,\"#0d0887\"],[0.1111111111111111,\"#46039f\"],[0.2222222222222222,\"#7201a8\"],[0.3333333333333333,\"#9c179e\"],[0.4444444444444444,\"#bd3786\"],[0.5555555555555556,\"#d8576b\"],[0.6666666666666666,\"#ed7953\"],[0.7777777777777778,\"#fb9f3a\"],[0.8888888888888888,\"#fdca26\"],[1.0,\"#f0f921\"]],\"diverging\":[[0,\"#8e0152\"],[0.1,\"#c51b7d\"],[0.2,\"#de77ae\"],[0.3,\"#f1b6da\"],[0.4,\"#fde0ef\"],[0.5,\"#f7f7f7\"],[0.6,\"#e6f5d0\"],[0.7,\"#b8e186\"],[0.8,\"#7fbc41\"],[0.9,\"#4d9221\"],[1,\"#276419\"]]},\"xaxis\":{\"gridcolor\":\"white\",\"linecolor\":\"white\",\"ticks\":\"\",\"title\":{\"standoff\":15},\"zerolinecolor\":\"white\",\"automargin\":true,\"zerolinewidth\":2},\"yaxis\":{\"gridcolor\":\"white\",\"linecolor\":\"white\",\"ticks\":\"\",\"title\":{\"standoff\":15},\"zerolinecolor\":\"white\",\"automargin\":true,\"zerolinewidth\":2},\"scene\":{\"xaxis\":{\"backgroundcolor\":\"#E5ECF6\",\"gridcolor\":\"white\",\"linecolor\":\"white\",\"showbackground\":true,\"ticks\":\"\",\"zerolinecolor\":\"white\",\"gridwidth\":2},\"yaxis\":{\"backgroundcolor\":\"#E5ECF6\",\"gridcolor\":\"white\",\"linecolor\":\"white\",\"showbackground\":true,\"ticks\":\"\",\"zerolinecolor\":\"white\",\"gridwidth\":2},\"zaxis\":{\"backgroundcolor\":\"#E5ECF6\",\"gridcolor\":\"white\",\"linecolor\":\"white\",\"showbackground\":true,\"ticks\":\"\",\"zerolinecolor\":\"white\",\"gridwidth\":2}},\"shapedefaults\":{\"line\":{\"color\":\"#2a3f5f\"}},\"annotationdefaults\":{\"arrowcolor\":\"#2a3f5f\",\"arrowhead\":0,\"arrowwidth\":1},\"geo\":{\"bgcolor\":\"white\",\"landcolor\":\"#E5ECF6\",\"subunitcolor\":\"white\",\"showland\":true,\"showlakes\":true,\"lakecolor\":\"white\"},\"title\":{\"x\":0.05},\"mapbox\":{\"style\":\"light\"}}},\"xaxis\":{\"title\":{\"text\":\"Birth\"},\"side\":\"bottom\",\"type\":\"linear\",\"range\":[-0.0027880483865737916,0.14219046771526336],\"autorange\":false,\"ticks\":\"outside\",\"showline\":true,\"zeroline\":true,\"linewidth\":1,\"linecolor\":\"black\",\"mirror\":false,\"showexponent\":\"all\",\"exponentformat\":\"e\"},\"yaxis\":{\"title\":{\"text\":\"Death\"},\"side\":\"left\",\"type\":\"linear\",\"range\":[-0.0027880483865737916,0.14219046771526336],\"autorange\":false,\"scaleanchor\":\"x\",\"scaleratio\":1,\"ticks\":\"outside\",\"showline\":true,\"zeroline\":true,\"linewidth\":1,\"linecolor\":\"black\",\"mirror\":false,\"showexponent\":\"all\",\"exponentformat\":\"e\"},\"width\":500,\"height\":500,\"plot_bgcolor\":\"white\"},                        {\"responsive\": true}                    ).then(function(){\n",
              "                            \n",
              "var gd = document.getElementById('4b8a70d4-3063-4b2d-a2b7-a2a551252ef0');\n",
              "var x = new MutationObserver(function (mutations, observer) {{\n",
              "        var display = window.getComputedStyle(gd).display;\n",
              "        if (!display || display === 'none') {{\n",
              "            console.log([gd, 'removed!']);\n",
              "            Plotly.purge(gd);\n",
              "            observer.disconnect();\n",
              "        }}\n",
              "}});\n",
              "\n",
              "// Listen for the removal of the full notebook cells\n",
              "var notebookContainer = gd.closest('#notebook-container');\n",
              "if (notebookContainer) {{\n",
              "    x.observe(notebookContainer, {childList: true});\n",
              "}}\n",
              "\n",
              "// Listen for the clearing of the current output cell\n",
              "var outputEl = gd.closest('.output');\n",
              "if (outputEl) {{\n",
              "    x.observe(outputEl, {childList: true});\n",
              "}}\n",
              "\n",
              "                        })                };                            </script>        </div>\n",
              "</body>\n",
              "</html>"
            ]
          },
          "metadata": {}
        }
      ],
      "source": [
        "from gtda.plotting import plot_diagram\n",
        "# Index - (human_arms_out, 0), (vase, 10), (dining_chair, 20), (biplane, 30)\n",
        "[\"human_arms_out\",\"vase\",\"dining_chair\",\"biplane\"]\n",
        "index =1\n",
        "print(\"Label:\",y_train[index])\n",
        "plot_diagram(persistence_diagrams_train[index])"
      ]
    },
    {
      "cell_type": "code",
      "source": [
        "import numpy as np\n",
        "def kfold_indices(data, k):\n",
        "    # fold_size = len(data) // k\n",
        "    fold_size = 1\n",
        "    indices = np.arange(len(data))\n",
        "    folds = []\n",
        "    for i in range(k):\n",
        "        test_indices = indices[i * fold_size: (i + 1) * fold_size]\n",
        "        train_indices = np.concatenate([indices[:i * fold_size], indices[(i + 1) * fold_size:]])\n",
        "        folds.append((train_indices, test_indices))\n",
        "    return folds\n",
        "\n"
      ],
      "metadata": {
        "id": "2I2lh4Als9lG"
      },
      "execution_count": null,
      "outputs": []
    },
    {
      "cell_type": "code",
      "execution_count": null,
      "metadata": {
        "id": "ys_3qi1aiozI"
      },
      "outputs": [],
      "source": [
        "from sklearn.pipeline import make_pipeline, make_union\n",
        "from gtda.diagrams import PersistenceEntropy\n",
        "from gtda.images import HeightFiltration\n",
        "from gtda.images import DensityFiltration\n",
        "#signed distance filtration\n",
        "from gtda.images import SignedDistanceFiltration\n",
        "from gtda.diagrams import Filtering\n",
        "from gtda.diagrams import Amplitude\n",
        "from gtda.images import Binarizer\n",
        "from gtda.images import RadialFiltration\n",
        "from gtda.images import DensityFiltration\n",
        "from gtda.homology import CubicalPersistence\n",
        "\n",
        "from gtda.diagrams import Scaler\n",
        "from sklearn.pipeline import Pipeline\n",
        "from gtda.diagrams import NumberOfPoints\n",
        "from gtda.diagrams import Amplitude\n",
        "# Select a variety of metrics to calculate amplitudes\n",
        "metric_list = [\n",
        "\n",
        "    {\"metric\": metric}\n",
        "    for metric in [\"bottleneck\",\"betti\",\"landscape\",\"persistence_image\",\"wasserstein\",\"heat\",\"silhouette\"]\n",
        "    ]\n",
        "    # metric_list = [\n",
        "    # for metric in [\"bottleneck\", \"persistence_image\",\"betti\",\"heat\",\"silhouette\",\"landscape\"]\n",
        "#     {\"metric\": \"bottleneck\", \"metric_params\": {}},\n",
        "#     {\"metric\": \"wasserstein\", \"metric_params\": {\"p\": 1}},\n",
        "#     {\"metric\": \"wasserstein\", \"metric_params\": {\"p\": 2}},\n",
        "#     {\"metric\": \"landscape\", \"metric_params\": {\"p\": 1, \"n_layers\": 1, \"n_bins\": 100}},\n",
        "#     {\"metric\": \"landscape\", \"metric_params\": {\"p\": 1, \"n_layers\": 2, \"n_bins\": 100}},\n",
        "#     {\"metric\": \"landscape\", \"metric_params\": {\"p\": 2, \"n_layers\": 1, \"n_bins\": 100}},\n",
        "#     {\"metric\": \"landscape\", \"metric_params\": {\"p\": 2, \"n_layers\": 2, \"n_bins\": 100}},\n",
        "#     {\"metric\": \"betti\", \"metric_params\": {\"p\": 1, \"n_bins\": 100}},\n",
        "#     {\"metric\": \"betti\", \"metric_params\": {\"p\": 2, \"n_bins\": 100}},\n",
        "#     {\"metric\": \"heat\", \"metric_params\": {\"p\": 1, \"sigma\": 1.6, \"n_bins\": 100}},\n",
        "#     {\"metric\": \"heat\", \"metric_params\": {\"p\": 1, \"sigma\": 3.2, \"n_bins\": 100}},\n",
        "#     {\"metric\": \"heat\", \"metric_params\": {\"p\": 2, \"sigma\": 1.6, \"n_bins\": 100}},\n",
        "#     {\"metric\": \"heat\", \"metric_params\": {\"p\": 2, \"sigma\": 3.2, \"n_bins\": 100}},\n",
        "# ]\n",
        "\n",
        "# Concatenate to generate 3 + 3 + (4 x 3) = 18 topological features\n",
        "feature_union = make_union(\n",
        "    PersistenceEntropy(normalize=True),\n",
        "     NumberOfPoints(n_jobs=-1),\n",
        "    *[Amplitude(**metric, n_jobs=-1) for metric in metric_list]\n",
        ")\n",
        "# from gtda.pipeline import Pipeline\n",
        "tda_union = Pipeline(\n",
        "    [\n",
        "        (\"features\", feature_union),\n",
        "\n",
        "    ]\n",
        ")\n"
      ]
    },
    {
      "cell_type": "code",
      "source": [
        "X_train_tda = tda_union.fit_transform(persistence_diagrams_train)\n",
        "print(X_train_tda.shape)\n",
        "X_test_tda = tda_union.fit_transform(persistence_diagrams_test)\n",
        "print(X_test_tda.shape)"
      ],
      "metadata": {
        "colab": {
          "base_uri": "https://localhost:8080/"
        },
        "id": "5jVQLmFtQUcq",
        "outputId": "37341abd-8252-41d9-b483-3cfc2909001c"
      },
      "execution_count": null,
      "outputs": [
        {
          "output_type": "stream",
          "name": "stdout",
          "text": [
            "(30, 27)\n",
            "(10, 27)\n"
          ]
        }
      ]
    },
    {
      "cell_type": "code",
      "source": [
        "# Combine the arrays vertically\n",
        "X_tda = np.vstack((X_train_tda, X_test_tda))\n",
        "y_tda=np.append(y_train,y_test)"
      ],
      "metadata": {
        "id": "Khcex5v4Az9F"
      },
      "execution_count": null,
      "outputs": []
    },
    {
      "cell_type": "code",
      "source": [
        "# Define the number of folds (K)\n",
        "k = 5\n",
        "\n",
        "# Get the fold indices\n",
        "fold_indices = kfold_indices(X_tda, k)"
      ],
      "metadata": {
        "id": "RMcAP965Rdvk"
      },
      "execution_count": null,
      "outputs": []
    },
    {
      "cell_type": "code",
      "execution_count": null,
      "metadata": {
        "id": "Cd7HAUwP2stj"
      },
      "outputs": [],
      "source": [
        "# from gtda.diagrams import PersistenceEntropy\n",
        "# persistence_entropy = PersistenceEntropy(normalize=True)\n",
        "# # Calculate topological feature matrix\n",
        "# X = persistence_entropy.fit_transform(persistence_diagrams)\n",
        "# print(X)\n",
        "# # Visualise feature matrix\n",
        "# plot_point_cloud(X)\n"
      ]
    },
    {
      "cell_type": "code",
      "execution_count": null,
      "metadata": {
        "id": "wu30KeoaSjFX",
        "colab": {
          "base_uri": "https://localhost:8080/"
        },
        "outputId": "66f47141-290d-41c4-ca39-d31b784a1147"
      },
      "outputs": [
        {
          "output_type": "stream",
          "name": "stdout",
          "text": [
            "40\n",
            "[2. 0. 1. 3. 3. 0. 1. 2. 0. 3. 0. 1. 0. 2. 2. 0. 3. 3. 0. 3. 2. 3. 1. 2.\n",
            " 1. 2. 0. 1. 2. 3. 1. 1. 1. 2. 0. 1. 3. 2. 3. 0.]\n",
            "[(array([ 1,  2,  3,  4,  5,  6,  7,  8,  9, 10, 11, 12, 13, 14, 15, 16, 17,\n",
            "       18, 19, 20, 21, 22, 23, 24, 25, 26, 27, 28, 29, 30, 31, 32, 33, 34,\n",
            "       35, 36, 37, 38, 39]), array([0])), (array([ 0,  2,  3,  4,  5,  6,  7,  8,  9, 10, 11, 12, 13, 14, 15, 16, 17,\n",
            "       18, 19, 20, 21, 22, 23, 24, 25, 26, 27, 28, 29, 30, 31, 32, 33, 34,\n",
            "       35, 36, 37, 38, 39]), array([1])), (array([ 0,  1,  3,  4,  5,  6,  7,  8,  9, 10, 11, 12, 13, 14, 15, 16, 17,\n",
            "       18, 19, 20, 21, 22, 23, 24, 25, 26, 27, 28, 29, 30, 31, 32, 33, 34,\n",
            "       35, 36, 37, 38, 39]), array([2])), (array([ 0,  1,  2,  4,  5,  6,  7,  8,  9, 10, 11, 12, 13, 14, 15, 16, 17,\n",
            "       18, 19, 20, 21, 22, 23, 24, 25, 26, 27, 28, 29, 30, 31, 32, 33, 34,\n",
            "       35, 36, 37, 38, 39]), array([3])), (array([ 0,  1,  2,  3,  5,  6,  7,  8,  9, 10, 11, 12, 13, 14, 15, 16, 17,\n",
            "       18, 19, 20, 21, 22, 23, 24, 25, 26, 27, 28, 29, 30, 31, 32, 33, 34,\n",
            "       35, 36, 37, 38, 39]), array([4]))]\n"
          ]
        }
      ],
      "source": [
        "print(len(X_tda))\n",
        "print(y_tda)\n",
        "print(fold_indices)"
      ]
    },
    {
      "cell_type": "code",
      "source": [],
      "metadata": {
        "id": "ghvOVl6OLhz7"
      },
      "execution_count": null,
      "outputs": []
    },
    {
      "cell_type": "code",
      "source": [
        "def group_data(X_train_fold, y_train_fold):\n",
        "    grouped_data = {}\n",
        "\n",
        "    for label, data_values in zip(y_train_fold, X_train_fold):\n",
        "        if label not in grouped_data:\n",
        "            grouped_data[label] = []\n",
        "        grouped_data[label].append(data_values)\n",
        "\n",
        "    return grouped_data\n"
      ],
      "metadata": {
        "id": "kG0Q5YOmMazR"
      },
      "execution_count": null,
      "outputs": []
    },
    {
      "cell_type": "code",
      "source": [
        "# Initialize a list to store the evaluation scores\n",
        "from sklearn.metrics import accuracy_score, precision_score, recall_score, f1_score\n",
        "scores_euclidean=[]\n",
        "scores_manhattan=[]\n",
        "scores_chebyshev=[]\n",
        "# Iterate through each fold\n",
        "for train_indices, test_indices in fold_indices:\n",
        "    X_train_fold, y_train_fold = X_tda[train_indices], y_tda[train_indices]\n",
        "    X_test_fold, y_test_fold = X_tda[test_indices], y_tda[test_indices]\n",
        "\n",
        "    #Group the X_train_fold based on y_train fold\n",
        "    grouped_xtrain=group_data(X_train_fold,y_train_fold)\n",
        "    results_xtrain=calculate_min_sum_sample(grouped_xtrain)\n",
        "    # print(results_xtrain)\n",
        "    # tda_result=calculate_distances_and_metrics(X_test_fold,y_test_fold,results_xtrain)\n",
        "    # Call the function\n",
        "    predicted_labels_euclidean, predicted_labels_manhattan, predicted_labels_cosine, predicted_labels_jaccard, predicted_labels_chebyshev = calculate_distances_and_labels(\n",
        "     X_test_fold,results_xtrain\n",
        "    )\n",
        "\n",
        "    # Print or further process the predicted labels\n",
        "    print(\"Predicted Labels (Euclidean):\", predicted_labels_euclidean)\n",
        "    print(\"Predicted Labels (Manhattan):\", predicted_labels_manhattan)\n",
        "\n",
        "\n",
        "    print(\"Predicted Labels (Chebyshev):\", predicted_labels_chebyshev)\n",
        "    print(\"ordinal label\",y_test_fold)\n",
        "\n",
        "    fold_score_euclidean = accuracy_score(y_test_fold, predicted_labels_euclidean)\n",
        "    fold_score_manhattan = accuracy_score(y_test_fold, predicted_labels_manhattan)\n",
        "    fold_score_cosine = accuracy_score(y_test_fold, predicted_labels_cosine)\n",
        "\n",
        "    scores_euclidean.append(fold_score_euclidean)\n",
        "    scores_manhattan.append(fold_score_manhattan )\n",
        "    scores_chebyshev.append(fold_score_cosine )\n",
        "\n",
        "#     # Calculate the accuracy score for this fold\n",
        "#     fold_score = accuracy_score(y_test, y_pred)\n",
        "\n",
        "#     # Append the fold score to the list of scores\n",
        "#     scores.append(fold_score)\n",
        "\n",
        "# # Calculate the mean accuracy across all folds\n",
        "print(\"Euclidean:\",scores_euclidean)\n",
        "print(\"manhattan:\",scores_manhattan)\n",
        "print(\"chebyshev\",scores_chebyshev)\n",
        "mean_accuracy_euclidean = np.mean(scores_euclidean)\n",
        "print(\"K-Fold Cross-Validation Scores:\", scores_euclidean)\n",
        "print(\"Mean Accuracy:\", mean_accuracy_euclidean)\n",
        "\n",
        "# # Calculate the mean accuracy across all folds\n",
        "mean_accuracy_manhattan = np.mean(scores_manhattan)\n",
        "print(\"K-Fold Cross-Validation Scores:\", scores_manhattan)\n",
        "print(\"Mean Accuracy:\", mean_accuracy_manhattan)\n",
        "\n",
        "# # Calculate the mean accuracy across all folds\n",
        "mean_accuracy_chebyshev = np.mean(scores_chebyshev)\n",
        "print(\"K-Fold Cross-Validation Scores:\", scores_chebyshev)\n",
        "print(\"Mean Accuracy:\", mean_accuracy_chebyshev)"
      ],
      "metadata": {
        "colab": {
          "base_uri": "https://localhost:8080/"
        },
        "id": "nsAhrDqSlkIS",
        "outputId": "1e531d43-d6bb-4b88-af09-39fe98ba273c"
      },
      "execution_count": null,
      "outputs": [
        {
          "output_type": "stream",
          "name": "stdout",
          "text": [
            "Predicted Labels (Euclidean): [0.0]\n",
            "Predicted Labels (Manhattan): [0.0]\n",
            "Predicted Labels (Chebyshev): [0.0]\n",
            "ordinal label [2.]\n",
            "Predicted Labels (Euclidean): [3.0]\n",
            "Predicted Labels (Manhattan): [0.0]\n",
            "Predicted Labels (Chebyshev): [3.0]\n",
            "ordinal label [0.]\n",
            "Predicted Labels (Euclidean): [1.0]\n",
            "Predicted Labels (Manhattan): [1.0]\n",
            "Predicted Labels (Chebyshev): [1.0]\n",
            "ordinal label [1.]\n",
            "Predicted Labels (Euclidean): [0.0]\n",
            "Predicted Labels (Manhattan): [0.0]\n",
            "Predicted Labels (Chebyshev): [0.0]\n",
            "ordinal label [3.]\n",
            "Predicted Labels (Euclidean): [3.0]\n",
            "Predicted Labels (Manhattan): [0.0]\n",
            "Predicted Labels (Chebyshev): [3.0]\n",
            "ordinal label [3.]\n",
            "Euclidean: [0.0, 0.0, 1.0, 0.0, 1.0]\n",
            "manhattan: [0.0, 1.0, 1.0, 0.0, 0.0]\n",
            "chebyshev [1.0, 0.0, 0.0, 0.0, 0.0]\n",
            "K-Fold Cross-Validation Scores: [0.0, 0.0, 1.0, 0.0, 1.0]\n",
            "Mean Accuracy: 0.4\n",
            "K-Fold Cross-Validation Scores: [0.0, 1.0, 1.0, 0.0, 0.0]\n",
            "Mean Accuracy: 0.4\n",
            "K-Fold Cross-Validation Scores: [1.0, 0.0, 0.0, 0.0, 0.0]\n",
            "Mean Accuracy: 0.2\n"
          ]
        }
      ]
    },
    {
      "cell_type": "code",
      "source": [
        "import numpy as np\n",
        "import pandas as pd\n",
        "from scipy.spatial.distance import pdist, squareform, cdist\n",
        "\n",
        "def calculate_min_sum_sample(grouped_data):\n",
        "    \"\"\"\n",
        "    Calculate the sample with the minimum sum of pairwise distances for each group in grouped_data.\n",
        "\n",
        "    Parameters:\n",
        "    grouped_data (dict): A dictionary where keys represent group labels and values are lists of samples.\n",
        "\n",
        "    Returns:\n",
        "    dict: A dictionary containing results for each group, where keys are group labels and values are dictionaries\n",
        "          containing the index of the sample with the minimum sum of distances and the sample itself.\n",
        "    \"\"\"\n",
        "\n",
        "    # Dictionary to store the results\n",
        "    results = {}\n",
        "\n",
        "    # Iterate over each group\n",
        "    for label, group in grouped_data.items():\n",
        "        # print(f\"Label {label}:\")\n",
        "\n",
        "        # Convert the list of arrays to a NumPy array\n",
        "        array_group = np.array(group)\n",
        "\n",
        "        # Calculate the pairwise distance matrix\n",
        "        distance_matrix = cdist(array_group, array_group, metric='euclidean')\n",
        "\n",
        "        # print(f\"Distance matrix for key {label}:\\n{distance_matrix}\\n\")\n",
        "\n",
        "        # Convert the pairwise distances to a square matrix\n",
        "        distance_matrix = squareform(distance_matrix)\n",
        "\n",
        "        # Calculate the sum of distances for each column (feature)\n",
        "        sum_distances = distance_matrix.sum(axis=0)\n",
        "\n",
        "        # Find the index of the column with the minimum sum\n",
        "        min_sum_index = sum_distances.argmin()\n",
        "\n",
        "        # Retrieve the original sample based on the index\n",
        "        min_sum_sample = group[min_sum_index]\n",
        "\n",
        "        # Store the results in the dictionary\n",
        "        results[label] = {\n",
        "            'min_sum_index': label,\n",
        "            'min_sum_sample': min_sum_sample\n",
        "        }\n",
        "\n",
        "    return results"
      ],
      "metadata": {
        "id": "0ksyz6Pvp5wz"
      },
      "execution_count": null,
      "outputs": []
    },
    {
      "cell_type": "code",
      "source": [
        "from scipy.spatial.distance import euclidean, cityblock, cosine, jaccard, chebyshev\n",
        "from sklearn.metrics import confusion_matrix, classification_report\n",
        "import seaborn as sns\n",
        "import matplotlib.pyplot as plt\n",
        "\n",
        "def calculate_distances_and_labels(X_test_tda, results):\n",
        "    distances_dict = {}\n",
        "\n",
        "    # Initialize variables to keep track of minimum distance and label for each metric\n",
        "    min_distance_euclidean = float('inf')\n",
        "    min_label_euclidean = None\n",
        "\n",
        "    min_distance_manhattan = float('inf')\n",
        "    min_label_manhattan = None\n",
        "\n",
        "    min_distance_cosine = float('inf')\n",
        "    min_label_cosine = None\n",
        "\n",
        "    min_distance_jaccard = float('inf')\n",
        "    min_label_jaccard = None\n",
        "\n",
        "    min_distance_chebyshev = float('inf')\n",
        "    min_label_chebyshev = None\n",
        "\n",
        "    predicted_labels_euclidean = []\n",
        "    predicted_labels_manhattan = []\n",
        "    predicted_labels_cosine = []\n",
        "    predicted_labels_jaccard = []\n",
        "    predicted_labels_chebyshev = []\n",
        "    count = 0\n",
        "\n",
        "    for each in X_test_tda:\n",
        "        # print(\"count=\", count)\n",
        "        count = count + 1\n",
        "\n",
        "        # Initialize variables for the current sample for each metric\n",
        "        min_distance_sample_euclidean = float('inf')\n",
        "        min_label_sample_euclidean = None\n",
        "\n",
        "        min_distance_sample_manhattan = float('inf')\n",
        "        min_label_sample_manhattan = None\n",
        "\n",
        "        min_distance_sample_cosine = float('inf')\n",
        "        min_label_sample_cosine = None\n",
        "\n",
        "        min_distance_sample_jaccard = float('inf')\n",
        "        min_label_sample_jaccard = None\n",
        "\n",
        "        min_distance_sample_chebyshev = float('inf')\n",
        "        min_label_sample_chebyshev = None\n",
        "\n",
        "        # Iterate over each label in results\n",
        "        for label, result in results.items():\n",
        "            # Extract min_sum_sample for the current label\n",
        "            # print(\"Label is \",label,\" and the result is ,\",result['min_sum_sample'])\n",
        "            min_sum_sample = result['min_sum_sample']\n",
        "\n",
        "            # Check if the shapes match before computing the distance for each metric\n",
        "            if each.shape == min_sum_sample.shape:\n",
        "                # Calculate Euclidean distance\n",
        "                distance_euclidean = euclidean(each, min_sum_sample)\n",
        "                if distance_euclidean < min_distance_sample_euclidean:\n",
        "                    min_distance_sample_euclidean = distance_euclidean\n",
        "                    min_label_sample_euclidean = result['min_sum_index']\n",
        "                # print(\"min_distance_sample_euclidean, \",min_distance_sample_euclidean)\n",
        "                # print(\"min_label_sample_euclidean, \",min_distance_sample_euclidean)\n",
        "                # Calculate Manhattan distance\n",
        "                distance_manhattan = cityblock(each, min_sum_sample)\n",
        "                if distance_manhattan < min_distance_sample_manhattan:\n",
        "                    min_distance_sample_manhattan = distance_manhattan\n",
        "                    min_label_sample_manhattan = result['min_sum_index']\n",
        "\n",
        "                # Calculate Cosine similarity\n",
        "                distance_cosine = 1 - cosine(each, min_sum_sample)\n",
        "                if distance_cosine < min_distance_sample_cosine:\n",
        "                    min_distance_sample_cosine = distance_cosine\n",
        "                    min_label_sample_cosine = result['min_sum_index']\n",
        "\n",
        "                # Calculate Jaccard distance\n",
        "                distance_jaccard = 1 - jaccard(each, min_sum_sample)\n",
        "                if distance_jaccard < min_distance_sample_jaccard:\n",
        "                    min_distance_sample_jaccard = distance_jaccard\n",
        "                    min_label_sample_jaccard = result['min_sum_index']\n",
        "\n",
        "                # Calculate Chebyshev distance\n",
        "                distance_chebyshev = chebyshev(each, min_sum_sample)\n",
        "                if distance_chebyshev < min_distance_sample_chebyshev:\n",
        "                    min_distance_sample_chebyshev = distance_chebyshev\n",
        "                    min_label_sample_chebyshev = result['min_sum_index']\n",
        "\n",
        "        # Update overall minimum distance and label for each metric\n",
        "        if min_distance_sample_euclidean < min_distance_euclidean:\n",
        "            min_distance_euclidean = min_distance_sample_euclidean\n",
        "            min_label_euclidean = min_label_sample_euclidean\n",
        "\n",
        "        if min_distance_sample_manhattan < min_distance_manhattan:\n",
        "            min_distance_manhattan = min_distance_sample_manhattan\n",
        "            min_label_manhattan = min_label_sample_manhattan\n",
        "\n",
        "        if min_distance_sample_cosine < min_distance_cosine:\n",
        "            min_distance_cosine = min_distance_sample_cosine\n",
        "            min_label_cosine = min_label_sample_cosine\n",
        "\n",
        "        if min_distance_sample_jaccard < min_distance_jaccard:\n",
        "            min_distance_jaccard = min_distance_sample_jaccard\n",
        "            min_label_jaccard = min_label_sample_jaccard\n",
        "\n",
        "        if min_distance_sample_chebyshev < min_distance_chebyshev:\n",
        "            min_distance_chebyshev = min_distance_sample_chebyshev\n",
        "            min_label_chebyshev = min_label_sample_chebyshev\n",
        "\n",
        "        predicted_labels_euclidean.append(min_label_sample_euclidean)\n",
        "        predicted_labels_manhattan.append(min_label_sample_manhattan)\n",
        "        predicted_labels_cosine.append(min_label_sample_cosine)\n",
        "        predicted_labels_jaccard.append(min_label_sample_jaccard)\n",
        "        predicted_labels_chebyshev.append(min_label_sample_chebyshev)\n",
        "\n",
        "    return (predicted_labels_euclidean, predicted_labels_manhattan, predicted_labels_cosine, predicted_labels_jaccard, predicted_labels_chebyshev)\n",
        "\n"
      ],
      "metadata": {
        "id": "-tjBBPzpsfSv"
      },
      "execution_count": null,
      "outputs": []
    },
    {
      "cell_type": "code",
      "source": [
        "from sklearn.metrics import precision_score, accuracy_score, recall_score, f1_score\n",
        "import pandas as pd\n",
        "\n",
        "# Create a dictionary to store the results\n",
        "results_dict = {\n",
        "    'Distance Metric': ['Euclidean', 'Manhattan', 'Cosine', 'Jaccard', 'Chebyshev'],\n",
        "    'Precision': [],\n",
        "    'Accuracy': [],\n",
        "    'Recall': [],\n",
        "    'F1 Score': []\n",
        "}\n",
        "\n",
        "# Calculate evaluation metrics for each distance metric\n",
        "for i, predicted_labels in enumerate([predicted_labels_euclidean, predicted_labels_manhattan,\n",
        "                                      predicted_labels_cosine, predicted_labels_jaccard, predicted_labels_chebyshev]):\n",
        "\n",
        "    precision = precision_score(y_test, predicted_labels, average='macro')\n",
        "    accuracy = accuracy_score(y_test, predicted_labels)\n",
        "    recall = recall_score(y_test, predicted_labels, average='macro')\n",
        "    f1 = f1_score(y_test, predicted_labels, average='macro')\n",
        "\n",
        "    results_dict['Precision'].append(precision)\n",
        "    results_dict['Accuracy'].append(accuracy)\n",
        "    results_dict['Recall'].append(recall)\n",
        "    results_dict['F1 Score'].append(f1)\n",
        "\n",
        "# Create a DataFrame from the results dictionary\n",
        "results_df = pd.DataFrame(results_dict)\n",
        "\n",
        "# Print the results table\n",
        "print(results_df)\n"
      ],
      "metadata": {
        "colab": {
          "base_uri": "https://localhost:8080/"
        },
        "id": "nW9C3fyeTymh",
        "outputId": "b5e5e2c6-f42b-4e69-d1a7-63daf6dc93c6"
      },
      "execution_count": null,
      "outputs": [
        {
          "output_type": "stream",
          "name": "stdout",
          "text": [
            "  Distance Metric  Precision  Accuracy  Recall  F1 Score\n",
            "0       Euclidean   0.833333       0.8  0.8125  0.780952\n",
            "1       Manhattan   0.375000       0.4  0.3125  0.339286\n",
            "2          Cosine   0.000000       0.0  0.0000  0.000000\n",
            "3         Jaccard   0.055556       0.2  0.2500  0.090909\n",
            "4       Chebyshev   0.875000       0.8  0.8125  0.797619\n"
          ]
        }
      ]
    },
    {
      "cell_type": "code",
      "execution_count": null,
      "metadata": {
        "id": "MGLTli8IUCHY",
        "colab": {
          "base_uri": "https://localhost:8080/",
          "height": 697
        },
        "outputId": "d4f2fc83-552e-44cc-a636-1f2aa6f9dd2c"
      },
      "outputs": [
        {
          "output_type": "stream",
          "name": "stdout",
          "text": [
            "              precision    recall  f1-score   support\n",
            "\n",
            "         0.0       1.00      0.50      0.67         2\n",
            "         1.0       1.00      0.75      0.86         4\n",
            "         2.0       1.00      1.00      1.00         2\n",
            "         3.0       0.50      1.00      0.67         2\n",
            "\n",
            "    accuracy                           0.80        10\n",
            "   macro avg       0.88      0.81      0.80        10\n",
            "weighted avg       0.90      0.80      0.81        10\n",
            "\n"
          ]
        },
        {
          "output_type": "execute_result",
          "data": {
            "text/plain": [
              "<Axes: >"
            ]
          },
          "metadata": {},
          "execution_count": 39
        },
        {
          "output_type": "display_data",
          "data": {
            "text/plain": [
              "<Figure size 800x550 with 2 Axes>"
            ],
            "image/png": "[encoded data removed]"
          },
          "metadata": {}
        }
      ],
      "source": [
        "from sklearn.metrics import confusion_matrix,classification_report\n",
        "import seaborn as sns\n",
        "\n",
        "#np.argmax(y_test.values, axis=1)\n",
        "print(classification_report(y_test,predicted_labels))\n",
        "\n",
        "\n",
        "cm = confusion_matrix(y_test,predicted_labels)\n",
        "sns.heatmap(cm, cmap='Greens', annot=True, xticklabels=[0,1,2,3], yticklabels=[0,1,2,3])"
      ]
    },
    {
      "cell_type": "code",
      "execution_count": null,
      "metadata": {
        "id": "zeQazZXP23Lt"
      },
      "outputs": [],
      "source": [
        "import pycaret\n",
        "pycaret.__version__\n",
        "import numpy as np\n",
        "\n",
        "# Combine the datasets using numpy.concatenate\n",
        "X_combined = np.concatenate((X_train_tda, X_test_tda), axis=0)\n",
        "y_combined=np.concatenate((y_train, y_test), axis=0)\n"
      ]
    },
    {
      "cell_type": "code",
      "source": [
        "import pycaret\n",
        "pycaret.__version__\n",
        "import numpy as np\n",
        "\n",
        "# Combine the datasets using numpy.concatenate\n",
        "X_combined = np.concatenate((X_train_tda, X_test_tda), axis=0)\n",
        "y_combined=np.concatenate((y_train, y_test), axis=0)\n",
        "import pandas as pd\n",
        "from sklearn.metrics import accuracy_score, precision_score, recall_score, f1_score\n",
        "from sklearn.model_selection import train_test_split\n",
        "from sklearn.neighbors import KNeighborsClassifier\n",
        "from sklearn.naive_bayes import GaussianNB\n",
        "from sklearn.linear_model import LogisticRegression\n",
        "from sklearn.ensemble import RandomForestClassifier, ExtraTreesClassifier, AdaBoostClassifier, GradientBoostingClassifier\n",
        "from sklearn.tree import DecisionTreeClassifier\n",
        "from xgboost import XGBClassifier\n",
        "\n",
        "# Assuming you have your data and labels in X and y\n",
        "\n",
        "# # Split the data into training and testing sets\n",
        "# X_train, X_test, y_train, y_test = train_test_split(X, y, test_size=0.2, random_state=42)\n",
        "\n",
        "# Define models\n",
        "knn_model = KNeighborsClassifier()\n",
        "nb_model = GaussianNB()\n",
        "lr_model = LogisticRegression()\n",
        "rf_model = RandomForestClassifier()\n",
        "et_model = ExtraTreesClassifier()\n",
        "ada_model = AdaBoostClassifier()\n",
        "xgb_model = XGBClassifier()\n",
        "dt_model = DecisionTreeClassifier()\n",
        "\n",
        "# Train the models\n",
        "knn_model.fit(X_train_tda, y_train)\n",
        "nb_model.fit(X_train_tda, y_train)\n",
        "lr_model.fit(X_train_tda, y_train)\n",
        "rf_model.fit(X_train_tda, y_train)\n",
        "et_model.fit(X_train_tda, y_train)\n",
        "ada_model.fit(X_train_tda, y_train)\n",
        "xgb_model.fit(X_train_tda, y_train)\n",
        "dt_model.fit(X_train_tda, y_train)\n",
        "\n",
        "# Make predictions\n",
        "knn_pred = knn_model.predict(X_test_tda)\n",
        "nb_pred = nb_model.predict(X_test_tda)\n",
        "lr_pred = lr_model.predict(X_test_tda)\n",
        "rf_pred = rf_model.predict(X_test_tda)\n",
        "et_pred = et_model.predict(X_test_tda)\n",
        "ada_pred = ada_model.predict(X_test_tda)\n",
        "xgb_pred = xgb_model.predict(X_test_tda)\n",
        "dt_pred = dt_model.predict(X_test_tda)\n",
        "\n",
        "# Calculate evaluation metrics\n",
        "models = ['K Nearest Neighbors', 'Naive Bayes', 'Logistic Regression', 'Random Forest', 'Extra Trees', 'Ada Boost', 'Extreme Gradient Boosting', 'Decision Tree']\n",
        "accuracies = [accuracy_score(y_test, pred) for pred in [knn_pred, nb_pred, lr_pred, rf_pred, et_pred, ada_pred, xgb_pred, dt_pred]]\n",
        "recalls = [recall_score(y_test, pred, average='macro') for pred in [knn_pred, nb_pred, lr_pred, rf_pred, et_pred, ada_pred, xgb_pred, dt_pred]]\n",
        "precisions = [precision_score(y_test, pred, average='macro') for pred in [knn_pred, nb_pred, lr_pred, rf_pred, et_pred, ada_pred, xgb_pred, dt_pred]]\n",
        "f1_scores = [f1_score(y_test, pred, average='macro') for pred in [knn_pred, nb_pred, lr_pred, rf_pred, et_pred, ada_pred, xgb_pred, dt_pred]]\n",
        "\n",
        "# Create a DataFrame\n",
        "results_df = pd.DataFrame({\n",
        "    'Model': models,\n",
        "    'Accuracy': accuracies,\n",
        "    'Recall': recalls,\n",
        "    'Precision': precisions,\n",
        "    'F1 Score': f1_scores\n",
        "})\n",
        "\n",
        "# Print the DataFrame\n",
        "print(results_df)\n"
      ],
      "metadata": {
        "colab": {
          "base_uri": "https://localhost:8080/"
        },
        "id": "afFwOfsfll1F",
        "outputId": "8d9d2462-95b2-40ca-ab20-643ae5f39b78"
      },
      "execution_count": null,
      "outputs": [
        {
          "output_type": "stream",
          "name": "stdout",
          "text": [
            "                       Model  Accuracy  Recall  Precision  F1 Score\n",
            "0        K Nearest Neighbors       0.8  0.7500   0.750000  0.750000\n",
            "1                Naive Bayes       0.8  0.7500   0.625000  0.666667\n",
            "2        Logistic Regression       0.5  0.4375   0.500000  0.464286\n",
            "3              Random Forest       0.7  0.6875   0.750000  0.672619\n",
            "4                Extra Trees       0.7  0.6875   0.708333  0.689286\n",
            "5                  Ada Boost       0.7  0.6875   0.541667  0.580952\n",
            "6  Extreme Gradient Boosting       0.6  0.5625   0.500000  0.514286\n",
            "7              Decision Tree       0.5  0.4375   0.350000  0.357143\n"
          ]
        }
      ]
    },
    {
      "cell_type": "code",
      "source": [
        "# import pycaret classification and init setup\n",
        "from pycaret.classification import *\n",
        "s = setup(X_combined, target = y_combined, session_id = 123,train_size=0.80)"
      ],
      "metadata": {
        "colab": {
          "base_uri": "https://localhost:8080/",
          "height": 645
        },
        "id": "lXHGYrk6euRr",
        "outputId": "01674161-4457-41f5-d65c-0fdee7920659"
      },
      "execution_count": null,
      "outputs": [
        {
          "output_type": "display_data",
          "data": {
            "text/plain": [
              "<pandas.io.formats.style.Styler at 0x79135fdbf7f0>"
            ],
            "text/html": [
              "<style type=\"text/css\">\n",
              "#T_d80e7_row8_col1 {\n",
              "  background-color: lightgreen;\n",
              "}\n",
              "</style>\n",
              "<table id=\"T_d80e7\" class=\"dataframe\">\n",
              "  <thead>\n",
              "    <tr>\n",
              "      <th class=\"blank level0\" >&nbsp;</th>\n",
              "      <th id=\"T_d80e7_level0_col0\" class=\"col_heading level0 col0\" >Description</th>\n",
              "      <th id=\"T_d80e7_level0_col1\" class=\"col_heading level0 col1\" >Value</th>\n",
              "    </tr>\n",
              "  </thead>\n",
              "  <tbody>\n",
              "    <tr>\n",
              "      <th id=\"T_d80e7_level0_row0\" class=\"row_heading level0 row0\" >0</th>\n",
              "      <td id=\"T_d80e7_row0_col0\" class=\"data row0 col0\" >Session id</td>\n",
              "      <td id=\"T_d80e7_row0_col1\" class=\"data row0 col1\" >123</td>\n",
              "    </tr>\n",
              "    <tr>\n",
              "      <th id=\"T_d80e7_level0_row1\" class=\"row_heading level0 row1\" >1</th>\n",
              "      <td id=\"T_d80e7_row1_col0\" class=\"data row1 col0\" >Target</td>\n",
              "      <td id=\"T_d80e7_row1_col1\" class=\"data row1 col1\" >target</td>\n",
              "    </tr>\n",
              "    <tr>\n",
              "      <th id=\"T_d80e7_level0_row2\" class=\"row_heading level0 row2\" >2</th>\n",
              "      <td id=\"T_d80e7_row2_col0\" class=\"data row2 col0\" >Target type</td>\n",
              "      <td id=\"T_d80e7_row2_col1\" class=\"data row2 col1\" >Multiclass</td>\n",
              "    </tr>\n",
              "    <tr>\n",
              "      <th id=\"T_d80e7_level0_row3\" class=\"row_heading level0 row3\" >3</th>\n",
              "      <td id=\"T_d80e7_row3_col0\" class=\"data row3 col0\" >Original data shape</td>\n",
              "      <td id=\"T_d80e7_row3_col1\" class=\"data row3 col1\" >(40, 25)</td>\n",
              "    </tr>\n",
              "    <tr>\n",
              "      <th id=\"T_d80e7_level0_row4\" class=\"row_heading level0 row4\" >4</th>\n",
              "      <td id=\"T_d80e7_row4_col0\" class=\"data row4 col0\" >Transformed data shape</td>\n",
              "      <td id=\"T_d80e7_row4_col1\" class=\"data row4 col1\" >(40, 25)</td>\n",
              "    </tr>\n",
              "    <tr>\n",
              "      <th id=\"T_d80e7_level0_row5\" class=\"row_heading level0 row5\" >5</th>\n",
              "      <td id=\"T_d80e7_row5_col0\" class=\"data row5 col0\" >Transformed train set shape</td>\n",
              "      <td id=\"T_d80e7_row5_col1\" class=\"data row5 col1\" >(32, 25)</td>\n",
              "    </tr>\n",
              "    <tr>\n",
              "      <th id=\"T_d80e7_level0_row6\" class=\"row_heading level0 row6\" >6</th>\n",
              "      <td id=\"T_d80e7_row6_col0\" class=\"data row6 col0\" >Transformed test set shape</td>\n",
              "      <td id=\"T_d80e7_row6_col1\" class=\"data row6 col1\" >(8, 25)</td>\n",
              "    </tr>\n",
              "    <tr>\n",
              "      <th id=\"T_d80e7_level0_row7\" class=\"row_heading level0 row7\" >7</th>\n",
              "      <td id=\"T_d80e7_row7_col0\" class=\"data row7 col0\" >Numeric features</td>\n",
              "      <td id=\"T_d80e7_row7_col1\" class=\"data row7 col1\" >24</td>\n",
              "    </tr>\n",
              "    <tr>\n",
              "      <th id=\"T_d80e7_level0_row8\" class=\"row_heading level0 row8\" >8</th>\n",
              "      <td id=\"T_d80e7_row8_col0\" class=\"data row8 col0\" >Preprocess</td>\n",
              "      <td id=\"T_d80e7_row8_col1\" class=\"data row8 col1\" >True</td>\n",
              "    </tr>\n",
              "    <tr>\n",
              "      <th id=\"T_d80e7_level0_row9\" class=\"row_heading level0 row9\" >9</th>\n",
              "      <td id=\"T_d80e7_row9_col0\" class=\"data row9 col0\" >Imputation type</td>\n",
              "      <td id=\"T_d80e7_row9_col1\" class=\"data row9 col1\" >simple</td>\n",
              "    </tr>\n",
              "    <tr>\n",
              "      <th id=\"T_d80e7_level0_row10\" class=\"row_heading level0 row10\" >10</th>\n",
              "      <td id=\"T_d80e7_row10_col0\" class=\"data row10 col0\" >Numeric imputation</td>\n",
              "      <td id=\"T_d80e7_row10_col1\" class=\"data row10 col1\" >mean</td>\n",
              "    </tr>\n",
              "    <tr>\n",
              "      <th id=\"T_d80e7_level0_row11\" class=\"row_heading level0 row11\" >11</th>\n",
              "      <td id=\"T_d80e7_row11_col0\" class=\"data row11 col0\" >Categorical imputation</td>\n",
              "      <td id=\"T_d80e7_row11_col1\" class=\"data row11 col1\" >mode</td>\n",
              "    </tr>\n",
              "    <tr>\n",
              "      <th id=\"T_d80e7_level0_row12\" class=\"row_heading level0 row12\" >12</th>\n",
              "      <td id=\"T_d80e7_row12_col0\" class=\"data row12 col0\" >Fold Generator</td>\n",
              "      <td id=\"T_d80e7_row12_col1\" class=\"data row12 col1\" >StratifiedKFold</td>\n",
              "    </tr>\n",
              "    <tr>\n",
              "      <th id=\"T_d80e7_level0_row13\" class=\"row_heading level0 row13\" >13</th>\n",
              "      <td id=\"T_d80e7_row13_col0\" class=\"data row13 col0\" >Fold Number</td>\n",
              "      <td id=\"T_d80e7_row13_col1\" class=\"data row13 col1\" >10</td>\n",
              "    </tr>\n",
              "    <tr>\n",
              "      <th id=\"T_d80e7_level0_row14\" class=\"row_heading level0 row14\" >14</th>\n",
              "      <td id=\"T_d80e7_row14_col0\" class=\"data row14 col0\" >CPU Jobs</td>\n",
              "      <td id=\"T_d80e7_row14_col1\" class=\"data row14 col1\" >-1</td>\n",
              "    </tr>\n",
              "    <tr>\n",
              "      <th id=\"T_d80e7_level0_row15\" class=\"row_heading level0 row15\" >15</th>\n",
              "      <td id=\"T_d80e7_row15_col0\" class=\"data row15 col0\" >Use GPU</td>\n",
              "      <td id=\"T_d80e7_row15_col1\" class=\"data row15 col1\" >False</td>\n",
              "    </tr>\n",
              "    <tr>\n",
              "      <th id=\"T_d80e7_level0_row16\" class=\"row_heading level0 row16\" >16</th>\n",
              "      <td id=\"T_d80e7_row16_col0\" class=\"data row16 col0\" >Log Experiment</td>\n",
              "      <td id=\"T_d80e7_row16_col1\" class=\"data row16 col1\" >False</td>\n",
              "    </tr>\n",
              "    <tr>\n",
              "      <th id=\"T_d80e7_level0_row17\" class=\"row_heading level0 row17\" >17</th>\n",
              "      <td id=\"T_d80e7_row17_col0\" class=\"data row17 col0\" >Experiment Name</td>\n",
              "      <td id=\"T_d80e7_row17_col1\" class=\"data row17 col1\" >clf-default-name</td>\n",
              "    </tr>\n",
              "    <tr>\n",
              "      <th id=\"T_d80e7_level0_row18\" class=\"row_heading level0 row18\" >18</th>\n",
              "      <td id=\"T_d80e7_row18_col0\" class=\"data row18 col0\" >USI</td>\n",
              "      <td id=\"T_d80e7_row18_col1\" class=\"data row18 col1\" >d31d</td>\n",
              "    </tr>\n",
              "  </tbody>\n",
              "</table>\n"
            ]
          },
          "metadata": {}
        }
      ]
    },
    {
      "cell_type": "code",
      "source": [
        "best = compare_models()\n",
        "# compare models using OOP\n",
        "# functional API\n",
        "evaluate_model(best)"
      ],
      "metadata": {
        "colab": {
          "base_uri": "https://localhost:8080/",
          "height": 495,
          "referenced_widgets": [
            "496b9ac7b86c4d16a95df3320bdbf1ae",
            "31647b7deb4d4e2eb0d4af13e0de168a",
            "a6822e13e912412f97eb1547cf057dbc",
            "cf8cd13b3b9e47d09c337abec4a9d264",
            "9ee12fd4aef647f6885630dc4a7a2946",
            "54d55698e7f746428bb90e81693ebcb0",
            "3e293c375baa43ea812a78e1ec84b902",
            "176d3a6ed27545d19f39cd545834be6a",
            "db5e9f93515a418c8af5cd523bd80f06",
            "08cf699e0ce14f6186a731ce307a380f",
            "33b689033848426dadf4b218a2e899cf",
            "5fa517e51edb4b168cf596062b7cbbdc",
            "6e517cea19944441baef3062fc5bbd6c",
            "348412e459af4d03ae6fb95a5cc663d7",
            "28fae5fe208145b7abbe8e5ac57441d8",
            "29c4299a03a5463584e9f6379c0ac1ad",
            "9b65bd4addfe47728c284f33d31187a3",
            "f6c0f2b42d044329b11b6c1fa859757f"
          ]
        },
        "id": "8bOmKBvRe0c9",
        "outputId": "efddabb0-a20e-46cc-e143-325943d2bc13"
      },
      "execution_count": null,
      "outputs": [
        {
          "output_type": "display_data",
          "data": {
            "text/plain": [
              "<IPython.core.display.HTML object>"
            ],
            "text/html": []
          },
          "metadata": {}
        },
        {
          "output_type": "display_data",
          "data": {
            "text/plain": [
              "<pandas.io.formats.style.Styler at 0x79137a6b3c70>"
            ],
            "text/html": [
              "<style type=\"text/css\">\n",
              "</style>\n",
              "<table id=\"T_22dcb\" class=\"dataframe\">\n",
              "  <thead>\n",
              "  </thead>\n",
              "  <tbody>\n",
              "  </tbody>\n",
              "</table>\n"
            ]
          },
          "metadata": {}
        },
        {
          "output_type": "display_data",
          "data": {
            "text/plain": [
              "Processing:   0%|          | 0/65 [00:00<?, ?it/s]"
            ],
            "application/vnd.jupyter.widget-view+json": {
              "version_major": 2,
              "version_minor": 0,
              "model_id": "496b9ac7b86c4d16a95df3320bdbf1ae"
            }
          },
          "metadata": {
            "application/vnd.jupyter.widget-view+json": {
              "colab": {
                "custom_widget_manager": {
                  "url": "https://ssl.gstatic.com/colaboratory-static/widgets/colab-cdn-widget-manager/b3e629b1971e1542/manager.min.js"
                }
              }
            }
          }
        },
        {
          "output_type": "display_data",
          "data": {
            "text/plain": [
              "<IPython.core.display.HTML object>"
            ],
            "text/html": []
          },
          "metadata": {}
        },
        {
          "output_type": "display_data",
          "data": {
            "text/plain": [
              "interactive(children=(ToggleButtons(description='Plot Type:', icons=('',), options=(('Pipeline Plot', 'pipelin…"
            ],
            "application/vnd.jupyter.widget-view+json": {
              "version_major": 2,
              "version_minor": 0,
              "model_id": "29c4299a03a5463584e9f6379c0ac1ad"
            }
          },
          "metadata": {
            "application/vnd.jupyter.widget-view+json": {
              "colab": {
                "custom_widget_manager": {
                  "url": "https://ssl.gstatic.com/colaboratory-static/widgets/colab-cdn-widget-manager/b3e629b1971e1542/manager.min.js"
                }
              }
            }
          }
        }
      ]
    }
  ],
  "metadata": {
    "colab": {
      "provenance": [],
      "authorship_tag": "ABX9TyNItX6iD+gipZa39Rg+wIYr",
      "include_colab_link": true
    },
    "kernelspec": {
      "display_name": "Python 3",
      "name": "python3"
    },
    "language_info": {
      "name": "python"
    },
    "widgets": {
      "application/vnd.jupyter.widget-state+json": {
        "496b9ac7b86c4d16a95df3320bdbf1ae": {
          "model_module": "@jupyter-widgets/controls",
          "model_name": "HBoxModel",
          "model_module_version": "1.5.0",
          "state": {
            "_dom_classes": [],
            "_model_module": "@jupyter-widgets/controls",
            "_model_module_version": "1.5.0",
            "_model_name": "HBoxModel",
            "_view_count": null,
            "_view_module": "@jupyter-widgets/controls",
            "_view_module_version": "1.5.0",
            "_view_name": "HBoxView",
            "box_style": "",
            "children": [
              "IPY_MODEL_31647b7deb4d4e2eb0d4af13e0de168a",
              "IPY_MODEL_a6822e13e912412f97eb1547cf057dbc",
              "IPY_MODEL_cf8cd13b3b9e47d09c337abec4a9d264"
            ],
            "layout": "IPY_MODEL_9ee12fd4aef647f6885630dc4a7a2946"
          }
        },
        "31647b7deb4d4e2eb0d4af13e0de168a": {
          "model_module": "@jupyter-widgets/controls",
          "model_name": "HTMLModel",
          "model_module_version": "1.5.0",
          "state": {
            "_dom_classes": [],
            "_model_module": "@jupyter-widgets/controls",
            "_model_module_version": "1.5.0",
            "_model_name": "HTMLModel",
            "_view_count": null,
            "_view_module": "@jupyter-widgets/controls",
            "_view_module_version": "1.5.0",
            "_view_name": "HTMLView",
            "description": "",
            "description_tooltip": null,
            "layout": "IPY_MODEL_54d55698e7f746428bb90e81693ebcb0",
            "placeholder": "​",
            "style": "IPY_MODEL_3e293c375baa43ea812a78e1ec84b902",
            "value": "Processing:  98%"
          }
        },
        "a6822e13e912412f97eb1547cf057dbc": {
          "model_module": "@jupyter-widgets/controls",
          "model_name": "FloatProgressModel",
          "model_module_version": "1.5.0",
          "state": {
            "_dom_classes": [],
            "_model_module": "@jupyter-widgets/controls",
            "_model_module_version": "1.5.0",
            "_model_name": "FloatProgressModel",
            "_view_count": null,
            "_view_module": "@jupyter-widgets/controls",
            "_view_module_version": "1.5.0",
            "_view_name": "ProgressView",
            "bar_style": "danger",
            "description": "",
            "description_tooltip": null,
            "layout": "IPY_MODEL_176d3a6ed27545d19f39cd545834be6a",
            "max": 65,
            "min": 0,
            "orientation": "horizontal",
            "style": "IPY_MODEL_db5e9f93515a418c8af5cd523bd80f06",
            "value": 64
          }
        },
        "cf8cd13b3b9e47d09c337abec4a9d264": {
          "model_module": "@jupyter-widgets/controls",
          "model_name": "HTMLModel",
          "model_module_version": "1.5.0",
          "state": {
            "_dom_classes": [],
            "_model_module": "@jupyter-widgets/controls",
            "_model_module_version": "1.5.0",
            "_model_name": "HTMLModel",
            "_view_count": null,
            "_view_module": "@jupyter-widgets/controls",
            "_view_module_version": "1.5.0",
            "_view_name": "HTMLView",
            "description": "",
            "description_tooltip": null,
            "layout": "IPY_MODEL_08cf699e0ce14f6186a731ce307a380f",
            "placeholder": "​",
            "style": "IPY_MODEL_33b689033848426dadf4b218a2e899cf",
            "value": " 64/65 [00:01&lt;00:00, 38.63it/s]"
          }
        },
        "9ee12fd4aef647f6885630dc4a7a2946": {
          "model_module": "@jupyter-widgets/base",
          "model_name": "LayoutModel",
          "model_module_version": "1.2.0",
          "state": {
            "_model_module": "@jupyter-widgets/base",
            "_model_module_version": "1.2.0",
            "_model_name": "LayoutModel",
            "_view_count": null,
            "_view_module": "@jupyter-widgets/base",
            "_view_module_version": "1.2.0",
            "_view_name": "LayoutView",
            "align_content": null,
            "align_items": null,
            "align_self": null,
            "border": null,
            "bottom": null,
            "display": null,
            "flex": null,
            "flex_flow": null,
            "grid_area": null,
            "grid_auto_columns": null,
            "grid_auto_flow": null,
            "grid_auto_rows": null,
            "grid_column": null,
            "grid_gap": null,
            "grid_row": null,
            "grid_template_areas": null,
            "grid_template_columns": null,
            "grid_template_rows": null,
            "height": null,
            "justify_content": null,
            "justify_items": null,
            "left": null,
            "margin": null,
            "max_height": null,
            "max_width": null,
            "min_height": null,
            "min_width": null,
            "object_fit": null,
            "object_position": null,
            "order": null,
            "overflow": null,
            "overflow_x": null,
            "overflow_y": null,
            "padding": null,
            "right": null,
            "top": null,
            "visibility": null,
            "width": null
          }
        },
        "54d55698e7f746428bb90e81693ebcb0": {
          "model_module": "@jupyter-widgets/base",
          "model_name": "LayoutModel",
          "model_module_version": "1.2.0",
          "state": {
            "_model_module": "@jupyter-widgets/base",
            "_model_module_version": "1.2.0",
            "_model_name": "LayoutModel",
            "_view_count": null,
            "_view_module": "@jupyter-widgets/base",
            "_view_module_version": "1.2.0",
            "_view_name": "LayoutView",
            "align_content": null,
            "align_items": null,
            "align_self": null,
            "border": null,
            "bottom": null,
            "display": null,
            "flex": null,
            "flex_flow": null,
            "grid_area": null,
            "grid_auto_columns": null,
            "grid_auto_flow": null,
            "grid_auto_rows": null,
            "grid_column": null,
            "grid_gap": null,
            "grid_row": null,
            "grid_template_areas": null,
            "grid_template_columns": null,
            "grid_template_rows": null,
            "height": null,
            "justify_content": null,
            "justify_items": null,
            "left": null,
            "margin": null,
            "max_height": null,
            "max_width": null,
            "min_height": null,
            "min_width": null,
            "object_fit": null,
            "object_position": null,
            "order": null,
            "overflow": null,
            "overflow_x": null,
            "overflow_y": null,
            "padding": null,
            "right": null,
            "top": null,
            "visibility": null,
            "width": null
          }
        },
        "3e293c375baa43ea812a78e1ec84b902": {
          "model_module": "@jupyter-widgets/controls",
          "model_name": "DescriptionStyleModel",
          "model_module_version": "1.5.0",
          "state": {
            "_model_module": "@jupyter-widgets/controls",
            "_model_module_version": "1.5.0",
            "_model_name": "DescriptionStyleModel",
            "_view_count": null,
            "_view_module": "@jupyter-widgets/base",
            "_view_module_version": "1.2.0",
            "_view_name": "StyleView",
            "description_width": ""
          }
        },
        "176d3a6ed27545d19f39cd545834be6a": {
          "model_module": "@jupyter-widgets/base",
          "model_name": "LayoutModel",
          "model_module_version": "1.2.0",
          "state": {
            "_model_module": "@jupyter-widgets/base",
            "_model_module_version": "1.2.0",
            "_model_name": "LayoutModel",
            "_view_count": null,
            "_view_module": "@jupyter-widgets/base",
            "_view_module_version": "1.2.0",
            "_view_name": "LayoutView",
            "align_content": null,
            "align_items": null,
            "align_self": null,
            "border": null,
            "bottom": null,
            "display": null,
            "flex": null,
            "flex_flow": null,
            "grid_area": null,
            "grid_auto_columns": null,
            "grid_auto_flow": null,
            "grid_auto_rows": null,
            "grid_column": null,
            "grid_gap": null,
            "grid_row": null,
            "grid_template_areas": null,
            "grid_template_columns": null,
            "grid_template_rows": null,
            "height": null,
            "justify_content": null,
            "justify_items": null,
            "left": null,
            "margin": null,
            "max_height": null,
            "max_width": null,
            "min_height": null,
            "min_width": null,
            "object_fit": null,
            "object_position": null,
            "order": null,
            "overflow": null,
            "overflow_x": null,
            "overflow_y": null,
            "padding": null,
            "right": null,
            "top": null,
            "visibility": null,
            "width": null
          }
        },
        "db5e9f93515a418c8af5cd523bd80f06": {
          "model_module": "@jupyter-widgets/controls",
          "model_name": "ProgressStyleModel",
          "model_module_version": "1.5.0",
          "state": {
            "_model_module": "@jupyter-widgets/controls",
            "_model_module_version": "1.5.0",
            "_model_name": "ProgressStyleModel",
            "_view_count": null,
            "_view_module": "@jupyter-widgets/base",
            "_view_module_version": "1.2.0",
            "_view_name": "StyleView",
            "bar_color": null,
            "description_width": ""
          }
        },
        "08cf699e0ce14f6186a731ce307a380f": {
          "model_module": "@jupyter-widgets/base",
          "model_name": "LayoutModel",
          "model_module_version": "1.2.0",
          "state": {
            "_model_module": "@jupyter-widgets/base",
            "_model_module_version": "1.2.0",
            "_model_name": "LayoutModel",
            "_view_count": null,
            "_view_module": "@jupyter-widgets/base",
            "_view_module_version": "1.2.0",
            "_view_name": "LayoutView",
            "align_content": null,
            "align_items": null,
            "align_self": null,
            "border": null,
            "bottom": null,
            "display": null,
            "flex": null,
            "flex_flow": null,
            "grid_area": null,
            "grid_auto_columns": null,
            "grid_auto_flow": null,
            "grid_auto_rows": null,
            "grid_column": null,
            "grid_gap": null,
            "grid_row": null,
            "grid_template_areas": null,
            "grid_template_columns": null,
            "grid_template_rows": null,
            "height": null,
            "justify_content": null,
            "justify_items": null,
            "left": null,
            "margin": null,
            "max_height": null,
            "max_width": null,
            "min_height": null,
            "min_width": null,
            "object_fit": null,
            "object_position": null,
            "order": null,
            "overflow": null,
            "overflow_x": null,
            "overflow_y": null,
            "padding": null,
            "right": null,
            "top": null,
            "visibility": null,
            "width": null
          }
        },
        "33b689033848426dadf4b218a2e899cf": {
          "model_module": "@jupyter-widgets/controls",
          "model_name": "DescriptionStyleModel",
          "model_module_version": "1.5.0",
          "state": {
            "_model_module": "@jupyter-widgets/controls",
            "_model_module_version": "1.5.0",
            "_model_name": "DescriptionStyleModel",
            "_view_count": null,
            "_view_module": "@jupyter-widgets/base",
            "_view_module_version": "1.2.0",
            "_view_name": "StyleView",
            "description_width": ""
          }
        },
        "5fa517e51edb4b168cf596062b7cbbdc": {
          "model_module": "@jupyter-widgets/base",
          "model_name": "LayoutModel",
          "model_module_version": "1.2.0",
          "state": {
            "_model_module": "@jupyter-widgets/base",
            "_model_module_version": "1.2.0",
            "_model_name": "LayoutModel",
            "_view_count": null,
            "_view_module": "@jupyter-widgets/base",
            "_view_module_version": "1.2.0",
            "_view_name": "LayoutView",
            "align_content": null,
            "align_items": null,
            "align_self": null,
            "border": null,
            "bottom": null,
            "display": null,
            "flex": null,
            "flex_flow": null,
            "grid_area": null,
            "grid_auto_columns": null,
            "grid_auto_flow": null,
            "grid_auto_rows": null,
            "grid_column": null,
            "grid_gap": null,
            "grid_row": null,
            "grid_template_areas": null,
            "grid_template_columns": null,
            "grid_template_rows": null,
            "height": null,
            "justify_content": null,
            "justify_items": null,
            "left": null,
            "margin": null,
            "max_height": null,
            "max_width": null,
            "min_height": null,
            "min_width": null,
            "object_fit": null,
            "object_position": null,
            "order": null,
            "overflow": null,
            "overflow_x": null,
            "overflow_y": null,
            "padding": null,
            "right": null,
            "top": null,
            "visibility": null,
            "width": null
          }
        },
        "6e517cea19944441baef3062fc5bbd6c": {
          "model_module": "@jupyter-widgets/controls",
          "model_name": "ToggleButtonsStyleModel",
          "model_module_version": "1.5.0",
          "state": {
            "_model_module": "@jupyter-widgets/controls",
            "_model_module_version": "1.5.0",
            "_model_name": "ToggleButtonsStyleModel",
            "_view_count": null,
            "_view_module": "@jupyter-widgets/base",
            "_view_module_version": "1.2.0",
            "_view_name": "StyleView",
            "button_width": "",
            "description_width": "",
            "font_weight": ""
          }
        },
        "348412e459af4d03ae6fb95a5cc663d7": {
          "model_module": "@jupyter-widgets/base",
          "model_name": "LayoutModel",
          "model_module_version": "1.2.0",
          "state": {
            "_model_module": "@jupyter-widgets/base",
            "_model_module_version": "1.2.0",
            "_model_name": "LayoutModel",
            "_view_count": null,
            "_view_module": "@jupyter-widgets/base",
            "_view_module_version": "1.2.0",
            "_view_name": "LayoutView",
            "align_content": null,
            "align_items": null,
            "align_self": null,
            "border": null,
            "bottom": null,
            "display": null,
            "flex": null,
            "flex_flow": null,
            "grid_area": null,
            "grid_auto_columns": null,
            "grid_auto_flow": null,
            "grid_auto_rows": null,
            "grid_column": null,
            "grid_gap": null,
            "grid_row": null,
            "grid_template_areas": null,
            "grid_template_columns": null,
            "grid_template_rows": null,
            "height": null,
            "justify_content": null,
            "justify_items": null,
            "left": null,
            "margin": null,
            "max_height": null,
            "max_width": null,
            "min_height": null,
            "min_width": null,
            "object_fit": null,
            "object_position": null,
            "order": null,
            "overflow": null,
            "overflow_x": null,
            "overflow_y": null,
            "padding": null,
            "right": null,
            "top": null,
            "visibility": null,
            "width": null
          }
        },
        "28fae5fe208145b7abbe8e5ac57441d8": {
          "model_module": "@jupyter-widgets/base",
          "model_name": "LayoutModel",
          "model_module_version": "1.2.0",
          "state": {
            "_model_module": "@jupyter-widgets/base",
            "_model_module_version": "1.2.0",
            "_model_name": "LayoutModel",
            "_view_count": null,
            "_view_module": "@jupyter-widgets/base",
            "_view_module_version": "1.2.0",
            "_view_name": "LayoutView",
            "align_content": null,
            "align_items": null,
            "align_self": null,
            "border": null,
            "bottom": null,
            "display": null,
            "flex": null,
            "flex_flow": null,
            "grid_area": null,
            "grid_auto_columns": null,
            "grid_auto_flow": null,
            "grid_auto_rows": null,
            "grid_column": null,
            "grid_gap": null,
            "grid_row": null,
            "grid_template_areas": null,
            "grid_template_columns": null,
            "grid_template_rows": null,
            "height": null,
            "justify_content": null,
            "justify_items": null,
            "left": null,
            "margin": null,
            "max_height": null,
            "max_width": null,
            "min_height": null,
            "min_width": null,
            "object_fit": null,
            "object_position": null,
            "order": null,
            "overflow": null,
            "overflow_x": null,
            "overflow_y": null,
            "padding": null,
            "right": null,
            "top": null,
            "visibility": null,
            "width": null
          }
        },
        "29c4299a03a5463584e9f6379c0ac1ad": {
          "model_module": "@jupyter-widgets/controls",
          "model_name": "VBoxModel",
          "model_module_version": "1.5.0",
          "state": {
            "_dom_classes": [
              "widget-interact"
            ],
            "_model_module": "@jupyter-widgets/controls",
            "_model_module_version": "1.5.0",
            "_model_name": "VBoxModel",
            "_view_count": null,
            "_view_module": "@jupyter-widgets/controls",
            "_view_module_version": "1.5.0",
            "_view_name": "VBoxView",
            "box_style": "",
            "children": [
              "IPY_MODEL_9b65bd4addfe47728c284f33d31187a3",
              "IPY_MODEL_f6c0f2b42d044329b11b6c1fa859757f"
            ],
            "layout": "IPY_MODEL_348412e459af4d03ae6fb95a5cc663d7"
          }
        },
        "9b65bd4addfe47728c284f33d31187a3": {
          "model_module": "@jupyter-widgets/controls",
          "model_name": "ToggleButtonsModel",
          "model_module_version": "1.5.0",
          "state": {
            "_dom_classes": [],
            "_model_module": "@jupyter-widgets/controls",
            "_model_module_version": "1.5.0",
            "_model_name": "ToggleButtonsModel",
            "_options_labels": [
              "Pipeline Plot",
              "Hyperparameters",
              "AUC",
              "Confusion Matrix",
              "Threshold",
              "Precision Recall",
              "Prediction Error",
              "Class Report",
              "Feature Selection",
              "Learning Curve",
              "Manifold Learning",
              "Calibration Curve",
              "Validation Curve",
              "Dimensions",
              "Feature Importance",
              "Feature Importance (All)",
              "Decision Boundary",
              "Lift Chart",
              "Gain Chart",
              "Decision Tree",
              "KS Statistic Plot"
            ],
            "_view_count": null,
            "_view_module": "@jupyter-widgets/controls",
            "_view_module_version": "1.5.0",
            "_view_name": "ToggleButtonsView",
            "button_style": "",
            "description": "Plot Type:",
            "description_tooltip": null,
            "disabled": false,
            "icons": [
              ""
            ],
            "index": 0,
            "layout": "IPY_MODEL_5fa517e51edb4b168cf596062b7cbbdc",
            "style": "IPY_MODEL_6e517cea19944441baef3062fc5bbd6c",
            "tooltips": []
          }
        },
        "f6c0f2b42d044329b11b6c1fa859757f": {
          "model_module": "@jupyter-widgets/output",
          "model_name": "OutputModel",
          "model_module_version": "1.0.0",
          "state": {
            "_dom_classes": [],
            "_model_module": "@jupyter-widgets/output",
            "_model_module_version": "1.0.0",
            "_model_name": "OutputModel",
            "_view_count": null,
            "_view_module": "@jupyter-widgets/output",
            "_view_module_version": "1.0.0",
            "_view_name": "OutputView",
            "layout": "IPY_MODEL_28fae5fe208145b7abbe8e5ac57441d8",
            "msg_id": "",
            "outputs": [
              {
                "output_type": "error",
                "ename": "ValueError",
                "evalue": "ignored",
                "traceback": [
                  "\u001b[0;31m---------------------------------------------------------------------------\u001b[0m",
                  "\u001b[0;31mValueError\u001b[0m                                Traceback (most recent call last)",
                  "\u001b[0;32m/usr/local/lib/python3.10/dist-packages/ipywidgets/widgets/interaction.py\u001b[0m in \u001b[0;36mupdate\u001b[0;34m(self, *args)\u001b[0m\n\u001b[1;32m    255\u001b[0m                     \u001b[0mvalue\u001b[0m \u001b[0;34m=\u001b[0m \u001b[0mwidget\u001b[0m\u001b[0;34m.\u001b[0m\u001b[0mget_interact_value\u001b[0m\u001b[0;34m(\u001b[0m\u001b[0;34m)\u001b[0m\u001b[0;34m\u001b[0m\u001b[0;34m\u001b[0m\u001b[0m\n\u001b[1;32m    256\u001b[0m                     \u001b[0mself\u001b[0m\u001b[0;34m.\u001b[0m\u001b[0mkwargs\u001b[0m\u001b[0;34m[\u001b[0m\u001b[0mwidget\u001b[0m\u001b[0;34m.\u001b[0m\u001b[0m_kwarg\u001b[0m\u001b[0;34m]\u001b[0m \u001b[0;34m=\u001b[0m \u001b[0mvalue\u001b[0m\u001b[0;34m\u001b[0m\u001b[0;34m\u001b[0m\u001b[0m\n\u001b[0;32m--> 257\u001b[0;31m                 \u001b[0mself\u001b[0m\u001b[0;34m.\u001b[0m\u001b[0mresult\u001b[0m \u001b[0;34m=\u001b[0m \u001b[0mself\u001b[0m\u001b[0;34m.\u001b[0m\u001b[0mf\u001b[0m\u001b[0;34m(\u001b[0m\u001b[0;34m**\u001b[0m\u001b[0mself\u001b[0m\u001b[0;34m.\u001b[0m\u001b[0mkwargs\u001b[0m\u001b[0;34m)\u001b[0m\u001b[0;34m\u001b[0m\u001b[0;34m\u001b[0m\u001b[0m\n\u001b[0m\u001b[1;32m    258\u001b[0m                 \u001b[0mshow_inline_matplotlib_plots\u001b[0m\u001b[0;34m(\u001b[0m\u001b[0;34m)\u001b[0m\u001b[0;34m\u001b[0m\u001b[0;34m\u001b[0m\u001b[0m\n\u001b[1;32m    259\u001b[0m                 \u001b[0;32mif\u001b[0m \u001b[0mself\u001b[0m\u001b[0;34m.\u001b[0m\u001b[0mauto_display\u001b[0m \u001b[0;32mand\u001b[0m \u001b[0mself\u001b[0m\u001b[0;34m.\u001b[0m\u001b[0mresult\u001b[0m \u001b[0;32mis\u001b[0m \u001b[0;32mnot\u001b[0m \u001b[0;32mNone\u001b[0m\u001b[0;34m:\u001b[0m\u001b[0;34m\u001b[0m\u001b[0;34m\u001b[0m\u001b[0m\n",
                  "\u001b[0;32m/usr/local/lib/python3.10/dist-packages/pycaret/internal/pycaret_experiment/tabular_experiment.py\u001b[0m in \u001b[0;36m_plot_model\u001b[0;34m(self, estimator, plot, scale, save, fold, fit_kwargs, plot_kwargs, groups, feature_name, label, verbose, system, display, display_format)\u001b[0m\n\u001b[1;32m    404\u001b[0m \u001b[0;34m\u001b[0m\u001b[0m\n\u001b[1;32m    405\u001b[0m         \u001b[0;32mif\u001b[0m \u001b[0;32mnot\u001b[0m \u001b[0mhasattr\u001b[0m\u001b[0;34m(\u001b[0m\u001b[0mestimator\u001b[0m\u001b[0;34m,\u001b[0m \u001b[0;34m\"fit\"\u001b[0m\u001b[0;34m)\u001b[0m\u001b[0;34m:\u001b[0m\u001b[0;34m\u001b[0m\u001b[0;34m\u001b[0m\u001b[0m\n\u001b[0;32m--> 406\u001b[0;31m             raise ValueError(\n\u001b[0m\u001b[1;32m    407\u001b[0m                 \u001b[0;34mf\"Estimator {estimator} does not have the required fit() method.\"\u001b[0m\u001b[0;34m\u001b[0m\u001b[0;34m\u001b[0m\u001b[0m\n\u001b[1;32m    408\u001b[0m             )\n",
                  "\u001b[0;31mValueError\u001b[0m: Estimator [] does not have the required fit() method."
                ]
              }
            ]
          }
        }
      }
    }
  },
  "nbformat": 4,
  "nbformat_minor": 0
}